{
 "cells": [
  {
   "cell_type": "markdown",
   "metadata": {},
   "source": [
    "# __Chapter 9: Univariate Time Series Analysis__\n",
    "\n",
    "<br>\n",
    "\n",
    "__Finance 5330: Financial Econometrics__ <br>\n",
    "Tyler J. Brough <br>\n",
    "Created:      January 27, 2020 <br>\n",
    "Last Updated: January 27, 2020 <br>\n",
    "<br>"
   ]
  },
  {
   "cell_type": "markdown",
   "metadata": {},
   "source": [
    "## Nota Bene\n",
    "\n",
    "* These notes are based on Chapter 9 of the book _Analysis of Financial Data_ by Gary Koop.\n",
    "\n",
    "* We will cover the same material at a deeper mathematical and statistical level in Chapter 10 of the book _Market Models_ by Carol Alexander. "
   ]
  },
  {
   "cell_type": "markdown",
   "metadata": {},
   "source": [
    "## Introduction to Univariate Time Series Analysis\n",
    "\n",
    "The point of departure for this chapter is the linear regression model with lagged variables:\n",
    "\n",
    "$$\n",
    "Y_{t} = \\alpha + \\beta_{0} X_{t} + \\beta_{1} X_{t-1} + \\beta_{2} X_{t-2} + \\cdots + \\beta_{p} X_{t-p} + \\varepsilon_{t}\n",
    "$$\n",
    "\n",
    "Such models are a useful first step in understanding important concepts in time series analysis. Often these _distributed lag models_ can be used without problems, but can be misleading when: \n",
    "\n",
    "* the dependent variable $Y_{t}$ depends on lags of itself\n",
    "\n",
    "* the variables are nonstationary (to be defined)\n",
    "\n",
    "In this chapter we ignore the $X$ variable and focus entirely on $Y$. These are called __univariate time series__ methods. \n",
    "\n",
    "It is important to understand the properties of each individual series before proceeding to regression modelling involving several series. "
   ]
  },
  {
   "cell_type": "markdown",
   "metadata": {},
   "source": [
    "### Example: Stock Prices on the NYSE\n",
    "\n"
   ]
  },
  {
   "cell_type": "code",
   "execution_count": 4,
   "metadata": {},
   "outputs": [
    {
     "data": {
      "text/html": [
       "<table class=\"data-frame\"><thead><tr><th></th><th>Date</th><th>Return</th></tr><tr><th></th><th>Int64</th><th>Float64</th></tr></thead><tbody><p>528 rows × 2 columns</p><tr><th>1</th><td>520131</td><td>0.01546</td></tr><tr><th>2</th><td>520229</td><td>-0.032049</td></tr><tr><th>3</th><td>520331</td><td>0.041241</td></tr><tr><th>4</th><td>520430</td><td>-0.050401</td></tr><tr><th>5</th><td>520529</td><td>0.025041</td></tr><tr><th>6</th><td>520630</td><td>0.035414</td></tr><tr><th>7</th><td>520731</td><td>0.010408</td></tr><tr><th>8</th><td>520829</td><td>-0.014087</td></tr><tr><th>9</th><td>520930</td><td>-0.023122</td></tr><tr><th>10</th><td>521031</td><td>-0.0069</td></tr><tr><th>11</th><td>521128</td><td>0.04932</td></tr><tr><th>12</th><td>521231</td><td>0.02661</td></tr><tr><th>13</th><td>530130</td><td>-0.002742</td></tr><tr><th>14</th><td>530227</td><td>-0.008959</td></tr><tr><th>15</th><td>530331</td><td>-0.01714</td></tr><tr><th>16</th><td>530430</td><td>-0.028791</td></tr><tr><th>17</th><td>530529</td><td>-0.000579</td></tr><tr><th>18</th><td>530630</td><td>-0.020404</td></tr><tr><th>19</th><td>530731</td><td>0.023651</td></tr><tr><th>20</th><td>530831</td><td>-0.051344</td></tr><tr><th>21</th><td>530930</td><td>-0.001232</td></tr><tr><th>22</th><td>531030</td><td>0.045457</td></tr><tr><th>23</th><td>531130</td><td>0.018167</td></tr><tr><th>24</th><td>531231</td><td>-0.004624</td></tr><tr><th>25</th><td>540129</td><td>0.049364</td></tr><tr><th>26</th><td>540226</td><td>0.011918</td></tr><tr><th>27</th><td>540331</td><td>0.033795</td></tr><tr><th>28</th><td>540430</td><td>0.041291</td></tr><tr><th>29</th><td>540528</td><td>0.02482</td></tr><tr><th>30</th><td>540630</td><td>0.007569</td></tr><tr><th>&vellip;</th><td>&vellip;</td><td>&vellip;</td></tr></tbody></table>"
      ],
      "text/latex": [
       "\\begin{tabular}{r|cc}\n",
       "\t& Date & Return\\\\\n",
       "\t\\hline\n",
       "\t& Int64 & Float64\\\\\n",
       "\t\\hline\n",
       "\t1 & 520131 & 0.01546 \\\\\n",
       "\t2 & 520229 & -0.032049 \\\\\n",
       "\t3 & 520331 & 0.041241 \\\\\n",
       "\t4 & 520430 & -0.050401 \\\\\n",
       "\t5 & 520529 & 0.025041 \\\\\n",
       "\t6 & 520630 & 0.035414 \\\\\n",
       "\t7 & 520731 & 0.010408 \\\\\n",
       "\t8 & 520829 & -0.014087 \\\\\n",
       "\t9 & 520930 & -0.023122 \\\\\n",
       "\t10 & 521031 & -0.0069 \\\\\n",
       "\t11 & 521128 & 0.04932 \\\\\n",
       "\t12 & 521231 & 0.02661 \\\\\n",
       "\t13 & 530130 & -0.002742 \\\\\n",
       "\t14 & 530227 & -0.008959 \\\\\n",
       "\t15 & 530331 & -0.01714 \\\\\n",
       "\t16 & 530430 & -0.028791 \\\\\n",
       "\t17 & 530529 & -0.000579 \\\\\n",
       "\t18 & 530630 & -0.020404 \\\\\n",
       "\t19 & 530731 & 0.023651 \\\\\n",
       "\t20 & 530831 & -0.051344 \\\\\n",
       "\t21 & 530930 & -0.001232 \\\\\n",
       "\t22 & 531030 & 0.045457 \\\\\n",
       "\t23 & 531130 & 0.018167 \\\\\n",
       "\t24 & 531231 & -0.004624 \\\\\n",
       "\t25 & 540129 & 0.049364 \\\\\n",
       "\t26 & 540226 & 0.011918 \\\\\n",
       "\t27 & 540331 & 0.033795 \\\\\n",
       "\t28 & 540430 & 0.041291 \\\\\n",
       "\t29 & 540528 & 0.02482 \\\\\n",
       "\t30 & 540630 & 0.007569 \\\\\n",
       "\t$\\dots$ & $\\dots$ & $\\dots$ \\\\\n",
       "\\end{tabular}\n"
      ],
      "text/plain": [
       "528×2 DataFrame\n",
       "│ Row │ Date   │ Return    │\n",
       "│     │ \u001b[90mInt64\u001b[39m  │ \u001b[90mFloat64\u001b[39m   │\n",
       "├─────┼────────┼───────────┤\n",
       "│ 1   │ 520131 │ 0.01546   │\n",
       "│ 2   │ 520229 │ -0.032049 │\n",
       "│ 3   │ 520331 │ 0.041241  │\n",
       "│ 4   │ 520430 │ -0.050401 │\n",
       "│ 5   │ 520529 │ 0.025041  │\n",
       "│ 6   │ 520630 │ 0.035414  │\n",
       "│ 7   │ 520731 │ 0.010408  │\n",
       "│ 8   │ 520829 │ -0.014087 │\n",
       "│ 9   │ 520930 │ -0.023122 │\n",
       "│ 10  │ 521031 │ -0.0069   │\n",
       "⋮\n",
       "│ 518 │ 950228 │ 0.034535  │\n",
       "│ 519 │ 950331 │ 0.024225  │\n",
       "│ 520 │ 950428 │ 0.022067  │\n",
       "│ 521 │ 950531 │ 0.032549  │\n",
       "│ 522 │ 950630 │ 0.019783  │\n",
       "│ 523 │ 950731 │ 0.031769  │\n",
       "│ 524 │ 950831 │ 0.003925  │\n",
       "│ 525 │ 950929 │ 0.037653  │\n",
       "│ 526 │ 951031 │ -0.012804 │\n",
       "│ 527 │ 951130 │ 0.044593  │\n",
       "│ 528 │ 951229 │ 0.017534  │"
      ]
     },
     "execution_count": 4,
     "metadata": {},
     "output_type": "execute_result"
    }
   ],
   "source": [
    "using DataFrames\n",
    "using CSV\n",
    "\n",
    "stocks = CSV.read(\"./Data/nyse.csv\", header = true)"
   ]
  },
  {
   "cell_type": "markdown",
   "metadata": {},
   "source": [
    "### __Aside on Logs__\n",
    "\n",
    "* It is common to take the natural logarithm of time series which are growing over time (i.e. work with $\\ln{(Y)}$ in stead of $Y$). Why? \n",
    "\n",
    "\n",
    "* A time series graph of $\\ln{(Y)}$ will often approximate a straight line. \n",
    "\n",
    "\n",
    "* In regressions with logged variables coefficients can be interpretetd as elasticities\n",
    "\n",
    "\n",
    "* $\\ln{(Y_{t})} - \\ln{(Y_{t-1})}$ is (approximately) the percentage change in $Y$ between period $t-1$ and $t$\n"
   ]
  },
  {
   "cell_type": "markdown",
   "metadata": {},
   "source": [
    "### __Differencing__\n",
    "\n",
    "$$\n",
    "\\Delta Y_{t} = Y_{t} - Y_{t-1}\n",
    "$$\n",
    "\n",
    "\n",
    "* $\\Delta Y_{t}$ measures the change (or growth) in $Y$ between periods $t-1$ and $t$.\n",
    "\n",
    "\n",
    "* If $Y_{t}$ is the log of a variable, then $\\Delta Y_{t}$ is the percentage change.\n",
    "\n",
    "\n",
    "* $\\Delta Y_{t}$ is the difference of $Y$ (or first difference)\n",
    "\n",
    "\n",
    "* $\\Delta Y_{t}$ is often alled \"delta $Y$\"\n",
    "\n",
    "<br>"
   ]
  },
  {
   "cell_type": "markdown",
   "metadata": {},
   "source": [
    "## The Autocorrelation Function \n",
    "\n",
    "* Correlation between $Y$ and lags of itself shed important light on the properties of $Y$.\n",
    "\n",
    "* Relates to the idea of a trend (discussed above) and nonstationarity (not discussed yet, but we will!)\n",
    "\n",
    "<br>\n",
    "\n",
    "__Example:__ $Y =$ NYSE stock price\n",
    "\n",
    "\n",
    "* Correlation between $Y_{t}$ and $Y_{t-1}$ is $.999$!\n",
    "\n",
    "\n",
    "* Correlation between $\\Delta Y_{t}$ and $\\Delta Y_{t-1}$ is $.0438$.\n",
    "\n",
    "\n",
    "* These are _autocorrelations_ (i.e. correlations between a variable and lags of itself)."
   ]
  },
  {
   "cell_type": "markdown",
   "metadata": {},
   "source": [
    "### The Autocorrelation Function: Notation\n",
    "\n",
    "* $r_{1} =$ correlation between $Y$ and $Y$ lagged one period. \n",
    "\n",
    "\n",
    "* $r_{p} =$ correlation between $Y$ and $Y$ lagged $p$ periods. \n",
    "\n",
    "\n",
    "* _Autocorrelation function_ treats $r_{p}$ as a function of $p$. \n",
    "\n"
   ]
  },
  {
   "cell_type": "markdown",
   "metadata": {},
   "source": [
    "#### Example: NYSE Data (cont.)\n",
    "\n",
    "__Table Goes Here__\n",
    "\n",
    "\n",
    "* $Y$ is highly correlated with lags of itself, but the change in $Y$ is not. \n",
    "\n",
    "\n",
    "* Information could also be presented on bar charts. See figures 9.3 and 9.4."
   ]
  },
  {
   "cell_type": "markdown",
   "metadata": {},
   "source": [
    "### Autocorrelation: Intuition\n",
    "\n",
    "* $Y$ is highly correlated over time. $\\Delta Y$ does not exhibit this property. \n",
    "\n",
    "\n",
    "* If you knew past values of the stock price, you could make a very good estimate of what the stock price was this month. However, knowing past values of the change in stock price will not help you predict the change in stock price this month (note: change in stock price is return, exclusive of dividends)\n",
    "\n",
    "* $Y$ \"remembers the past\". $\\Delta Y$ does not. \n",
    "\n",
    "\n",
    "* $Y$ is a nonstationary series while $\\Delta Y$ is stationary. (Note: these words not formally defined yet)."
   ]
  },
  {
   "cell_type": "markdown",
   "metadata": {},
   "source": [
    "## The Autoregressive Model for Univariate Time Series\n",
    "\n",
    "* Previous discusssion has focused on graphs and correlations, now we go on to regression.\n",
    "\n",
    "* Autoregressive model of order $1$ is written as $AR(1)$ and given by: \n",
    "\n",
    "$$\n",
    "Y_{t} = \\alpha + \\phi Y_{t-1} + \\epsilon_{t}\n",
    "$$\n",
    "\n",
    "\n",
    "* Figures 9.5, 9.6 and 9.7 indicate the types of behavior that this model can generate. \n",
    "\n",
    "\n",
    "* $\\phi = 1$ generates trending behavior typical of financial time series. (Called the _random walk_ model - a special case of the $AR(1)$ model).\n",
    "\n",
    "\n",
    "* $\\phi = 0$ looks more like change in financial time series. "
   ]
  },
  {
   "cell_type": "code",
   "execution_count": 5,
   "metadata": {},
   "outputs": [],
   "source": [
    "## Julia code goes here!"
   ]
  },
  {
   "cell_type": "markdown",
   "metadata": {},
   "source": [
    "## Nonstationary versus Stationary Time Series\n",
    "\n",
    "* Formal definitions require difficult statistical theory. Some intuition will have to suffice. \n",
    "\n",
    "* _Nonstationary_ means _anything which is not stationary_.\n",
    "\n",
    "* Focus on a case of great empirical relevance: ___unit root nonstationarity___. "
   ]
  },
  {
   "cell_type": "markdown",
   "metadata": {},
   "source": [
    "### Ways of Thinking about Whether $Y$ is Stationary or has a Unit Root\n",
    "\n",
    "1. If $\\phi = 1$, then $Y$ has a unit root. If $|\\phi| < 1$ then $Y$ is stationary. \n",
    "\n",
    "\n",
    "2. If $Y$ has a unit root then its autocorrelations will be near one and will not drop much as lag lenght increases. \n",
    "\n",
    "\n",
    "3. If $Y$ has a unit root, then it will have a long memory. Stationary time series do not have long memory.  \n",
    "\n",
    "\n",
    "4. If $Y$ has a unit root then the series will exhibit trend behavior. \n",
    "\n",
    "\n",
    "4. If $Y$ has a unit root, then $\\Delta Y$ will be stationary. Hence, series with unit roots are often referred to as _difference stationary_."
   ]
  },
  {
   "cell_type": "markdown",
   "metadata": {},
   "source": [
    "### More on the $AR(1)$ Model\n",
    "\n",
    "$$\n",
    "Y_{t} = \\alpha + \\phi Y_{t-1} + \\epsilon_{t}\n",
    "$$\n",
    "\n",
    "* Can rewrite as: \n",
    "\n",
    "$$\n",
    "\\Delta Y_{t} = \\alpha + \\rho Y_{t-1} + \\epsilon_{t}\n",
    "$$\n",
    "\n",
    "$$\n",
    "\\mbox{where} \\quad \\rho = \\phi - 1\n",
    "$$\n",
    "\n",
    "* If $\\phi = 1$ (unit root) then $\\rho = 0$ and:\n",
    "\n",
    "$$\n",
    "\\Delta Y_{t} = \\alpha + \\epsilon_{t}\n",
    "$$\n",
    "\n",
    "* __Intuition:__ if $Y$ has unit root, can work with differenced data -- differences are stationary. "
   ]
  },
  {
   "cell_type": "markdown",
   "metadata": {},
   "source": [
    "### More on the $AR(1)$ Model\n",
    "\n",
    "* Test if $\\rho = 0$ to see if a unit root is present. \n",
    "\n",
    "* $-1 < \\phi < +1$ is equivalent to $-2 < \\rho < 0$. This is called the _stationarity condition_.\n",
    "\n",
    "<br>\n",
    "<br>\n",
    "\n",
    "\n",
    "__Aside: The Random Walk with Drift Model:__\n",
    "\n",
    "$$\n",
    "Y_{t} = \\alpha + Y_{t-1} + \\epsilon_{t}\n",
    "$$\n",
    "\n",
    "* This is thought to hold for many financial variables such as stock prices, exchange rates. \n",
    "\n",
    "\n",
    "* __Intuition:__ Changes in $Y$ are unpredictable, so no arbitrage opportunities for investors. \n",
    "    - See Hayek's _The Use of Knowledge in Society_\n",
    "    - See Samuelson's _Proof that Properly Anticipated Prices Fluctuate Randomly_\n",
    "    - This is known in finance as the _random walk hypothesis_\n",
    "   \n",
    "   "
   ]
  },
  {
   "cell_type": "markdown",
   "metadata": {},
   "source": [
    "## Extensions of the $AR(1)$ Model\n",
    "\n",
    "* $AR(p)$ model: \n",
    "\n",
    "$$\n",
    "Y_{t} = \\alpha + \\phi_{1} Y_{t-1} + \\cdots + \\phi_{p} Y_{t-p} + \\epsilon_{t}\n",
    "$$\n",
    "\n",
    "\n",
    "* Properties similar to the $AR(1)$ model.\n",
    "\n",
    "\n",
    "* Alternative way of writing $AR(p)$ model: \n",
    "\n",
    "$$\n",
    "\\Delta Y_{t} = \\alpha + \\rho Y_{t-1} + \\gamma_{1} \\Delta Y_{t-1} + \\cdots + \\gamma_{p-1} \\Delta Y_{t-p+1} + \\epsilon_{t}\n",
    "$$\n",
    "\n",
    "* Coefficients in this alternative regression ($\\rho$, $\\gamma_{1}, \\ldots, \\gamma_{p-1}$) are simple functions of $\\phi_{1}, \\ldots, \\phi_{p}$."
   ]
  },
  {
   "cell_type": "markdown",
   "metadata": {},
   "source": [
    "### The $AR(p)$ Model\n",
    "\n",
    "* $AR(p)$ is in the form of a regression model.\n",
    "\n",
    "\n",
    "* $\\rho = 0$ implies that the time series $Y$ contains a unit root (and $-2 < \\rho < 0$ indicates stationarity).\n",
    "\n",
    "\n",
    "* If a time series contains a unit root then a regression model involving only $\\Delta Y$ is appropriate (i.e. if $\\rho = 0$ then the term $Y_{t-1}$ will drop out of the equation). \n",
    "\n",
    "\n",
    "* _\"If a unit root is present, then you can difference the data to induce stationarity\"_."
   ]
  },
  {
   "cell_type": "markdown",
   "metadata": {},
   "source": [
    "### More Extensions: Adding a Deterministic Trend\n",
    "\n",
    "* Consider the following model:\n",
    "\n",
    "$$\n",
    "Y_{t} = \\alpha + \\delta t + \\epsilon_{t}.\n",
    "$$\n",
    "\n",
    "\n",
    "* The term $\\delta t$ is a _deterministic trend_ since it is an exact (i.e. deterministic) function of time. \n",
    "\n",
    "\n",
    "* Unit root series contain a so-called _stochastic trend_\n",
    "\n",
    "\n",
    "* Combine with the $AR(1)$ model to obtain:\n",
    "\n",
    "$$\n",
    "Y_{t} = \\alpha + \\phi Y_{t-1} + \\delta t + \\epsilon_{t}\n",
    "$$\n",
    "\n",
    "\n",
    "* Can generate behavior that looks similar to unit root behavior ___even if $|\\phi| < 1$.___ (i.e. even if they are stationary).\n",
    "\n",
    "\n",
    "* See Figure 9.8"
   ]
  },
  {
   "cell_type": "markdown",
   "metadata": {},
   "source": [
    "### Summary\n",
    "\n",
    "* The __nonstationary__ time series variables on which we focus are those containing a __unit root__. These series contain a __stochastic trend__. If we difference these time series, the resulting time series will be stationary. For this reason, they are also called ___difference stationary___.\n",
    "\n",
    "\n",
    "* The __stationary__ time series on which we focus have $-2 < \\phi < 0$. but these series may exhibit trend behavior through the incorporation of a __deterministic trend__. If this occurs, they are also called ___trend stationary___. "
   ]
  },
  {
   "cell_type": "markdown",
   "metadata": {},
   "source": [
    "## $AR(p)$ with Deterministic Trend Model\n",
    "\n",
    "* Most general model we use: \n",
    "\n",
    "$$\n",
    "\\Delta Y_{t} = \\alpha + \\rho Y_{t-1} + \\gamma_{1} \\Delta Y_{t-1} + \\cdots + \\gamma_{p} \\Delta Y_{t-p+1} + \\delta t + \\epsilon_{t}\n",
    "$$\n",
    "\n",
    "* Why work with this form of the model? \n",
    "    - __1.__ A unit root is present if $\\rho = 0$. Easy to test. \n",
    "    - __2.__ The specification is less likely to run into multicollinearity problems. Remember: in finance we often find $Y$ is highly correlated with lags of itself but $\\Delta Y$ is not. "
   ]
  },
  {
   "cell_type": "markdown",
   "metadata": {},
   "source": [
    "### Estimation of the $AR(p)$ with Deterministic Trend Model\n",
    "\n",
    "* OLS can be done in the usual way. \n",
    "\n",
    "<br>\n",
    "<br>\n",
    "\n",
    "__Example:__ $Y = $ NYSE stock price\n",
    "\n",
    "* $\\Delta Y$ is the dependent variable in the regression below. "
   ]
  },
  {
   "cell_type": "code",
   "execution_count": 6,
   "metadata": {},
   "outputs": [],
   "source": [
    "## Julia code goes here!"
   ]
  },
  {
   "cell_type": "markdown",
   "metadata": {},
   "source": [
    "### Testing in the $AR(p)$ with Deterministic Trend Model\n",
    "\n",
    "* For everything except $\\rho$, testing can be done in usual way using $t$-statistics and $p$-values.\n",
    "\n",
    "* Hence, can use standard tests to decide whether or not to include deterministic trend. \n",
    "\n",
    "<br>\n",
    "<br>\n",
    "\n",
    "__Lag Length Selection__\n",
    "\n",
    "* a common practice: begin with an $AR(p)$ model and look to see if the last coefficient, $\\gamma_{p}$ is significant. If not, estimate an $AR(p-1)$ model and see if $\\gamma_{p-1}$ is significant. If not, estimate and $AR(p-2)$ model, etc. "
   ]
  },
  {
   "cell_type": "markdown",
   "metadata": {},
   "source": [
    "__Example:__ $Y =$ NYSE Stock Price Data\n",
    "\n",
    "* Sequential testing strategy leads us to drop the deterministic trend and go all the way back to a model with one lag, an $AR(1)$.\n",
    "\n",
    "* $\\Delta Y$ is the dependent variable in the regression."
   ]
  },
  {
   "cell_type": "code",
   "execution_count": 7,
   "metadata": {},
   "outputs": [],
   "source": [
    "## Julia code goes here!"
   ]
  },
  {
   "cell_type": "markdown",
   "metadata": {},
   "source": [
    "### Testing for a Unit Root\n",
    "\n",
    "* You might think you can test $\\rho = 0$ in the same way (i.e. look at $p$-value and, if it is less than say $.05$, reject the unit root hypothesis, if not accept the unit root). \n",
    "\n",
    "* __THIS IS INCORRECT!__\n",
    "\n",
    "\n",
    "* Justification: Difficult statistics \n",
    "\n",
    "\n",
    "* Essentially: The $t$-statistic correct, but the $p$-value (and standard error) is wrong.\n",
    "\n",
    "\n",
    "* A correct test is the ___Dickey-Fuller Test___, which uses the $t$-statistic and compares it to a critical value. (They use simulaton to approximate the test's sampling distribution).\n"
   ]
  },
  {
   "cell_type": "markdown",
   "metadata": {},
   "source": [
    "### Practical Advice on Unit Root Testing\n",
    "\n",
    "* Most computer packages will do the unit root test for you and provide a critical value or a $p$-value for the Dickey-Fuller test. \n",
    "\n",
    "\n",
    "* If the $t$-statistic is less negative than the Dickey-Fuller critical value then accept the unit root hypothesis. \n",
    "\n",
    "\n",
    "* Else reject the unit root and conclude the variable is stationary (or trend stationary if your regression includes a determinstic trend)\n",
    "\n",
    "\n",
    "* Alternatively, if you are using software which does not do the Dickey-Fuller test (e.g. Excel), use the following rough rule of thumb which should be okay if your sample size is moderately large (e.g. $T > 50$)."
   ]
  },
  {
   "cell_type": "markdown",
   "metadata": {},
   "source": [
    "### Testing for a Unit-Root Approximation Strategy \n",
    "\n",
    "* Use the sequential testing strategy outlined above to estimate the $AR(p)$ with determinstic trend model. Record the $t$-stat corresponding to $\\rho$ (i.e. the coefficient on $Y__{t-1}$).\n",
    "\n",
    "\n",
    "* If the final version of your model includes a deterministic trend, the Dickey-Fuller critical value is approximately $-3.45$. If the $t$-stat on $\\rho$ is more negative than $-3.45$, reject the unit root hypothesis and conclude that the series is stationary. Otherwise, conclude that the series has a unit root. \n",
    "\n",
    "\n",
    "* If the final version of your model does not include a deterministic trend, the Dickey-Fuller critical value is approximately $-2.89$. If the $t$-stat on $\\rho$ is more negative than this, reject the unit root hypothesis and conclude that the series is stationary. Otherwise, conclude that the series has a unit root.  "
   ]
  },
  {
   "cell_type": "markdown",
   "metadata": {},
   "source": [
    "### __Example:__ $Y =$ NYSE Stock Price Data (Continued)\n",
    "\n",
    "* The final version of the $AR(p)$ model did not include a deterministic trend. \n",
    "\n",
    "\n",
    "* The $t$-stat on $\\rho$ is $-.063$, which is __not__ more negative than $-2.89$.\n",
    "\n",
    "\n",
    "* Hence we can __accept__ the hypothesis that NYSE stock prices contain a unit root and are, in fact, a random walk."
   ]
  },
  {
   "cell_type": "code",
   "execution_count": null,
   "metadata": {},
   "outputs": [],
   "source": []
  },
  {
   "cell_type": "code",
   "execution_count": null,
   "metadata": {},
   "outputs": [],
   "source": []
  },
  {
   "cell_type": "markdown",
   "metadata": {},
   "source": [
    "## Chapter Summary\n",
    "\n",
    "1. Many financial time series exhibit trend behavior, while their differences do not exhibit such behavior. \n",
    "\n",
    "2. The autocorrelation function is a common tool for summarizing the relationship between a variable and lags of itself. \n",
    "\n",
    "3. Autoregressive models are regression models used for working with time series variables. Such models can be written in two ways: \n",
    "    - one with $Y_{t}$ as the dependent variable\n",
    "    - one with $\\Delta Y_{t}$ as the dependent variable\n",
    "\n",
    "\n",
    "4. The distinction between stationar and nonstationary models is a crucial one. \n",
    "\n",
    "5. Series with unit roots are the most common type of nonstationary series considered in financial research. \n",
    "\n",
    "6. If $Y_{t}$ has a unit root then the $AR(p)$ model with $\\Delta Y_{t}$ as the dependent variable can be estimated using OLS. Standard statistical results hold for all coeficients except the coefficient on $Y_{t-1}$.\n",
    "\n",
    "7. The Dickey-Fuller test is a test for the presence of a unit root. It involves testing whether the coefficient on $Y_{t-1}$ is equal to zero (in the $AR(p)$ model with $\\Delta Y_{t}$ being the dependent variable). "
   ]
  },
  {
   "cell_type": "code",
   "execution_count": null,
   "metadata": {},
   "outputs": [],
   "source": []
  },
  {
   "cell_type": "code",
   "execution_count": null,
   "metadata": {},
   "outputs": [],
   "source": []
  },
  {
   "cell_type": "markdown",
   "metadata": {},
   "source": [
    "## Appendix 9.1: Mathematical Intuition for the $AR(1)$ Model"
   ]
  },
  {
   "cell_type": "code",
   "execution_count": null,
   "metadata": {},
   "outputs": [],
   "source": []
  }
 ],
 "metadata": {
  "kernelspec": {
   "display_name": "Julia 1.3.0",
   "language": "julia",
   "name": "julia-1.3"
  },
  "language_info": {
   "file_extension": ".jl",
   "mimetype": "application/julia",
   "name": "julia",
   "version": "1.3.0"
  }
 },
 "nbformat": 4,
 "nbformat_minor": 4
}
