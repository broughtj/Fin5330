{
 "cells": [
  {
   "cell_type": "markdown",
   "metadata": {},
   "source": [
    "# __Subsetting a Julia DataFrame by Date__\n",
    "\n",
    "<br>\n",
    "\n",
    "Finance 5330: Financial Econometrics <br>\n",
    "Tyler J. Brough <br>\n",
    "Last Update: March 26, 2020 <br>\n",
    "<br>"
   ]
  },
  {
   "cell_type": "code",
   "execution_count": 2,
   "metadata": {},
   "outputs": [],
   "source": [
    "using CSV\n",
    "using Dates\n",
    "using DataFrames"
   ]
  },
  {
   "cell_type": "code",
   "execution_count": 3,
   "metadata": {},
   "outputs": [],
   "source": [
    "## Read in the HO-Futures.csv file and materialize it as a DataFrame\n",
    "df = CSV.File(\"data/HO-Futures.csv\") |> DataFrame!;"
   ]
  },
  {
   "cell_type": "code",
   "execution_count": 4,
   "metadata": {},
   "outputs": [
    {
     "data": {
      "text/html": [
       "<table class=\"data-frame\"><thead><tr><th></th><th>Date</th><th>HO-Futures</th></tr><tr><th></th><th>Date</th><th>Float64</th></tr></thead><tbody><p>5 rows × 2 columns</p><tr><th>1</th><td>2020-03-03</td><td>1.533</td></tr><tr><th>2</th><td>2020-03-02</td><td>1.529</td></tr><tr><th>3</th><td>2020-02-28</td><td>1.491</td></tr><tr><th>4</th><td>2020-02-27</td><td>1.489</td></tr><tr><th>5</th><td>2020-02-26</td><td>1.499</td></tr></tbody></table>"
      ],
      "text/latex": [
       "\\begin{tabular}{r|cc}\n",
       "\t& Date & HO-Futures\\\\\n",
       "\t\\hline\n",
       "\t& Date & Float64\\\\\n",
       "\t\\hline\n",
       "\t1 & 2020-03-03 & 1.533 \\\\\n",
       "\t2 & 2020-03-02 & 1.529 \\\\\n",
       "\t3 & 2020-02-28 & 1.491 \\\\\n",
       "\t4 & 2020-02-27 & 1.489 \\\\\n",
       "\t5 & 2020-02-26 & 1.499 \\\\\n",
       "\\end{tabular}\n"
      ],
      "text/plain": [
       "5×2 DataFrame\n",
       "│ Row │ Date       │ HO-Futures │\n",
       "│     │ \u001b[90mDate\u001b[39m       │ \u001b[90mFloat64\u001b[39m    │\n",
       "├─────┼────────────┼────────────┤\n",
       "│ 1   │ 2020-03-03 │ 1.533      │\n",
       "│ 2   │ 2020-03-02 │ 1.529      │\n",
       "│ 3   │ 2020-02-28 │ 1.491      │\n",
       "│ 4   │ 2020-02-27 │ 1.489      │\n",
       "│ 5   │ 2020-02-26 │ 1.499      │"
      ]
     },
     "execution_count": 4,
     "metadata": {},
     "output_type": "execute_result"
    }
   ],
   "source": [
    "first(df, 5)"
   ]
  },
  {
   "cell_type": "code",
   "execution_count": 5,
   "metadata": {},
   "outputs": [
    {
     "data": {
      "text/html": [
       "<table class=\"data-frame\"><thead><tr><th></th><th>Date</th><th>HO-Futures</th></tr><tr><th></th><th>Date</th><th>Float64</th></tr></thead><tbody><p>5 rows × 2 columns</p><tr><th>1</th><td>1980-01-08</td><td>0.786</td></tr><tr><th>2</th><td>1980-01-07</td><td>0.828</td></tr><tr><th>3</th><td>1980-01-04</td><td>0.85</td></tr><tr><th>4</th><td>1980-01-03</td><td>0.827</td></tr><tr><th>5</th><td>1980-01-02</td><td>0.821</td></tr></tbody></table>"
      ],
      "text/latex": [
       "\\begin{tabular}{r|cc}\n",
       "\t& Date & HO-Futures\\\\\n",
       "\t\\hline\n",
       "\t& Date & Float64\\\\\n",
       "\t\\hline\n",
       "\t1 & 1980-01-08 & 0.786 \\\\\n",
       "\t2 & 1980-01-07 & 0.828 \\\\\n",
       "\t3 & 1980-01-04 & 0.85 \\\\\n",
       "\t4 & 1980-01-03 & 0.827 \\\\\n",
       "\t5 & 1980-01-02 & 0.821 \\\\\n",
       "\\end{tabular}\n"
      ],
      "text/plain": [
       "5×2 DataFrame\n",
       "│ Row │ Date       │ HO-Futures │\n",
       "│     │ \u001b[90mDate\u001b[39m       │ \u001b[90mFloat64\u001b[39m    │\n",
       "├─────┼────────────┼────────────┤\n",
       "│ 1   │ 1980-01-08 │ 0.786      │\n",
       "│ 2   │ 1980-01-07 │ 0.828      │\n",
       "│ 3   │ 1980-01-04 │ 0.85       │\n",
       "│ 4   │ 1980-01-03 │ 0.827      │\n",
       "│ 5   │ 1980-01-02 │ 0.821      │"
      ]
     },
     "execution_count": 5,
     "metadata": {},
     "output_type": "execute_result"
    }
   ],
   "source": [
    "last(df, 5)"
   ]
  },
  {
   "cell_type": "code",
   "execution_count": 6,
   "metadata": {},
   "outputs": [],
   "source": [
    "## Let's say I want to get all dates after December 31, 2019\n",
    "df2 = df[df.Date .> Date(2019,12,31), :];"
   ]
  },
  {
   "cell_type": "code",
   "execution_count": 7,
   "metadata": {},
   "outputs": [
    {
     "data": {
      "text/html": [
       "<table class=\"data-frame\"><thead><tr><th></th><th>Date</th><th>HO-Futures</th></tr><tr><th></th><th>Date</th><th>Float64</th></tr></thead><tbody><p>3 rows × 2 columns</p><tr><th>1</th><td>2020-03-03</td><td>1.533</td></tr><tr><th>2</th><td>2020-03-02</td><td>1.529</td></tr><tr><th>3</th><td>2020-02-28</td><td>1.491</td></tr></tbody></table>"
      ],
      "text/latex": [
       "\\begin{tabular}{r|cc}\n",
       "\t& Date & HO-Futures\\\\\n",
       "\t\\hline\n",
       "\t& Date & Float64\\\\\n",
       "\t\\hline\n",
       "\t1 & 2020-03-03 & 1.533 \\\\\n",
       "\t2 & 2020-03-02 & 1.529 \\\\\n",
       "\t3 & 2020-02-28 & 1.491 \\\\\n",
       "\\end{tabular}\n"
      ],
      "text/plain": [
       "3×2 DataFrame\n",
       "│ Row │ Date       │ HO-Futures │\n",
       "│     │ \u001b[90mDate\u001b[39m       │ \u001b[90mFloat64\u001b[39m    │\n",
       "├─────┼────────────┼────────────┤\n",
       "│ 1   │ 2020-03-03 │ 1.533      │\n",
       "│ 2   │ 2020-03-02 │ 1.529      │\n",
       "│ 3   │ 2020-02-28 │ 1.491      │"
      ]
     },
     "execution_count": 7,
     "metadata": {},
     "output_type": "execute_result"
    }
   ],
   "source": [
    "first(df2, 3)"
   ]
  },
  {
   "cell_type": "code",
   "execution_count": 8,
   "metadata": {},
   "outputs": [
    {
     "data": {
      "text/html": [
       "<table class=\"data-frame\"><thead><tr><th></th><th>Date</th><th>HO-Futures</th></tr><tr><th></th><th>Date</th><th>Float64</th></tr></thead><tbody><p>3 rows × 2 columns</p><tr><th>1</th><td>2020-01-06</td><td>2.034</td></tr><tr><th>2</th><td>2020-01-03</td><td>2.061</td></tr><tr><th>3</th><td>2020-01-02</td><td>2.024</td></tr></tbody></table>"
      ],
      "text/latex": [
       "\\begin{tabular}{r|cc}\n",
       "\t& Date & HO-Futures\\\\\n",
       "\t\\hline\n",
       "\t& Date & Float64\\\\\n",
       "\t\\hline\n",
       "\t1 & 2020-01-06 & 2.034 \\\\\n",
       "\t2 & 2020-01-03 & 2.061 \\\\\n",
       "\t3 & 2020-01-02 & 2.024 \\\\\n",
       "\\end{tabular}\n"
      ],
      "text/plain": [
       "3×2 DataFrame\n",
       "│ Row │ Date       │ HO-Futures │\n",
       "│     │ \u001b[90mDate\u001b[39m       │ \u001b[90mFloat64\u001b[39m    │\n",
       "├─────┼────────────┼────────────┤\n",
       "│ 1   │ 2020-01-06 │ 2.034      │\n",
       "│ 2   │ 2020-01-03 │ 2.061      │\n",
       "│ 3   │ 2020-01-02 │ 2.024      │"
      ]
     },
     "execution_count": 8,
     "metadata": {},
     "output_type": "execute_result"
    }
   ],
   "source": [
    "last(df2, 3)"
   ]
  },
  {
   "cell_type": "code",
   "execution_count": 9,
   "metadata": {},
   "outputs": [],
   "source": [
    "## Now let's say we want all dates after 01/01/2019 and before 01/01/2020\n",
    "df3 = df[(df.Date .> Date(2019, 1, 1)), :];"
   ]
  },
  {
   "cell_type": "code",
   "execution_count": 10,
   "metadata": {},
   "outputs": [],
   "source": [
    "df3 = df3[df3.Date .< Date(2020,1,1), :];"
   ]
  },
  {
   "cell_type": "code",
   "execution_count": 11,
   "metadata": {},
   "outputs": [
    {
     "data": {
      "text/html": [
       "<table class=\"data-frame\"><thead><tr><th></th><th>Date</th><th>HO-Futures</th></tr><tr><th></th><th>Date</th><th>Float64</th></tr></thead><tbody><p>5 rows × 2 columns</p><tr><th>1</th><td>2019-12-31</td><td>2.028</td></tr><tr><th>2</th><td>2019-12-30</td><td>2.041</td></tr><tr><th>3</th><td>2019-12-27</td><td>2.05</td></tr><tr><th>4</th><td>2019-12-26</td><td>2.052</td></tr><tr><th>5</th><td>2019-12-24</td><td>2.036</td></tr></tbody></table>"
      ],
      "text/latex": [
       "\\begin{tabular}{r|cc}\n",
       "\t& Date & HO-Futures\\\\\n",
       "\t\\hline\n",
       "\t& Date & Float64\\\\\n",
       "\t\\hline\n",
       "\t1 & 2019-12-31 & 2.028 \\\\\n",
       "\t2 & 2019-12-30 & 2.041 \\\\\n",
       "\t3 & 2019-12-27 & 2.05 \\\\\n",
       "\t4 & 2019-12-26 & 2.052 \\\\\n",
       "\t5 & 2019-12-24 & 2.036 \\\\\n",
       "\\end{tabular}\n"
      ],
      "text/plain": [
       "5×2 DataFrame\n",
       "│ Row │ Date       │ HO-Futures │\n",
       "│     │ \u001b[90mDate\u001b[39m       │ \u001b[90mFloat64\u001b[39m    │\n",
       "├─────┼────────────┼────────────┤\n",
       "│ 1   │ 2019-12-31 │ 2.028      │\n",
       "│ 2   │ 2019-12-30 │ 2.041      │\n",
       "│ 3   │ 2019-12-27 │ 2.05       │\n",
       "│ 4   │ 2019-12-26 │ 2.052      │\n",
       "│ 5   │ 2019-12-24 │ 2.036      │"
      ]
     },
     "execution_count": 11,
     "metadata": {},
     "output_type": "execute_result"
    }
   ],
   "source": [
    "first(df3, 5)"
   ]
  },
  {
   "cell_type": "code",
   "execution_count": 12,
   "metadata": {},
   "outputs": [
    {
     "data": {
      "text/html": [
       "<table class=\"data-frame\"><thead><tr><th></th><th>Date</th><th>HO-Futures</th></tr><tr><th></th><th>Date</th><th>Float64</th></tr></thead><tbody><p>5 rows × 2 columns</p><tr><th>1</th><td>2019-01-08</td><td>1.827</td></tr><tr><th>2</th><td>2019-01-07</td><td>1.778</td></tr><tr><th>3</th><td>2019-01-04</td><td>1.769</td></tr><tr><th>4</th><td>2019-01-03</td><td>1.742</td></tr><tr><th>5</th><td>2019-01-02</td><td>1.701</td></tr></tbody></table>"
      ],
      "text/latex": [
       "\\begin{tabular}{r|cc}\n",
       "\t& Date & HO-Futures\\\\\n",
       "\t\\hline\n",
       "\t& Date & Float64\\\\\n",
       "\t\\hline\n",
       "\t1 & 2019-01-08 & 1.827 \\\\\n",
       "\t2 & 2019-01-07 & 1.778 \\\\\n",
       "\t3 & 2019-01-04 & 1.769 \\\\\n",
       "\t4 & 2019-01-03 & 1.742 \\\\\n",
       "\t5 & 2019-01-02 & 1.701 \\\\\n",
       "\\end{tabular}\n"
      ],
      "text/plain": [
       "5×2 DataFrame\n",
       "│ Row │ Date       │ HO-Futures │\n",
       "│     │ \u001b[90mDate\u001b[39m       │ \u001b[90mFloat64\u001b[39m    │\n",
       "├─────┼────────────┼────────────┤\n",
       "│ 1   │ 2019-01-08 │ 1.827      │\n",
       "│ 2   │ 2019-01-07 │ 1.778      │\n",
       "│ 3   │ 2019-01-04 │ 1.769      │\n",
       "│ 4   │ 2019-01-03 │ 1.742      │\n",
       "│ 5   │ 2019-01-02 │ 1.701      │"
      ]
     },
     "execution_count": 12,
     "metadata": {},
     "output_type": "execute_result"
    }
   ],
   "source": [
    "last(df3, 5)"
   ]
  },
  {
   "cell_type": "code",
   "execution_count": 13,
   "metadata": {},
   "outputs": [],
   "source": [
    "## You can also sort this by date\n",
    "sort!(df3, :Date);"
   ]
  },
  {
   "cell_type": "code",
   "execution_count": 14,
   "metadata": {},
   "outputs": [
    {
     "data": {
      "text/html": [
       "<table class=\"data-frame\"><thead><tr><th></th><th>Date</th><th>HO-Futures</th></tr><tr><th></th><th>Date</th><th>Float64</th></tr></thead><tbody><p>2 rows × 2 columns</p><tr><th>1</th><td>2019-01-02</td><td>1.701</td></tr><tr><th>2</th><td>2019-01-03</td><td>1.742</td></tr></tbody></table>"
      ],
      "text/latex": [
       "\\begin{tabular}{r|cc}\n",
       "\t& Date & HO-Futures\\\\\n",
       "\t\\hline\n",
       "\t& Date & Float64\\\\\n",
       "\t\\hline\n",
       "\t1 & 2019-01-02 & 1.701 \\\\\n",
       "\t2 & 2019-01-03 & 1.742 \\\\\n",
       "\\end{tabular}\n"
      ],
      "text/plain": [
       "2×2 DataFrame\n",
       "│ Row │ Date       │ HO-Futures │\n",
       "│     │ \u001b[90mDate\u001b[39m       │ \u001b[90mFloat64\u001b[39m    │\n",
       "├─────┼────────────┼────────────┤\n",
       "│ 1   │ 2019-01-02 │ 1.701      │\n",
       "│ 2   │ 2019-01-03 │ 1.742      │"
      ]
     },
     "execution_count": 14,
     "metadata": {},
     "output_type": "execute_result"
    }
   ],
   "source": [
    "first(df3, 2)"
   ]
  },
  {
   "cell_type": "code",
   "execution_count": 15,
   "metadata": {},
   "outputs": [
    {
     "data": {
      "text/html": [
       "<table class=\"data-frame\"><thead><tr><th></th><th>Date</th><th>HO-Futures</th></tr><tr><th></th><th>Date</th><th>Float64</th></tr></thead><tbody><p>2 rows × 2 columns</p><tr><th>1</th><td>2019-12-30</td><td>2.041</td></tr><tr><th>2</th><td>2019-12-31</td><td>2.028</td></tr></tbody></table>"
      ],
      "text/latex": [
       "\\begin{tabular}{r|cc}\n",
       "\t& Date & HO-Futures\\\\\n",
       "\t\\hline\n",
       "\t& Date & Float64\\\\\n",
       "\t\\hline\n",
       "\t1 & 2019-12-30 & 2.041 \\\\\n",
       "\t2 & 2019-12-31 & 2.028 \\\\\n",
       "\\end{tabular}\n"
      ],
      "text/plain": [
       "2×2 DataFrame\n",
       "│ Row │ Date       │ HO-Futures │\n",
       "│     │ \u001b[90mDate\u001b[39m       │ \u001b[90mFloat64\u001b[39m    │\n",
       "├─────┼────────────┼────────────┤\n",
       "│ 1   │ 2019-12-30 │ 2.041      │\n",
       "│ 2   │ 2019-12-31 │ 2.028      │"
      ]
     },
     "execution_count": 15,
     "metadata": {},
     "output_type": "execute_result"
    }
   ],
   "source": [
    "last(df3, 2)"
   ]
  },
  {
   "cell_type": "code",
   "execution_count": 16,
   "metadata": {},
   "outputs": [],
   "source": [
    "## Another way to do it\n",
    "df4 = df[(df.Date .>= Date(2019, 1, 1)) .& (df.Date .< Date(2020, 1, 1)), :];"
   ]
  },
  {
   "cell_type": "code",
   "execution_count": 19,
   "metadata": {},
   "outputs": [],
   "source": [
    "sort!(df4, :Date);"
   ]
  },
  {
   "cell_type": "code",
   "execution_count": 20,
   "metadata": {},
   "outputs": [
    {
     "data": {
      "text/html": [
       "<table class=\"data-frame\"><thead><tr><th></th><th>Date</th><th>HO-Futures</th></tr><tr><th></th><th>Date</th><th>Float64</th></tr></thead><tbody><p>3 rows × 2 columns</p><tr><th>1</th><td>2019-01-02</td><td>1.701</td></tr><tr><th>2</th><td>2019-01-03</td><td>1.742</td></tr><tr><th>3</th><td>2019-01-04</td><td>1.769</td></tr></tbody></table>"
      ],
      "text/latex": [
       "\\begin{tabular}{r|cc}\n",
       "\t& Date & HO-Futures\\\\\n",
       "\t\\hline\n",
       "\t& Date & Float64\\\\\n",
       "\t\\hline\n",
       "\t1 & 2019-01-02 & 1.701 \\\\\n",
       "\t2 & 2019-01-03 & 1.742 \\\\\n",
       "\t3 & 2019-01-04 & 1.769 \\\\\n",
       "\\end{tabular}\n"
      ],
      "text/plain": [
       "3×2 DataFrame\n",
       "│ Row │ Date       │ HO-Futures │\n",
       "│     │ \u001b[90mDate\u001b[39m       │ \u001b[90mFloat64\u001b[39m    │\n",
       "├─────┼────────────┼────────────┤\n",
       "│ 1   │ 2019-01-02 │ 1.701      │\n",
       "│ 2   │ 2019-01-03 │ 1.742      │\n",
       "│ 3   │ 2019-01-04 │ 1.769      │"
      ]
     },
     "execution_count": 20,
     "metadata": {},
     "output_type": "execute_result"
    }
   ],
   "source": [
    "first(df4, 3)"
   ]
  },
  {
   "cell_type": "code",
   "execution_count": 21,
   "metadata": {},
   "outputs": [
    {
     "data": {
      "text/html": [
       "<table class=\"data-frame\"><thead><tr><th></th><th>Date</th><th>HO-Futures</th></tr><tr><th></th><th>Date</th><th>Float64</th></tr></thead><tbody><p>3 rows × 2 columns</p><tr><th>1</th><td>2019-12-27</td><td>2.05</td></tr><tr><th>2</th><td>2019-12-30</td><td>2.041</td></tr><tr><th>3</th><td>2019-12-31</td><td>2.028</td></tr></tbody></table>"
      ],
      "text/latex": [
       "\\begin{tabular}{r|cc}\n",
       "\t& Date & HO-Futures\\\\\n",
       "\t\\hline\n",
       "\t& Date & Float64\\\\\n",
       "\t\\hline\n",
       "\t1 & 2019-12-27 & 2.05 \\\\\n",
       "\t2 & 2019-12-30 & 2.041 \\\\\n",
       "\t3 & 2019-12-31 & 2.028 \\\\\n",
       "\\end{tabular}\n"
      ],
      "text/plain": [
       "3×2 DataFrame\n",
       "│ Row │ Date       │ HO-Futures │\n",
       "│     │ \u001b[90mDate\u001b[39m       │ \u001b[90mFloat64\u001b[39m    │\n",
       "├─────┼────────────┼────────────┤\n",
       "│ 1   │ 2019-12-27 │ 2.05       │\n",
       "│ 2   │ 2019-12-30 │ 2.041      │\n",
       "│ 3   │ 2019-12-31 │ 2.028      │"
      ]
     },
     "execution_count": 21,
     "metadata": {},
     "output_type": "execute_result"
    }
   ],
   "source": [
    "last(df4, 3)"
   ]
  },
  {
   "cell_type": "code",
   "execution_count": null,
   "metadata": {},
   "outputs": [],
   "source": []
  }
 ],
 "metadata": {
  "kernelspec": {
   "display_name": "Julia 1.3.0",
   "language": "julia",
   "name": "julia-1.3"
  },
  "language_info": {
   "file_extension": ".jl",
   "mimetype": "application/julia",
   "name": "julia",
   "version": "1.3.0"
  }
 },
 "nbformat": 4,
 "nbformat_minor": 4
}
