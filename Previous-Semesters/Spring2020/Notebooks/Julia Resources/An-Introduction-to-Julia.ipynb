{
 "cells": [
  {
   "cell_type": "markdown",
   "metadata": {},
   "source": [
    "# __An Introduction to the Julia Programming Language__\n",
    "\n",
    "<br>\n",
    "\n",
    "__Finance 5330: Financial Econometrics__ <br>\n",
    "Tyler J. Brough <br>\n",
    "Created:      January 10, 2020 <br>\n",
    "Last Updated: January 28, 2020 <br>\n",
    "<br>"
   ]
  },
  {
   "cell_type": "markdown",
   "metadata": {},
   "source": [
    "## Nota Bene\n",
    "\n",
    "* These notes are based on Chapter 1 of the book _Introduction to Quantitative Macroeconomics Using Julia_ by Petre Caraiani (in Files & Media database on Notion).\n",
    "\n",
    "\n",
    "* An additional resource that you will want to check out is the [Quantitative Economics with Julia](https://julia.quantecon.org/index_toc.html) lecture notes. \n",
    "\n",
    "* The official [Julia Documentation](https://docs.julialang.org/en/v1/) is also very detailed and of high quality. "
   ]
  },
  {
   "cell_type": "markdown",
   "metadata": {},
   "source": [
    "## Overview\n",
    "\n",
    "* Julia is a new general purpose programming language that is focused on numerical and statistical computing. Its development began at MIT in 2009. In 2018 it reached a stable 1.0 release. \n",
    "\n",
    "\n",
    "* From Caraiani: _\"The main attractiveness of the [sic] Julia comes from combining the high level syntax of languages like Python and Matlab with the speed of low level languages like Fortran and C/C++.\"_ It is said that Julia solves the two language problem. See [this article (https://www.nature.com/articles/d41586-019-02310-3) at Nature for more details. \n",
    "\n",
    "\n",
    "Here is how the Julia design team position their language. See the language website: https://julialang.org/\n",
    "\n",
    "### Julia is fast!\n",
    "\n",
    "Julia was designed from the beginning for high performance. Julia programs compile to efficient native code for multiple platforms via LLVM.\n",
    "\n",
    "\n",
    "### Dynamic\n",
    "\n",
    "Julia is dynamically-typed, feels like a scripting language, and has good support for interactive use.\n",
    "\n",
    "\n",
    "### Optionally typed\n",
    "\n",
    "Julia has a rich language of descriptive datatypes, and type declarations can be used to clarify and solidify programs.\n"
   ]
  },
  {
   "cell_type": "code",
   "execution_count": 5,
   "metadata": {},
   "outputs": [
    {
     "data": {
      "text/plain": [
       "1"
      ]
     },
     "execution_count": 5,
     "metadata": {},
     "output_type": "execute_result"
    }
   ],
   "source": [
    "x = 1"
   ]
  },
  {
   "cell_type": "code",
   "execution_count": 4,
   "metadata": {},
   "outputs": [
    {
     "data": {
      "text/latex": [
       "\\begin{tabular}\n",
       "{l | r | l}\n",
       "name & size & summary \\\\\n",
       "\\hline\n",
       "Base &  & Module \\\\\n",
       "Core &  & Module \\\\\n",
       "Main &  & Module \\\\\n",
       "x & 8 bytes & Int64 \\\\\n",
       "\\end{tabular}\n"
      ],
      "text/markdown": [
       "| name |    size | summary |\n",
       "|:---- | -------:|:------- |\n",
       "| Base |         | Module  |\n",
       "| Core |         | Module  |\n",
       "| Main |         | Module  |\n",
       "| x    | 8 bytes | Int64   |\n"
      ],
      "text/plain": [
       "  name    size summary\n",
       "  –––– ––––––– –––––––\n",
       "  Base         Module \n",
       "  Core         Module \n",
       "  Main         Module \n",
       "  x    8 bytes Int64  "
      ]
     },
     "execution_count": 4,
     "metadata": {},
     "output_type": "execute_result"
    }
   ],
   "source": [
    "varinfo()"
   ]
  },
  {
   "cell_type": "markdown",
   "metadata": {},
   "source": [
    "### General\n",
    "\n",
    "Julia uses multiple dispatch as a paradigm, making it easy to express many object-oriented and functional programming patterns. It provides asynchronous I/O, debugging, logging, profiling, a package manager, and more.\n",
    "\n",
    "\n",
    "### Easy to use\n",
    "\n",
    "Julia has high level syntax, making it an accessible language for programmers from any background or experience level. Browse the Julia microbenchmarks to get a feel for the language.\n",
    "\n",
    "\n",
    "### Open source\n",
    "\n",
    "Julia is provided under the MIT license, free for everyone to use. All source code is publicly viewable on GitHub.\n",
    "\n",
    "\n",
    "<br>"
   ]
  },
  {
   "cell_type": "markdown",
   "metadata": {},
   "source": [
    "## Julia in a Nutshell"
   ]
  },
  {
   "cell_type": "markdown",
   "metadata": {},
   "source": [
    "### Installing Julia\n",
    "\n",
    "* To install Julia go to the [Julia downloads page](https://julialang.org/downloads/) and make the proper selection for your operating system (Windows or Mac OS - if you're on Linux I'm just going to assume you're okay on your own).\n",
    "\n",
    "* As of the time of writing this most current version of Julia is v1.3.1. Make sure that you get at least this version. \n",
    "\n",
    "\n",
    "#### Installing Anaconda\n",
    "\n",
    "I also strongly suggest that you install the Anaconda system. \n",
    "\n",
    "* Go to the [Anaconda downloads page](https://www.anaconda.com/distribution/) and make the proper selection for your operating system (again either Windows or Mac OS). \n",
    "\n",
    "* Make sure to get at least v3.7 of Python. \n",
    "\n",
    "* This will give us Jupyter Lab and an installation of Python to work with from Julia. \n",
    "\n",
    "\n",
    "#### Text Editors\n",
    "\n",
    "You will want to choose a good text editor. \n",
    "\n",
    "* If you don't have a strong preference then use Jupyter Lab. I'll be demonstrating this in class.\n",
    "\n",
    "\n",
    "* Julia comes bundled with a text editor called Juno, which is based off of Atom. It's pretty good. It's the straight forward editor to use if you don't know how to choose. \n",
    "\n",
    "\n",
    "* [Microsoft Visual Studio Code](https://code.visualstudio.com/) offers a good combination of simplicity and power.\n",
    "\n",
    "\n",
    "* I really like [Neovim](https://neovim.io/). Vim gives you super powers but has a steep learning curve. \n",
    "    - Learning Vim was an intellectual lightning strike for me!\n",
    "\n",
    "\n",
    "* [Emacs](https://www.gnu.org/software/emacs/) is nutso powerful and has a nearly infinite learning curve. Extra credit for the Brave and True!\n",
    "    - See what writer Neal Stephenson has to say about Emacs: https://www.emacswiki.org/emacs/NealStephenson\n",
    "    \n",
    "\n",
    "* Of course, Buddha who always advocated the [Middle Way](https://en.wikipedia.org/wiki/Middle_Way) would use [Doom](https://github.com/hlissner/doom-emacs) if he were alive today!\n",
    "    - Doom is Emacs with a builtin Vim emulator. It's the *Shiz* - is what I think the kids say these days!\n",
    "    - See these YouTube videos if you decide to follow this path: https://www.youtube.com/watch?v=rCMh7srOqvw\n",
    "\n",
    "\n",
    "<br>\n",
    "\n",
    "See here for the [QuantEcon install instructions](https://julia.quantecon.org/getting_started_julia/getting_started.html). Note that these may or may not be up-to-date.\n",
    "\n",
    "<br>"
   ]
  },
  {
   "cell_type": "markdown",
   "metadata": {},
   "source": [
    "### Julia Packages\n",
    "\n",
    "Once Julia is installed we can use the Standard Library, which is the set of functions and data structures that come builtin to Julia. Similar to other programming languages such as Python and R, Julia is an extensible language. This means that we can write code to extend Julia's base capabilities. \n",
    "\n",
    "Julia comes with a builtin package manager called `Pkg`. We can use it to install any Julia package. For example, to add the `stats` package, we can do the following: "
   ]
  },
  {
   "cell_type": "code",
   "execution_count": 6,
   "metadata": {},
   "outputs": [
    {
     "name": "stdout",
     "output_type": "stream",
     "text": [
      "\u001b[32m\u001b[1m  Updating\u001b[22m\u001b[39m registry at `~/.julia/registries/General`\n",
      "\u001b[32m\u001b[1m  Updating\u001b[22m\u001b[39m git-repo `https://github.com/JuliaRegistries/General.git`\n",
      "\u001b[2K\u001b[?25h[1mFetching:\u001b[22m\u001b[39m [========================================>]  100.0 %.0 %\u001b[32m\u001b[1m Resolving\u001b[22m\u001b[39m package versions...\n",
      "\u001b[32m\u001b[1m  Updating\u001b[22m\u001b[39m `~/.julia/environments/v1.3/Project.toml`\n",
      "\u001b[90m [no changes]\u001b[39m\n",
      "\u001b[32m\u001b[1m  Updating\u001b[22m\u001b[39m `~/.julia/environments/v1.3/Manifest.toml`\n",
      "\u001b[90m [no changes]\u001b[39m\n"
     ]
    }
   ],
   "source": [
    "using Pkg\n",
    "Pkg.add(\"Distributions\")"
   ]
  },
  {
   "cell_type": "markdown",
   "metadata": {},
   "source": [
    "To start this package at the REPL, we can write:"
   ]
  },
  {
   "cell_type": "code",
   "execution_count": 7,
   "metadata": {},
   "outputs": [
    {
     "name": "stderr",
     "output_type": "stream",
     "text": [
      "┌ Info: Precompiling Distributions [31c24e10-a181-5473-b8eb-7969acd0382f]\n",
      "└ @ Base loading.jl:1273\n"
     ]
    }
   ],
   "source": [
    "using Distributions"
   ]
  },
  {
   "cell_type": "markdown",
   "metadata": {},
   "source": [
    "Packages can be updated with the command: `Pkg.update()`"
   ]
  },
  {
   "cell_type": "code",
   "execution_count": 8,
   "metadata": {},
   "outputs": [
    {
     "name": "stdout",
     "output_type": "stream",
     "text": [
      "\u001b[32m\u001b[1m  Updating\u001b[22m\u001b[39m registry at `~/.julia/registries/General`\n",
      "\u001b[32m\u001b[1m  Updating\u001b[22m\u001b[39m git-repo `https://github.com/JuliaRegistries/General.git`\n",
      "\u001b[?25l\u001b[2K\u001b[?25h\u001b[32m\u001b[1m Resolving\u001b[22m\u001b[39m package versions...\n",
      "\u001b[32m\u001b[1m  Updating\u001b[22m\u001b[39m `~/.julia/environments/v1.3/Project.toml`\n",
      "\u001b[90m [no changes]\u001b[39m\n",
      "\u001b[32m\u001b[1m  Updating\u001b[22m\u001b[39m `~/.julia/environments/v1.3/Manifest.toml`\n",
      "\u001b[90m [no changes]\u001b[39m\n"
     ]
    }
   ],
   "source": [
    "Pkg.update()\n"
   ]
  },
  {
   "cell_type": "markdown",
   "metadata": {},
   "source": [
    "### Understanding the REPL\n",
    "\n",
    "REPL stands for Read-Evaluate-Print-Loop. When we start up Julia we are presented with the REPL. This is the most direct and powerful way to interact with Julia. \n",
    "\n",
    "To use the REPL, we type commands directly in and press enter to immediately execute the code. Here is an example:"
   ]
  },
  {
   "cell_type": "code",
   "execution_count": 4,
   "metadata": {},
   "outputs": [
    {
     "data": {
      "text/plain": [
       "1"
      ]
     },
     "execution_count": 4,
     "metadata": {},
     "output_type": "execute_result"
    }
   ],
   "source": [
    "x = 1"
   ]
  },
  {
   "cell_type": "markdown",
   "metadata": {},
   "source": [
    "What we're doing here is assigning the value `0` to the variable `x`. \n",
    "\n",
    "We can access the builtin help as follows:"
   ]
  },
  {
   "cell_type": "code",
   "execution_count": 5,
   "metadata": {},
   "outputs": [
    {
     "name": "stdout",
     "output_type": "stream",
     "text": [
      "search: ⊻ ⊋ ⊊ ⊉ ⊈ ⊇ ⊆ ≥ ≤ ≢ ≡ ≠ ≉ ≈ ∪ ∩ ∛ √ ∘ ∌ ∋ ∉ ∈ ℯ π ÷ ~ | ^ \\ > < : / - +\n",
      "\n"
     ]
    },
    {
     "data": {
      "text/latex": [
       "\\textbf{Welcome to Julia 1.3.0.} The full manual is available at\n",
       "\n",
       "\\begin{verbatim}\n",
       "https://docs.julialang.org/\n",
       "\\end{verbatim}\n",
       "as well as many great tutorials and learning resources:\n",
       "\n",
       "\\begin{verbatim}\n",
       "https://julialang.org/learning/\n",
       "\\end{verbatim}\n",
       "For help on a specific function or macro, type \\texttt{?} followed by its name, e.g. \\texttt{?cos}, or \\texttt{?@time}, and press enter. Type \\texttt{;} to enter shell mode, \\texttt{]} to enter package mode.\n",
       "\n"
      ],
      "text/markdown": [
       "**Welcome to Julia 1.3.0.** The full manual is available at\n",
       "\n",
       "```\n",
       "https://docs.julialang.org/\n",
       "```\n",
       "\n",
       "as well as many great tutorials and learning resources:\n",
       "\n",
       "```\n",
       "https://julialang.org/learning/\n",
       "```\n",
       "\n",
       "For help on a specific function or macro, type `?` followed by its name, e.g. `?cos`, or `?@time`, and press enter. Type `;` to enter shell mode, `]` to enter package mode.\n"
      ],
      "text/plain": [
       "  \u001b[1mWelcome to Julia 1.3.0.\u001b[22m The full manual is available at\n",
       "\n",
       "  \u001b[39mhttps\u001b[0m\u001b[38;5;197m:\u001b[0m\u001b[38;5;197m//\u001b[0m\u001b[39mdocs\u001b[0m\u001b[38;5;197m.\u001b[0m\u001b[39mjulialang\u001b[0m\u001b[38;5;197m.\u001b[0m\u001b[39morg\u001b[0m\u001b[38;5;197m/\u001b[0m\u001b[39m\u001b[0m\n",
       "\n",
       "\n",
       "  as well as many great tutorials and learning resources:\n",
       "\n",
       "  \u001b[39mhttps\u001b[0m\u001b[38;5;197m:\u001b[0m\u001b[38;5;197m//\u001b[0m\u001b[39mjulialang\u001b[0m\u001b[38;5;197m.\u001b[0m\u001b[39morg\u001b[0m\u001b[38;5;197m/\u001b[0m\u001b[39mlearning\u001b[0m\u001b[38;5;197m/\u001b[0m\u001b[39m\u001b[0m\n",
       "\n",
       "\n",
       "  For help on a specific function or macro, type \u001b[36m?\u001b[39m followed by its name, e.g.\n",
       "  \u001b[36m?cos\u001b[39m, or \u001b[36m?@time\u001b[39m, and press enter. Type \u001b[36m;\u001b[39m to enter shell mode, \u001b[36m]\u001b[39m to enter\n",
       "  package mode."
      ]
     },
     "execution_count": 5,
     "metadata": {},
     "output_type": "execute_result"
    }
   ],
   "source": [
    "?"
   ]
  },
  {
   "cell_type": "code",
   "execution_count": 9,
   "metadata": {},
   "outputs": [
    {
     "name": "stdout",
     "output_type": "stream",
     "text": [
      "search: \u001b[0m\u001b[1ms\u001b[22m\u001b[0m\u001b[1mu\u001b[22m\u001b[0m\u001b[1mm\u001b[22m \u001b[0m\u001b[1ms\u001b[22m\u001b[0m\u001b[1mu\u001b[22m\u001b[0m\u001b[1mm\u001b[22m! \u001b[0m\u001b[1ms\u001b[22m\u001b[0m\u001b[1mu\u001b[22m\u001b[0m\u001b[1mm\u001b[22mmary cum\u001b[0m\u001b[1ms\u001b[22m\u001b[0m\u001b[1mu\u001b[22m\u001b[0m\u001b[1mm\u001b[22m cum\u001b[0m\u001b[1ms\u001b[22m\u001b[0m\u001b[1mu\u001b[22m\u001b[0m\u001b[1mm\u001b[22m! i\u001b[0m\u001b[1ms\u001b[22mn\u001b[0m\u001b[1mu\u001b[22m\u001b[0m\u001b[1mm\u001b[22meric Method\u001b[0m\u001b[1mS\u001b[22m\u001b[0m\u001b[1mu\u001b[22m\u001b[0m\u001b[1mm\u001b[22mmary Edgeworth\u001b[0m\u001b[1mS\u001b[22m\u001b[0m\u001b[1mu\u001b[22m\u001b[0m\u001b[1mm\u001b[22m\n",
      "\n"
     ]
    },
    {
     "data": {
      "text/latex": [
       "\\begin{verbatim}\n",
       "sum(f, itr)\n",
       "\\end{verbatim}\n",
       "Sum the results of calling function \\texttt{f} on each element of \\texttt{itr}.\n",
       "\n",
       "The return type is \\texttt{Int} for signed integers of less than system word size, and \\texttt{UInt} for unsigned integers of less than system word size.  For all other arguments, a common return type is found to which all arguments are promoted.\n",
       "\n",
       "\\section{Examples}\n",
       "\\begin{verbatim}\n",
       "julia> sum(abs2, [2; 3; 4])\n",
       "29\n",
       "\\end{verbatim}\n",
       "Note the important difference between \\texttt{sum(A)} and \\texttt{reduce(+, A)} for arrays with small integer eltype:\n",
       "\n",
       "\\begin{verbatim}\n",
       "julia> sum(Int8[100, 28])\n",
       "128\n",
       "\n",
       "julia> reduce(+, Int8[100, 28])\n",
       "-128\n",
       "\\end{verbatim}\n",
       "In the former case, the integers are widened to system word size and therefore the result is 128. In the latter case, no such widening happens and integer overflow results in -128.\n",
       "\n",
       "\\rule{\\textwidth}{1pt}\n",
       "\\begin{verbatim}\n",
       "sum(itr)\n",
       "\\end{verbatim}\n",
       "Returns the sum of all elements in a collection.\n",
       "\n",
       "The return type is \\texttt{Int} for signed integers of less than system word size, and \\texttt{UInt} for unsigned integers of less than system word size.  For all other arguments, a common return type is found to which all arguments are promoted.\n",
       "\n",
       "\\section{Examples}\n",
       "\\begin{verbatim}\n",
       "julia> sum(1:20)\n",
       "210\n",
       "\\end{verbatim}\n",
       "\\rule{\\textwidth}{1pt}\n",
       "\\begin{verbatim}\n",
       "sum(A::AbstractArray; dims)\n",
       "\\end{verbatim}\n",
       "Sum elements of an array over the given dimensions.\n",
       "\n",
       "\\section{Examples}\n",
       "\\begin{verbatim}\n",
       "julia> A = [1 2; 3 4]\n",
       "2×2 Array{Int64,2}:\n",
       " 1  2\n",
       " 3  4\n",
       "\n",
       "julia> sum(A, dims=1)\n",
       "1×2 Array{Int64,2}:\n",
       " 4  6\n",
       "\n",
       "julia> sum(A, dims=2)\n",
       "2×1 Array{Int64,2}:\n",
       " 3\n",
       " 7\n",
       "\\end{verbatim}\n"
      ],
      "text/markdown": [
       "```\n",
       "sum(f, itr)\n",
       "```\n",
       "\n",
       "Sum the results of calling function `f` on each element of `itr`.\n",
       "\n",
       "The return type is `Int` for signed integers of less than system word size, and `UInt` for unsigned integers of less than system word size.  For all other arguments, a common return type is found to which all arguments are promoted.\n",
       "\n",
       "# Examples\n",
       "\n",
       "```jldoctest\n",
       "julia> sum(abs2, [2; 3; 4])\n",
       "29\n",
       "```\n",
       "\n",
       "Note the important difference between `sum(A)` and `reduce(+, A)` for arrays with small integer eltype:\n",
       "\n",
       "```jldoctest\n",
       "julia> sum(Int8[100, 28])\n",
       "128\n",
       "\n",
       "julia> reduce(+, Int8[100, 28])\n",
       "-128\n",
       "```\n",
       "\n",
       "In the former case, the integers are widened to system word size and therefore the result is 128. In the latter case, no such widening happens and integer overflow results in -128.\n",
       "\n",
       "---\n",
       "\n",
       "```\n",
       "sum(itr)\n",
       "```\n",
       "\n",
       "Returns the sum of all elements in a collection.\n",
       "\n",
       "The return type is `Int` for signed integers of less than system word size, and `UInt` for unsigned integers of less than system word size.  For all other arguments, a common return type is found to which all arguments are promoted.\n",
       "\n",
       "# Examples\n",
       "\n",
       "```jldoctest\n",
       "julia> sum(1:20)\n",
       "210\n",
       "```\n",
       "\n",
       "---\n",
       "\n",
       "```\n",
       "sum(A::AbstractArray; dims)\n",
       "```\n",
       "\n",
       "Sum elements of an array over the given dimensions.\n",
       "\n",
       "# Examples\n",
       "\n",
       "```jldoctest\n",
       "julia> A = [1 2; 3 4]\n",
       "2×2 Array{Int64,2}:\n",
       " 1  2\n",
       " 3  4\n",
       "\n",
       "julia> sum(A, dims=1)\n",
       "1×2 Array{Int64,2}:\n",
       " 4  6\n",
       "\n",
       "julia> sum(A, dims=2)\n",
       "2×1 Array{Int64,2}:\n",
       " 3\n",
       " 7\n",
       "```\n"
      ],
      "text/plain": [
       "  \u001b[38;5;81msum\u001b[0m(\u001b[0m\u001b[39mf\u001b[0m\u001b[39m,\u001b[0m \u001b[0m\u001b[39mitr\u001b[0m\u001b[39m)\u001b[0m\u001b[39m\u001b[0m\n",
       "\n",
       "\n",
       "  Sum the results of calling function \u001b[36mf\u001b[39m on each element of \u001b[36mitr\u001b[39m.\n",
       "\n",
       "  The return type is \u001b[36mInt\u001b[39m for signed integers of less than system word size,\n",
       "  and \u001b[36mUInt\u001b[39m for unsigned integers of less than system word size. For all other\n",
       "  arguments, a common return type is found to which all arguments are\n",
       "  promoted.\n",
       "\n",
       "\u001b[1m  Examples\u001b[22m\n",
       "\u001b[1m  ≡≡≡≡≡≡≡≡≡≡\u001b[22m\n",
       "\n",
       "  \u001b[31;1mjulia> \u001b[0m\u001b[38;5;81msum\u001b[0m(\u001b[0m\u001b[39mabs2\u001b[0m\u001b[39m,\u001b[0m \u001b[0m\u001b[39m[\u001b[0m\u001b[38;5;141m2\u001b[0m\u001b[39m;\u001b[0m \u001b[0m\u001b[38;5;141m3\u001b[0m\u001b[39m;\u001b[0m \u001b[0m\u001b[38;5;141m4\u001b[0m\u001b[39m]\u001b[0m\u001b[39m)\u001b[0m\n",
       "  \u001b[0m\u001b[39m\u001b[0m29\n",
       "\n",
       "\n",
       "  Note the important difference between \u001b[36msum(A)\u001b[39m and \u001b[36mreduce(+, A)\u001b[39m for arrays\n",
       "  with small integer eltype:\n",
       "\n",
       "  \u001b[31;1mjulia> \u001b[0m\u001b[38;5;81msum\u001b[0m(\u001b[0m\u001b[39mInt8\u001b[0m\u001b[39m[\u001b[0m\u001b[38;5;141m100\u001b[0m\u001b[39m,\u001b[0m \u001b[0m\u001b[38;5;141m28\u001b[0m\u001b[39m]\u001b[0m\u001b[39m)\u001b[0m\n",
       "  \u001b[0m\u001b[39m\u001b[0m128\n",
       "  \n",
       "  \u001b[31;1mjulia> \u001b[0m\u001b[38;5;81mreduce\u001b[0m(\u001b[0m\u001b[38;5;197m+\u001b[0m\u001b[39m,\u001b[0m \u001b[0m\u001b[39mInt8\u001b[0m\u001b[39m[\u001b[0m\u001b[38;5;141m100\u001b[0m\u001b[39m,\u001b[0m \u001b[0m\u001b[38;5;141m28\u001b[0m\u001b[39m]\u001b[0m\u001b[39m)\u001b[0m\n",
       "  \u001b[0m\u001b[39m\u001b[0m-128\n",
       "\n",
       "\n",
       "  In the former case, the integers are widened to system word size and\n",
       "  therefore the result is 128. In the latter case, no such widening happens\n",
       "  and integer overflow results in -128.\n",
       "\n",
       "  ────────────────────────────────────────────────────────────────────────────\n",
       "\n",
       "  \u001b[38;5;81msum\u001b[0m(\u001b[0m\u001b[39mitr\u001b[0m\u001b[39m)\u001b[0m\u001b[39m\u001b[0m\n",
       "\n",
       "\n",
       "  Returns the sum of all elements in a collection.\n",
       "\n",
       "  The return type is \u001b[36mInt\u001b[39m for signed integers of less than system word size,\n",
       "  and \u001b[36mUInt\u001b[39m for unsigned integers of less than system word size. For all other\n",
       "  arguments, a common return type is found to which all arguments are\n",
       "  promoted.\n",
       "\n",
       "\u001b[1m  Examples\u001b[22m\n",
       "\u001b[1m  ≡≡≡≡≡≡≡≡≡≡\u001b[22m\n",
       "\n",
       "  \u001b[31;1mjulia> \u001b[0m\u001b[38;5;81msum\u001b[0m(\u001b[0m\u001b[38;5;141m1\u001b[0m\u001b[38;5;197m:\u001b[0m\u001b[38;5;141m20\u001b[0m\u001b[39m)\u001b[0m\n",
       "  \u001b[0m\u001b[39m\u001b[0m210\n",
       "\n",
       "\n",
       "  ────────────────────────────────────────────────────────────────────────────\n",
       "\n",
       "  \u001b[38;5;81msum\u001b[0m(\u001b[0m\u001b[39mA\u001b[0m\u001b[38;5;81m::\u001b[0m\u001b[38;5;81mAbstractArray\u001b[0m\u001b[39m;\u001b[0m \u001b[0m\u001b[39mdims\u001b[0m\u001b[39m)\u001b[0m\u001b[39m\u001b[0m\n",
       "\n",
       "\n",
       "  Sum elements of an array over the given dimensions.\n",
       "\n",
       "\u001b[1m  Examples\u001b[22m\n",
       "\u001b[1m  ≡≡≡≡≡≡≡≡≡≡\u001b[22m\n",
       "\n",
       "  \u001b[31;1mjulia> \u001b[0m\u001b[39mA\u001b[0m \u001b[0m\u001b[38;5;197m=\u001b[0m \u001b[0m\u001b[39m[\u001b[0m\u001b[38;5;141m1\u001b[0m \u001b[0m\u001b[38;5;141m2\u001b[0m\u001b[39m;\u001b[0m \u001b[0m\u001b[38;5;141m3\u001b[0m \u001b[0m\u001b[38;5;141m4\u001b[0m\u001b[39m]\u001b[0m\n",
       "  \u001b[0m\u001b[39m\u001b[0m2×2 Array{Int64,2}:\n",
       "   1  2\n",
       "   3  4\n",
       "  \n",
       "  \u001b[31;1mjulia> \u001b[0m\u001b[38;5;81msum\u001b[0m(\u001b[0m\u001b[39mA\u001b[0m\u001b[39m,\u001b[0m \u001b[0m\u001b[39mdims\u001b[0m\u001b[38;5;197m=\u001b[0m\u001b[38;5;141m1\u001b[0m\u001b[39m)\u001b[0m\n",
       "  \u001b[0m\u001b[39m\u001b[0m1×2 Array{Int64,2}:\n",
       "   4  6\n",
       "  \n",
       "  \u001b[31;1mjulia> \u001b[0m\u001b[38;5;81msum\u001b[0m(\u001b[0m\u001b[39mA\u001b[0m\u001b[39m,\u001b[0m \u001b[0m\u001b[39mdims\u001b[0m\u001b[38;5;197m=\u001b[0m\u001b[38;5;141m2\u001b[0m\u001b[39m)\u001b[0m\n",
       "  \u001b[0m\u001b[39m\u001b[0m2×1 Array{Int64,2}:\n",
       "   3\n",
       "   7\n"
      ]
     },
     "execution_count": 9,
     "metadata": {},
     "output_type": "execute_result"
    }
   ],
   "source": [
    "?sum"
   ]
  },
  {
   "cell_type": "markdown",
   "metadata": {},
   "source": [
    "### Variables and Operators\n",
    "\n",
    "In this section we will cover Julia's main syntax. \n",
    "\n",
    "\n",
    "* One of Julia's key features is that it is a ___typed___ language\n",
    "\n",
    "* This means that the programmer can choose the type of variables or the types of arguments to a function that represent data\n",
    "\n",
    "* Julia can infer the type of a variable from the way it is initialized, for example: "
   ]
  },
  {
   "cell_type": "code",
   "execution_count": 1,
   "metadata": {},
   "outputs": [
    {
     "data": {
      "text/plain": [
       "1"
      ]
     },
     "execution_count": 1,
     "metadata": {},
     "output_type": "execute_result"
    }
   ],
   "source": [
    "x = 1"
   ]
  },
  {
   "cell_type": "code",
   "execution_count": 2,
   "metadata": {},
   "outputs": [
    {
     "data": {
      "text/plain": [
       "Int64"
      ]
     },
     "execution_count": 2,
     "metadata": {},
     "output_type": "execute_result"
    }
   ],
   "source": [
    "## It's an Int64\n",
    "typeof(x)"
   ]
  },
  {
   "cell_type": "markdown",
   "metadata": {},
   "source": [
    "* Julia understands that this is an _integer_ type \n",
    "\n",
    "* In addition, Julia is a ___dynamically-typed___ language. That means that even after it is declared it can be assigned to a new type of data. "
   ]
  },
  {
   "cell_type": "code",
   "execution_count": 3,
   "metadata": {},
   "outputs": [
    {
     "data": {
      "text/plain": [
       "\"Hello, World!\""
      ]
     },
     "execution_count": 3,
     "metadata": {},
     "output_type": "execute_result"
    }
   ],
   "source": [
    "x = \"Hello, World!\""
   ]
  },
  {
   "cell_type": "code",
   "execution_count": 4,
   "metadata": {},
   "outputs": [
    {
     "data": {
      "text/plain": [
       "String"
      ]
     },
     "execution_count": 4,
     "metadata": {},
     "output_type": "execute_result"
    }
   ],
   "source": [
    "## Now it's a String\n",
    "typeof(x)"
   ]
  },
  {
   "cell_type": "markdown",
   "metadata": {},
   "source": [
    "#### Integers\n",
    "\n",
    "* There are two basic types of integers: 1) signed and 2) unsigned\n",
    "\n",
    "* The signed integer types are: `Int8`, `Int32`, `Int64`, and `Int128`\n",
    "\n",
    "* The unsiqned integer types are: `UInt8`, `UInt32`, `UInt64`, and `UInt128`\n",
    "\n",
    "* Julia also has a `BigInt` type for when there is a need for high precision outside the range allowed above the types of integers. \n",
    "\n",
    "* When we try to store an integer data type outside of the allowed range, say $[-128, 127]$ for `Int8`, we will get overflow (or underflow)\n",
    "\n",
    "* Julia does not up-cast these automatically, so care is needed in working with your data. "
   ]
  },
  {
   "cell_type": "code",
   "execution_count": 9,
   "metadata": {},
   "outputs": [
    {
     "ename": "InexactError",
     "evalue": "InexactError: trunc(Int8, 128)",
     "output_type": "error",
     "traceback": [
      "InexactError: trunc(Int8, 128)",
      "",
      "Stacktrace:",
      " [1] throw_inexacterror(::Symbol, ::Type{Int8}, ::Int64) at ./boot.jl:560",
      " [2] checked_trunc_sint at ./boot.jl:582 [inlined]",
      " [3] toInt8 at ./boot.jl:597 [inlined]",
      " [4] Int8 at ./boot.jl:707 [inlined]",
      " [5] convert(::Type{Int8}, ::Int64) at ./number.jl:7",
      " [6] top-level scope at In[9]:1"
     ]
    }
   ],
   "source": [
    "local w::Int8 = 128"
   ]
  },
  {
   "cell_type": "code",
   "execution_count": 13,
   "metadata": {},
   "outputs": [
    {
     "data": {
      "text/plain": [
       "129"
      ]
     },
     "execution_count": 13,
     "metadata": {},
     "output_type": "execute_result"
    }
   ],
   "source": [
    "local w::Int32 = 129"
   ]
  },
  {
   "cell_type": "code",
   "execution_count": 10,
   "metadata": {},
   "outputs": [
    {
     "data": {
      "text/plain": [
       "120"
      ]
     },
     "execution_count": 10,
     "metadata": {},
     "output_type": "execute_result"
    }
   ],
   "source": [
    "local w::Int8 = 120"
   ]
  },
  {
   "cell_type": "code",
   "execution_count": 11,
   "metadata": {},
   "outputs": [
    {
     "data": {
      "text/plain": [
       "130"
      ]
     },
     "execution_count": 11,
     "metadata": {},
     "output_type": "execute_result"
    }
   ],
   "source": [
    "w = 130"
   ]
  },
  {
   "cell_type": "code",
   "execution_count": 12,
   "metadata": {},
   "outputs": [
    {
     "data": {
      "text/plain": [
       "Int64"
      ]
     },
     "execution_count": 12,
     "metadata": {},
     "output_type": "execute_result"
    }
   ],
   "source": [
    "typeof(w)"
   ]
  },
  {
   "cell_type": "markdown",
   "metadata": {},
   "source": [
    "#### Booleans\n",
    "\n",
    "* Julia has a type `Bool`.\n",
    "\n",
    "\n",
    "* The `Bool` type is used for logical variables that take the values `true` or `false`"
   ]
  },
  {
   "cell_type": "code",
   "execution_count": 13,
   "metadata": {},
   "outputs": [
    {
     "data": {
      "text/plain": [
       "true"
      ]
     },
     "execution_count": 13,
     "metadata": {},
     "output_type": "execute_result"
    }
   ],
   "source": [
    "x = (1 > 0)"
   ]
  },
  {
   "cell_type": "code",
   "execution_count": 14,
   "metadata": {},
   "outputs": [
    {
     "data": {
      "text/plain": [
       "Bool"
      ]
     },
     "execution_count": 14,
     "metadata": {},
     "output_type": "execute_result"
    }
   ],
   "source": [
    "typeof(x)"
   ]
  },
  {
   "cell_type": "code",
   "execution_count": 16,
   "metadata": {},
   "outputs": [
    {
     "data": {
      "text/plain": [
       "1"
      ]
     },
     "execution_count": 16,
     "metadata": {},
     "output_type": "execute_result"
    }
   ],
   "source": [
    "Int(x)"
   ]
  },
  {
   "cell_type": "markdown",
   "metadata": {},
   "source": [
    "#### Floating Point Numbers\n",
    "\n",
    "* Julia includes a second primative numeric type to represent decimal numbers\n",
    "\n",
    "\n",
    "* These are called ___floating point numbers___\n",
    "\n",
    "\n",
    "* These are the workhorse types for most of computational science (including finance and econometrics) \n",
    "\n",
    "\n",
    "* (__NB:__ Julia also allows you to create your very own ___primatives___)\n",
    "\n",
    "\n",
    "* Here are the basic floating point types: `Float16`, `Float32` (also called _single precision_), `Float64` (also called _double precision_)\n",
    "\n",
    "\n",
    "* For a very high level of precision, Julia has the type `BigFloat` \n",
    "\n",
    "\n",
    "* Of course, there is a trade-off between precision and performance. \n",
    "\n",
    "\n",
    "* For most of our work, we will use `Float64` to represent our financial and economic data (though sometimes we may prefer even `Float32` for performance reasons)\n",
    "\n"
   ]
  },
  {
   "cell_type": "code",
   "execution_count": 17,
   "metadata": {},
   "outputs": [
    {
     "data": {
      "text/plain": [
       "3.14"
      ]
     },
     "execution_count": 17,
     "metadata": {},
     "output_type": "execute_result"
    }
   ],
   "source": [
    "local x::Float32 = 3.14\n",
    "local y::Float64 = 3.14"
   ]
  },
  {
   "cell_type": "markdown",
   "metadata": {},
   "source": [
    "#### Complex Numbers\n",
    "\n",
    "\n",
    "* Julia supports complex numbers through its `Complex` type\n",
    "\n",
    "\n",
    "* It builds off of the primative numeric types\n"
   ]
  },
  {
   "cell_type": "code",
   "execution_count": 18,
   "metadata": {},
   "outputs": [
    {
     "data": {
      "text/plain": [
       "2 + 3im"
      ]
     },
     "execution_count": 18,
     "metadata": {},
     "output_type": "execute_result"
    }
   ],
   "source": [
    "c = 2 + 3im"
   ]
  },
  {
   "cell_type": "code",
   "execution_count": 19,
   "metadata": {},
   "outputs": [
    {
     "data": {
      "text/plain": [
       "Complex{Int64}"
      ]
     },
     "execution_count": 19,
     "metadata": {},
     "output_type": "execute_result"
    }
   ],
   "source": [
    "typeof(c)"
   ]
  },
  {
   "cell_type": "code",
   "execution_count": 20,
   "metadata": {},
   "outputs": [
    {
     "data": {
      "text/plain": [
       "2 + 3im"
      ]
     },
     "execution_count": 20,
     "metadata": {},
     "output_type": "execute_result"
    }
   ],
   "source": [
    "c = complex(2, 3)"
   ]
  },
  {
   "cell_type": "code",
   "execution_count": 21,
   "metadata": {},
   "outputs": [
    {
     "data": {
      "text/plain": [
       "Complex{Int64}"
      ]
     },
     "execution_count": 21,
     "metadata": {},
     "output_type": "execute_result"
    }
   ],
   "source": [
    "typeof(c)"
   ]
  },
  {
   "cell_type": "markdown",
   "metadata": {},
   "source": [
    "#### Strings\n",
    "\n",
    "* Julia has a `String` type to represent character data\n",
    "\n",
    "\n",
    "* Strings are a succession (or arrays) of characters in Julia\n",
    "\n",
    "\n",
    "* Before we go further with Strings, we first need to discuss characters\n"
   ]
  },
  {
   "cell_type": "code",
   "execution_count": 22,
   "metadata": {},
   "outputs": [
    {
     "data": {
      "text/plain": [
       "'y': ASCII/Unicode U+0079 (category Ll: Letter, lowercase)"
      ]
     },
     "execution_count": 22,
     "metadata": {},
     "output_type": "execute_result"
    }
   ],
   "source": [
    "y = 'y'"
   ]
  },
  {
   "cell_type": "code",
   "execution_count": 23,
   "metadata": {},
   "outputs": [
    {
     "data": {
      "text/plain": [
       "Char"
      ]
     },
     "execution_count": 23,
     "metadata": {},
     "output_type": "execute_result"
    }
   ],
   "source": [
    "typeof(y)"
   ]
  },
  {
   "cell_type": "markdown",
   "metadata": {},
   "source": [
    "* Basically, a `Char` stands for a single character \n",
    "\n",
    "\n",
    "* There is a numeric value assigned to each `Char` value\n",
    "\n",
    "\n",
    "* We can find it with the `Int()` function: "
   ]
  },
  {
   "cell_type": "code",
   "execution_count": 24,
   "metadata": {},
   "outputs": [
    {
     "data": {
      "text/plain": [
       "121"
      ]
     },
     "execution_count": 24,
     "metadata": {},
     "output_type": "execute_result"
    }
   ],
   "source": [
    "Int(y)"
   ]
  },
  {
   "cell_type": "markdown",
   "metadata": {},
   "source": [
    "* We can initiate a `String` with either double or triple quotes"
   ]
  },
  {
   "cell_type": "code",
   "execution_count": 25,
   "metadata": {},
   "outputs": [
    {
     "data": {
      "text/plain": [
       "\"Hello\""
      ]
     },
     "execution_count": 25,
     "metadata": {},
     "output_type": "execute_result"
    }
   ],
   "source": [
    "str = \"Hello\""
   ]
  },
  {
   "cell_type": "code",
   "execution_count": 26,
   "metadata": {},
   "outputs": [
    {
     "data": {
      "text/plain": [
       "String"
      ]
     },
     "execution_count": 26,
     "metadata": {},
     "output_type": "execute_result"
    }
   ],
   "source": [
    "typeof(str)"
   ]
  },
  {
   "cell_type": "markdown",
   "metadata": {},
   "source": [
    "* We can subset the String to get a single character"
   ]
  },
  {
   "cell_type": "code",
   "execution_count": 31,
   "metadata": {},
   "outputs": [
    {
     "data": {
      "text/plain": [
       "'H': ASCII/Unicode U+0048 (category Lu: Letter, uppercase)"
      ]
     },
     "execution_count": 31,
     "metadata": {},
     "output_type": "execute_result"
    }
   ],
   "source": [
    "str[1]"
   ]
  },
  {
   "cell_type": "code",
   "execution_count": 32,
   "metadata": {},
   "outputs": [
    {
     "data": {
      "text/plain": [
       "Char"
      ]
     },
     "execution_count": 32,
     "metadata": {},
     "output_type": "execute_result"
    }
   ],
   "source": [
    "typeof(str[1])"
   ]
  },
  {
   "cell_type": "markdown",
   "metadata": {},
   "source": [
    "* __NB:__ One thing to keep in mind (especially if coming from `C++`, `Java`, or `Python`) is that indexing in Julia starts at 1"
   ]
  },
  {
   "cell_type": "code",
   "execution_count": 33,
   "metadata": {},
   "outputs": [
    {
     "data": {
      "text/plain": [
       "\"el\""
      ]
     },
     "execution_count": 33,
     "metadata": {},
     "output_type": "execute_result"
    }
   ],
   "source": [
    "jike = str[2:3]"
   ]
  },
  {
   "cell_type": "code",
   "execution_count": 34,
   "metadata": {},
   "outputs": [
    {
     "data": {
      "text/plain": [
       "String"
      ]
     },
     "execution_count": 34,
     "metadata": {},
     "output_type": "execute_result"
    }
   ],
   "source": [
    "typeof(jike)"
   ]
  },
  {
   "cell_type": "markdown",
   "metadata": {},
   "source": [
    "### Operators"
   ]
  },
  {
   "cell_type": "markdown",
   "metadata": {},
   "source": [
    "#### Arithmetic Operators\n",
    "\n",
    "* Julia supports the standard arithmetic operators"
   ]
  },
  {
   "cell_type": "code",
   "execution_count": 35,
   "metadata": {},
   "outputs": [
    {
     "data": {
      "text/plain": [
       "9"
      ]
     },
     "execution_count": 35,
     "metadata": {},
     "output_type": "execute_result"
    }
   ],
   "source": [
    "## Addition is what you would think\n",
    "4 + 5"
   ]
  },
  {
   "cell_type": "code",
   "execution_count": 36,
   "metadata": {},
   "outputs": [
    {
     "data": {
      "text/plain": [
       "1"
      ]
     },
     "execution_count": 36,
     "metadata": {},
     "output_type": "execute_result"
    }
   ],
   "source": [
    "## So is subtraction\n",
    "5 - 4"
   ]
  },
  {
   "cell_type": "code",
   "execution_count": 37,
   "metadata": {},
   "outputs": [
    {
     "data": {
      "text/plain": [
       "6"
      ]
     },
     "execution_count": 37,
     "metadata": {},
     "output_type": "execute_result"
    }
   ],
   "source": [
    "## Use an asterisk for multiplication\n",
    "2 * 3"
   ]
  },
  {
   "cell_type": "code",
   "execution_count": 40,
   "metadata": {},
   "outputs": [
    {
     "data": {
      "text/plain": [
       "2.0"
      ]
     },
     "execution_count": 40,
     "metadata": {},
     "output_type": "execute_result"
    }
   ],
   "source": [
    "## Use a slash for division\n",
    "4/2"
   ]
  },
  {
   "cell_type": "markdown",
   "metadata": {},
   "source": [
    "#### Comparison Operators\n",
    "\n",
    "\n",
    "* We can apply the usual comparison operators, i.e. equality, inequality, less than, greater than for all types of primatives in Julia. \n",
    "\n",
    "\n",
    "* Their use is rather intuitive"
   ]
  },
  {
   "cell_type": "code",
   "execution_count": 41,
   "metadata": {},
   "outputs": [
    {
     "data": {
      "text/plain": [
       "true"
      ]
     },
     "execution_count": 41,
     "metadata": {},
     "output_type": "execute_result"
    }
   ],
   "source": [
    "## Notice the double equal signs\n",
    "5 == 5"
   ]
  },
  {
   "cell_type": "code",
   "execution_count": 42,
   "metadata": {},
   "outputs": [
    {
     "data": {
      "text/plain": [
       "false"
      ]
     },
     "execution_count": 42,
     "metadata": {},
     "output_type": "execute_result"
    }
   ],
   "source": [
    "5 == 6"
   ]
  },
  {
   "cell_type": "code",
   "execution_count": 43,
   "metadata": {},
   "outputs": [
    {
     "data": {
      "text/plain": [
       "true"
      ]
     },
     "execution_count": 43,
     "metadata": {},
     "output_type": "execute_result"
    }
   ],
   "source": [
    "5 != 6"
   ]
  },
  {
   "cell_type": "code",
   "execution_count": 44,
   "metadata": {},
   "outputs": [
    {
     "data": {
      "text/plain": [
       "false"
      ]
     },
     "execution_count": 44,
     "metadata": {},
     "output_type": "execute_result"
    }
   ],
   "source": [
    "5 > 6"
   ]
  },
  {
   "cell_type": "code",
   "execution_count": 45,
   "metadata": {},
   "outputs": [
    {
     "data": {
      "text/plain": [
       "true"
      ]
     },
     "execution_count": 45,
     "metadata": {},
     "output_type": "execute_result"
    }
   ],
   "source": [
    "5 < 6"
   ]
  },
  {
   "cell_type": "markdown",
   "metadata": {},
   "source": [
    "#### Updating Operators\n",
    "\n",
    "\n",
    "* We can update the value of any variable using ___updating operators___. \n",
    "\n",
    "\n",
    "* Just at the `=` sign to the usual arithmetic operator\n",
    "\n",
    "\n",
    "* The result is the operation done on the left-hand side operand "
   ]
  },
  {
   "cell_type": "code",
   "execution_count": 46,
   "metadata": {},
   "outputs": [
    {
     "data": {
      "text/plain": [
       "2"
      ]
     },
     "execution_count": 46,
     "metadata": {},
     "output_type": "execute_result"
    }
   ],
   "source": [
    "x = 2"
   ]
  },
  {
   "cell_type": "code",
   "execution_count": 48,
   "metadata": {},
   "outputs": [
    {
     "data": {
      "text/plain": [
       "10"
      ]
     },
     "execution_count": 48,
     "metadata": {},
     "output_type": "execute_result"
    }
   ],
   "source": [
    "x += 4"
   ]
  },
  {
   "cell_type": "markdown",
   "metadata": {},
   "source": [
    "#### Mathematical Functions\n",
    "\n",
    "* Julia makes scientific computing a first class citizen in the language and as a result comes with a host of mathematical functions baked right in\n",
    "\n",
    "* "
   ]
  },
  {
   "cell_type": "code",
   "execution_count": 49,
   "metadata": {},
   "outputs": [
    {
     "data": {
      "text/plain": [
       "1.0"
      ]
     },
     "execution_count": 49,
     "metadata": {},
     "output_type": "execute_result"
    }
   ],
   "source": [
    "round(1.2)"
   ]
  },
  {
   "cell_type": "code",
   "execution_count": 50,
   "metadata": {},
   "outputs": [
    {
     "data": {
      "text/plain": [
       "3.0"
      ]
     },
     "execution_count": 50,
     "metadata": {},
     "output_type": "execute_result"
    }
   ],
   "source": [
    "sqrt(9)"
   ]
  },
  {
   "cell_type": "code",
   "execution_count": 51,
   "metadata": {},
   "outputs": [
    {
     "data": {
      "text/plain": [
       "20.085536923187668"
      ]
     },
     "execution_count": 51,
     "metadata": {},
     "output_type": "execute_result"
    }
   ],
   "source": [
    "exp(3)"
   ]
  },
  {
   "cell_type": "code",
   "execution_count": 52,
   "metadata": {},
   "outputs": [
    {
     "data": {
      "text/plain": [
       "2.302585092994046"
      ]
     },
     "execution_count": 52,
     "metadata": {},
     "output_type": "execute_result"
    }
   ],
   "source": [
    "log(10)"
   ]
  },
  {
   "cell_type": "markdown",
   "metadata": {},
   "source": [
    " * Trigonometric, hyperbolic, and other special functions are also well covered. See the documentation for more information."
   ]
  },
  {
   "cell_type": "markdown",
   "metadata": {},
   "source": [
    "### Vectors\n",
    "\n",
    "* Julia has very powerful array types built-in\n",
    "\n",
    "* The type for a one-dimensional array or vector is `Array{Type,N}(dims)` type `Type` stands for the type of the data, while `N` stands for the length of the vector, which is determined by `dims`. \n",
    "\n",
    "\n",
    "* There are different ways to create vectors in Julia"
   ]
  },
  {
   "cell_type": "code",
   "execution_count": 53,
   "metadata": {},
   "outputs": [
    {
     "data": {
      "text/plain": [
       "Array{Float32,3}"
      ]
     },
     "execution_count": 53,
     "metadata": {},
     "output_type": "execute_result"
    }
   ],
   "source": [
    "v = Array{Float32, 3}"
   ]
  },
  {
   "cell_type": "code",
   "execution_count": 54,
   "metadata": {},
   "outputs": [
    {
     "name": "stdout",
     "output_type": "stream",
     "text": [
      "Array{Float32,3}"
     ]
    }
   ],
   "source": [
    "show(v)"
   ]
  },
  {
   "cell_type": "markdown",
   "metadata": {},
   "source": [
    "* It's better to do it this way though"
   ]
  },
  {
   "cell_type": "code",
   "execution_count": 55,
   "metadata": {},
   "outputs": [
    {
     "data": {
      "text/plain": [
       "0-element Array{Float32,1}"
      ]
     },
     "execution_count": 55,
     "metadata": {},
     "output_type": "execute_result"
    }
   ],
   "source": [
    "v = Float32[]"
   ]
  },
  {
   "cell_type": "markdown",
   "metadata": {},
   "source": [
    "* There are alternative ways to create vectors which can be very useful in doing computational work"
   ]
  },
  {
   "cell_type": "code",
   "execution_count": 56,
   "metadata": {},
   "outputs": [
    {
     "data": {
      "text/plain": [
       "5-element Array{Float64,1}:\n",
       " 0.0\n",
       " 0.0\n",
       " 0.0\n",
       " 0.0\n",
       " 0.0"
      ]
     },
     "execution_count": 56,
     "metadata": {},
     "output_type": "execute_result"
    }
   ],
   "source": [
    "v1 = zeros(5)"
   ]
  },
  {
   "cell_type": "code",
   "execution_count": 58,
   "metadata": {},
   "outputs": [
    {
     "data": {
      "text/plain": [
       "6"
      ]
     },
     "execution_count": 58,
     "metadata": {},
     "output_type": "execute_result"
    }
   ],
   "source": [
    "v1[4] = 6"
   ]
  },
  {
   "cell_type": "code",
   "execution_count": 60,
   "metadata": {},
   "outputs": [
    {
     "data": {
      "text/plain": [
       "5-element Array{Float64,1}:\n",
       " 0.0\n",
       " 0.0\n",
       " 0.0\n",
       " 6.0\n",
       " 0.0"
      ]
     },
     "execution_count": 60,
     "metadata": {},
     "output_type": "execute_result"
    }
   ],
   "source": [
    "v1"
   ]
  },
  {
   "cell_type": "code",
   "execution_count": 61,
   "metadata": {},
   "outputs": [
    {
     "data": {
      "text/plain": [
       "5-element Array{Float64,1}:\n",
       " 1.0\n",
       " 1.0\n",
       " 1.0\n",
       " 1.0\n",
       " 1.0"
      ]
     },
     "execution_count": 61,
     "metadata": {},
     "output_type": "execute_result"
    }
   ],
   "source": [
    "v2 = ones(5)"
   ]
  },
  {
   "cell_type": "markdown",
   "metadata": {},
   "source": [
    "* We can use the `range` function to create sequences"
   ]
  },
  {
   "cell_type": "code",
   "execution_count": 62,
   "metadata": {},
   "outputs": [
    {
     "name": "stdout",
     "output_type": "stream",
     "text": [
      "search: \u001b[0m\u001b[1mr\u001b[22m\u001b[0m\u001b[1ma\u001b[22m\u001b[0m\u001b[1mn\u001b[22m\u001b[0m\u001b[1mg\u001b[22m\u001b[0m\u001b[1me\u001b[22m Lin\u001b[0m\u001b[1mR\u001b[22m\u001b[0m\u001b[1ma\u001b[22m\u001b[0m\u001b[1mn\u001b[22m\u001b[0m\u001b[1mg\u001b[22m\u001b[0m\u001b[1me\u001b[22m Unit\u001b[0m\u001b[1mR\u001b[22m\u001b[0m\u001b[1ma\u001b[22m\u001b[0m\u001b[1mn\u001b[22m\u001b[0m\u001b[1mg\u001b[22m\u001b[0m\u001b[1me\u001b[22m Step\u001b[0m\u001b[1mR\u001b[22m\u001b[0m\u001b[1ma\u001b[22m\u001b[0m\u001b[1mn\u001b[22m\u001b[0m\u001b[1mg\u001b[22m\u001b[0m\u001b[1me\u001b[22m Step\u001b[0m\u001b[1mR\u001b[22m\u001b[0m\u001b[1ma\u001b[22m\u001b[0m\u001b[1mn\u001b[22m\u001b[0m\u001b[1mg\u001b[22m\u001b[0m\u001b[1me\u001b[22mLen t\u001b[0m\u001b[1mr\u001b[22m\u001b[0m\u001b[1ma\u001b[22mili\u001b[0m\u001b[1mn\u001b[22m\u001b[0m\u001b[1mg\u001b[22m_z\u001b[0m\u001b[1me\u001b[22mros\n",
      "\n"
     ]
    },
    {
     "data": {
      "text/latex": [
       "\\begin{verbatim}\n",
       "range(start[, stop]; length, stop, step=1)\n",
       "\\end{verbatim}\n",
       "Given a starting value, construct a range either by length or from \\texttt{start} to \\texttt{stop}, optionally with a given step (defaults to 1, a \\href{@ref}{\\texttt{UnitRange}}). One of \\texttt{length} or \\texttt{stop} is required.  If \\texttt{length}, \\texttt{stop}, and \\texttt{step} are all specified, they must agree.\n",
       "\n",
       "If \\texttt{length} and \\texttt{stop} are provided and \\texttt{step} is not, the step size will be computed automatically such that there are \\texttt{length} linearly spaced elements in the range (a \\href{@ref}{\\texttt{LinRange}}).\n",
       "\n",
       "If \\texttt{step} and \\texttt{stop} are provided and \\texttt{length} is not, the overall range length will be computed automatically such that the elements are \\texttt{step} spaced (a \\href{@ref}{\\texttt{StepRange}}).\n",
       "\n",
       "\\texttt{stop} may be specified as either a positional or keyword argument.\n",
       "\n",
       "\\begin{quote}\n",
       "\\textbf{compat}\n",
       "\n",
       "Julia 1.1\n",
       "\n",
       "\\texttt{stop} as a positional argument requires at least Julia 1.1.\n",
       "\n",
       "\\end{quote}\n",
       "\\section{Examples}\n",
       "\\begin{verbatim}\n",
       "julia> range(1, length=100)\n",
       "1:100\n",
       "\n",
       "julia> range(1, stop=100)\n",
       "1:100\n",
       "\n",
       "julia> range(1, step=5, length=100)\n",
       "1:5:496\n",
       "\n",
       "julia> range(1, step=5, stop=100)\n",
       "1:5:96\n",
       "\n",
       "julia> range(1, 10, length=101)\n",
       "1.0:0.09:10.0\n",
       "\n",
       "julia> range(1, 100, step=5)\n",
       "1:5:96\n",
       "\\end{verbatim}\n"
      ],
      "text/markdown": [
       "```\n",
       "range(start[, stop]; length, stop, step=1)\n",
       "```\n",
       "\n",
       "Given a starting value, construct a range either by length or from `start` to `stop`, optionally with a given step (defaults to 1, a [`UnitRange`](@ref)). One of `length` or `stop` is required.  If `length`, `stop`, and `step` are all specified, they must agree.\n",
       "\n",
       "If `length` and `stop` are provided and `step` is not, the step size will be computed automatically such that there are `length` linearly spaced elements in the range (a [`LinRange`](@ref)).\n",
       "\n",
       "If `step` and `stop` are provided and `length` is not, the overall range length will be computed automatically such that the elements are `step` spaced (a [`StepRange`](@ref)).\n",
       "\n",
       "`stop` may be specified as either a positional or keyword argument.\n",
       "\n",
       "!!! compat \"Julia 1.1\"\n",
       "    `stop` as a positional argument requires at least Julia 1.1.\n",
       "\n",
       "\n",
       "# Examples\n",
       "\n",
       "```jldoctest\n",
       "julia> range(1, length=100)\n",
       "1:100\n",
       "\n",
       "julia> range(1, stop=100)\n",
       "1:100\n",
       "\n",
       "julia> range(1, step=5, length=100)\n",
       "1:5:496\n",
       "\n",
       "julia> range(1, step=5, stop=100)\n",
       "1:5:96\n",
       "\n",
       "julia> range(1, 10, length=101)\n",
       "1.0:0.09:10.0\n",
       "\n",
       "julia> range(1, 100, step=5)\n",
       "1:5:96\n",
       "```\n"
      ],
      "text/plain": [
       "  \u001b[38;5;81mrange\u001b[0m(\u001b[0m\u001b[39mstart\u001b[0m\u001b[39m[\u001b[0m\u001b[39m,\u001b[0m \u001b[0m\u001b[39mstop\u001b[0m\u001b[39m]\u001b[0m\u001b[39m;\u001b[0m \u001b[0m\u001b[39mlength\u001b[0m\u001b[39m,\u001b[0m \u001b[0m\u001b[39mstop\u001b[0m\u001b[39m,\u001b[0m \u001b[0m\u001b[39mstep\u001b[0m\u001b[38;5;197m=\u001b[0m\u001b[38;5;141m1\u001b[0m\u001b[39m)\u001b[0m\u001b[39m\u001b[0m\n",
       "\n",
       "\n",
       "  Given a starting value, construct a range either by length or from \u001b[36mstart\u001b[39m to\n",
       "  \u001b[36mstop\u001b[39m, optionally with a given step (defaults to 1, a \u001b[36mUnitRange\u001b[39m). One of\n",
       "  \u001b[36mlength\u001b[39m or \u001b[36mstop\u001b[39m is required. If \u001b[36mlength\u001b[39m, \u001b[36mstop\u001b[39m, and \u001b[36mstep\u001b[39m are all specified,\n",
       "  they must agree.\n",
       "\n",
       "  If \u001b[36mlength\u001b[39m and \u001b[36mstop\u001b[39m are provided and \u001b[36mstep\u001b[39m is not, the step size will be\n",
       "  computed automatically such that there are \u001b[36mlength\u001b[39m linearly spaced elements\n",
       "  in the range (a \u001b[36mLinRange\u001b[39m).\n",
       "\n",
       "  If \u001b[36mstep\u001b[39m and \u001b[36mstop\u001b[39m are provided and \u001b[36mlength\u001b[39m is not, the overall range length\n",
       "  will be computed automatically such that the elements are \u001b[36mstep\u001b[39m spaced (a\n",
       "  \u001b[36mStepRange\u001b[39m).\n",
       "\n",
       "  \u001b[36mstop\u001b[39m may be specified as either a positional or keyword argument.\n",
       "\n",
       "\u001b[39m\u001b[1m  │ \u001b[22m\u001b[39m\u001b[1mJulia 1.1\u001b[22m\n",
       "\u001b[39m\u001b[1m  │\u001b[22m\n",
       "\u001b[39m\u001b[1m  │\u001b[22m  \u001b[36mstop\u001b[39m as a positional argument requires at least Julia 1.1.\n",
       "\n",
       "\u001b[1m  Examples\u001b[22m\n",
       "\u001b[1m  ≡≡≡≡≡≡≡≡≡≡\u001b[22m\n",
       "\n",
       "  \u001b[31;1mjulia> \u001b[0m\u001b[38;5;81mrange\u001b[0m(\u001b[0m\u001b[38;5;141m1\u001b[0m\u001b[39m,\u001b[0m \u001b[0m\u001b[39mlength\u001b[0m\u001b[38;5;197m=\u001b[0m\u001b[38;5;141m100\u001b[0m\u001b[39m)\u001b[0m\n",
       "  \u001b[0m\u001b[39m\u001b[0m1:100\n",
       "  \n",
       "  \u001b[31;1mjulia> \u001b[0m\u001b[38;5;81mrange\u001b[0m(\u001b[0m\u001b[38;5;141m1\u001b[0m\u001b[39m,\u001b[0m \u001b[0m\u001b[39mstop\u001b[0m\u001b[38;5;197m=\u001b[0m\u001b[38;5;141m100\u001b[0m\u001b[39m)\u001b[0m\n",
       "  \u001b[0m\u001b[39m\u001b[0m1:100\n",
       "  \n",
       "  \u001b[31;1mjulia> \u001b[0m\u001b[38;5;81mrange\u001b[0m(\u001b[0m\u001b[38;5;141m1\u001b[0m\u001b[39m,\u001b[0m \u001b[0m\u001b[39mstep\u001b[0m\u001b[38;5;197m=\u001b[0m\u001b[38;5;141m5\u001b[0m\u001b[39m,\u001b[0m \u001b[0m\u001b[39mlength\u001b[0m\u001b[38;5;197m=\u001b[0m\u001b[38;5;141m100\u001b[0m\u001b[39m)\u001b[0m\n",
       "  \u001b[0m\u001b[39m\u001b[0m1:5:496\n",
       "  \n",
       "  \u001b[31;1mjulia> \u001b[0m\u001b[38;5;81mrange\u001b[0m(\u001b[0m\u001b[38;5;141m1\u001b[0m\u001b[39m,\u001b[0m \u001b[0m\u001b[39mstep\u001b[0m\u001b[38;5;197m=\u001b[0m\u001b[38;5;141m5\u001b[0m\u001b[39m,\u001b[0m \u001b[0m\u001b[39mstop\u001b[0m\u001b[38;5;197m=\u001b[0m\u001b[38;5;141m100\u001b[0m\u001b[39m)\u001b[0m\n",
       "  \u001b[0m\u001b[39m\u001b[0m1:5:96\n",
       "  \n",
       "  \u001b[31;1mjulia> \u001b[0m\u001b[38;5;81mrange\u001b[0m(\u001b[0m\u001b[38;5;141m1\u001b[0m\u001b[39m,\u001b[0m \u001b[0m\u001b[38;5;141m10\u001b[0m\u001b[39m,\u001b[0m \u001b[0m\u001b[39mlength\u001b[0m\u001b[38;5;197m=\u001b[0m\u001b[38;5;141m101\u001b[0m\u001b[39m)\u001b[0m\n",
       "  \u001b[0m\u001b[39m\u001b[0m1.0:0.09:10.0\n",
       "  \n",
       "  \u001b[31;1mjulia> \u001b[0m\u001b[38;5;81mrange\u001b[0m(\u001b[0m\u001b[38;5;141m1\u001b[0m\u001b[39m,\u001b[0m \u001b[0m\u001b[38;5;141m100\u001b[0m\u001b[39m,\u001b[0m \u001b[0m\u001b[39mstep\u001b[0m\u001b[38;5;197m=\u001b[0m\u001b[38;5;141m5\u001b[0m\u001b[39m)\u001b[0m\n",
       "  \u001b[0m\u001b[39m\u001b[0m1:5:96\n"
      ]
     },
     "execution_count": 62,
     "metadata": {},
     "output_type": "execute_result"
    }
   ],
   "source": [
    "?range"
   ]
  },
  {
   "cell_type": "code",
   "execution_count": 63,
   "metadata": {},
   "outputs": [
    {
     "data": {
      "text/plain": [
       "1:2:5"
      ]
     },
     "execution_count": 63,
     "metadata": {},
     "output_type": "execute_result"
    }
   ],
   "source": [
    "v2 = range(1, stop=5, step=2)"
   ]
  },
  {
   "cell_type": "code",
   "execution_count": 64,
   "metadata": {},
   "outputs": [
    {
     "data": {
      "text/plain": [
       "StepRange{Int64,Int64}"
      ]
     },
     "execution_count": 64,
     "metadata": {},
     "output_type": "execute_result"
    }
   ],
   "source": [
    "typeof(v2)"
   ]
  },
  {
   "cell_type": "code",
   "execution_count": 65,
   "metadata": {},
   "outputs": [
    {
     "data": {
      "text/plain": [
       "3-element Array{Int64,1}:\n",
       " 1\n",
       " 3\n",
       " 5"
      ]
     },
     "execution_count": 65,
     "metadata": {},
     "output_type": "execute_result"
    }
   ],
   "source": [
    "collect(v2)"
   ]
  },
  {
   "cell_type": "markdown",
   "metadata": {},
   "source": [
    "* We can use built-in pseudo-random number generators (PRNGs)"
   ]
  },
  {
   "cell_type": "code",
   "execution_count": 66,
   "metadata": {},
   "outputs": [
    {
     "data": {
      "text/plain": [
       "20-element Array{Float64,1}:\n",
       " 0.9410164248349369  \n",
       " 0.6507732625612082  \n",
       " 0.21514112111449224 \n",
       " 0.6514199483706984  \n",
       " 0.8582894874736429  \n",
       " 0.3006682683672719  \n",
       " 0.4997208292588673  \n",
       " 0.12917841005792186 \n",
       " 0.7311433113530597  \n",
       " 0.5870616563634272  \n",
       " 0.17771155611377631 \n",
       " 0.19973064031141585 \n",
       " 0.9278230450964009  \n",
       " 0.42018855478603245 \n",
       " 0.5279864781507477  \n",
       " 0.04299950541109432 \n",
       " 0.6686805365083646  \n",
       " 0.96438965955203    \n",
       " 0.004636930206813883\n",
       " 0.8490152818535281  "
      ]
     },
     "execution_count": 66,
     "metadata": {},
     "output_type": "execute_result"
    }
   ],
   "source": [
    "v = rand(20)"
   ]
  },
  {
   "cell_type": "code",
   "execution_count": 67,
   "metadata": {},
   "outputs": [
    {
     "data": {
      "text/plain": [
       "10-element Array{Float64,1}:\n",
       " -0.1946458579352076  \n",
       "  3.2164892529272926  \n",
       " -0.2258021545859412  \n",
       "  0.3473738902077344  \n",
       "  0.046135741233781724\n",
       " -0.33274639763465513 \n",
       "  0.9261046904004453  \n",
       "  0.006489972147602601\n",
       "  0.012178284737620905\n",
       "  0.33958744994791645 "
      ]
     },
     "execution_count": 67,
     "metadata": {},
     "output_type": "execute_result"
    }
   ],
   "source": [
    "randn(10)"
   ]
  },
  {
   "cell_type": "code",
   "execution_count": 70,
   "metadata": {},
   "outputs": [
    {
     "data": {
      "text/plain": [
       "Array{Float64,1}"
      ]
     },
     "execution_count": 70,
     "metadata": {},
     "output_type": "execute_result"
    }
   ],
   "source": [
    "typeof(v)"
   ]
  },
  {
   "cell_type": "markdown",
   "metadata": {},
   "source": [
    "* Julia has some simple yet powerful functions to help when working with arrays/vectors. \n",
    "\n",
    "\n",
    "* We can concatenate two vectors using the function `append`"
   ]
  },
  {
   "cell_type": "code",
   "execution_count": 76,
   "metadata": {},
   "outputs": [
    {
     "data": {
      "text/plain": [
       "3-element Array{Float64,1}:\n",
       " 1.0\n",
       " 1.0\n",
       " 1.0"
      ]
     },
     "execution_count": 76,
     "metadata": {},
     "output_type": "execute_result"
    }
   ],
   "source": [
    "v1 = zeros(2)\n",
    "v2 = ones(3)"
   ]
  },
  {
   "cell_type": "code",
   "execution_count": 77,
   "metadata": {},
   "outputs": [
    {
     "data": {
      "text/plain": [
       "5-element Array{Float64,1}:\n",
       " 0.0\n",
       " 0.0\n",
       " 1.0\n",
       " 1.0\n",
       " 1.0"
      ]
     },
     "execution_count": 77,
     "metadata": {},
     "output_type": "execute_result"
    }
   ],
   "source": [
    "## Notice the bang !\n",
    "append!(v1, v2)"
   ]
  },
  {
   "cell_type": "code",
   "execution_count": 78,
   "metadata": {},
   "outputs": [
    {
     "data": {
      "text/plain": [
       "5-element Array{Float64,1}:\n",
       " 0.0\n",
       " 0.0\n",
       " 1.0\n",
       " 1.0\n",
       " 1.0"
      ]
     },
     "execution_count": 78,
     "metadata": {},
     "output_type": "execute_result"
    }
   ],
   "source": [
    "## The result is appended to v1\n",
    "v1"
   ]
  },
  {
   "cell_type": "markdown",
   "metadata": {},
   "source": [
    "### Multidimensional Arrays\n",
    "\n",
    "\n",
    "* "
   ]
  },
  {
   "cell_type": "markdown",
   "metadata": {},
   "source": [
    "### Functions"
   ]
  },
  {
   "cell_type": "markdown",
   "metadata": {},
   "source": [
    "### Control Flow"
   ]
  },
  {
   "cell_type": "markdown",
   "metadata": {},
   "source": [
    "### Working with Data"
   ]
  },
  {
   "cell_type": "markdown",
   "metadata": {},
   "source": [
    "### Working with Dates"
   ]
  },
  {
   "cell_type": "markdown",
   "metadata": {},
   "source": [
    "### Data Frames"
   ]
  },
  {
   "cell_type": "markdown",
   "metadata": {},
   "source": [
    "### Plotting with Julia"
   ]
  },
  {
   "cell_type": "markdown",
   "metadata": {},
   "source": [
    "## Advanced Features"
   ]
  },
  {
   "cell_type": "markdown",
   "metadata": {},
   "source": [
    "### Julia's Type System"
   ]
  },
  {
   "cell_type": "markdown",
   "metadata": {},
   "source": [
    "### Multiple Dispatch"
   ]
  },
  {
   "cell_type": "markdown",
   "metadata": {},
   "source": [
    "### Vectorization"
   ]
  },
  {
   "cell_type": "code",
   "execution_count": null,
   "metadata": {},
   "outputs": [],
   "source": []
  },
  {
   "cell_type": "markdown",
   "metadata": {},
   "source": [
    "## References"
   ]
  },
  {
   "cell_type": "code",
   "execution_count": null,
   "metadata": {},
   "outputs": [],
   "source": []
  }
 ],
 "metadata": {
  "kernelspec": {
   "display_name": "Julia 1.3.0",
   "language": "julia",
   "name": "julia-1.3"
  },
  "language_info": {
   "file_extension": ".jl",
   "mimetype": "application/julia",
   "name": "julia",
   "version": "1.3.0"
  }
 },
 "nbformat": 4,
 "nbformat_minor": 4
}
