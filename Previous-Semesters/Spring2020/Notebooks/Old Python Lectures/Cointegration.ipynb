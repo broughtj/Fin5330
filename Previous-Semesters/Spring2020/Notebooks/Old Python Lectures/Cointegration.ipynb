{
 "cells": [
  {
   "cell_type": "markdown",
   "metadata": {},
   "source": [
    "# __Unit Roots, Cointegration, and Error-Correction Models (Python)__\n",
    "\n",
    "<br>\n",
    "\n",
    "Finance 6470: Derivatives Markets <br>\n",
    "Tyler J. Brough <br>\n",
    "Last Update: March 7, 2019 <br>\n",
    "<br>"
   ]
  },
  {
   "cell_type": "code",
   "execution_count": 1,
   "metadata": {},
   "outputs": [],
   "source": [
    "import numpy as np\n",
    "import pandas as pd\n",
    "import matplotlib.pyplot as plt"
   ]
  },
  {
   "cell_type": "markdown",
   "metadata": {},
   "source": [
    "## Unit Roots and Stationarity \n",
    "\n",
    "A simple starting model for efficient log-prices of assets is the ___Random Walk with Drift___ model:\n",
    "\n",
    "\n",
    "$$\n",
    "y_{t} = \\mu + y_{t-1} + \\epsilon_{t}, \\quad \\quad \\epsilon \\sim N(0, \\sigma_{\\epsilon}^{2})\n",
    "$$\n",
    "\n",
    "with something like $y_{t} = \\ln{(p_{t})}$ with $p_{t}$ a transaction price observed in some market. The expected value of this process is: \n",
    "\n",
    "$$\n",
    "E(y_{t}) = \\mu + y_{t-1}\n",
    "$$\n",
    "\n",
    "<br>\n",
    "\n",
    "To get the variance it is helpful to solve recursively as follows, assuming $y_{0} = 0$ for simplicity:\n",
    "\n",
    "$$\n",
    "y_{t} = t \\mu + \\sum\\limits_{i=0}^{t} \\epsilon_{t-i}\n",
    "$$\n",
    "\n",
    "<br>\n",
    "\n",
    "We can now state the variance of the process as:\n",
    "\n",
    "$$\n",
    "Var(y_{t}) = \\sum\\limits_{i=0}^{t} Var(\\epsilon_{t-i}) = Var(\\epsilon_{t}) + Var(\\epsilon_{t-1}) + \\cdots + Var(\\epsilon_{0}) = t \\sigma_{\\epsilon}^{2}\n",
    "$$\n",
    "\n",
    "<br>\n",
    "\n",
    "From this it is easy to see that this is an explosive process as the variance is proportional to time. This translates to the value of the process at any time $t$ being unpredictable based on the information known up to that time ($I_{t-1}$). This is a good starting place for a model of informationally efficient prices as the definition of such is one that incorporates all available information up to that point in time. \n",
    "\n",
    "<br>\n",
    "\n",
    "__NB:__ Samuelson's paper: [Proof That Properly Anticipated Prices Fluctuate Randomly](https://www.gyc.com.sg/files/p_samuelson-proof.pdf)\n",
    "\n",
    "<br>\n",
    "\n",
    "We can simulate this process as follows (setting $\\mu = 0$ for convenience):"
   ]
  },
  {
   "cell_type": "code",
   "execution_count": 2,
   "metadata": {},
   "outputs": [
    {
     "data": {
      "text/plain": [
       "<matplotlib.axes._subplots.AxesSubplot at 0x7f9dde59ef60>"
      ]
     },
     "execution_count": 2,
     "metadata": {},
     "output_type": "execute_result"
    },
    {
     "data": {
      "image/png": "[encoded data removed]",
      "text/plain": [
       "<Figure size 432x288 with 1 Axes>"
      ]
     },
     "metadata": {
      "needs_background": "light"
     },
     "output_type": "display_data"
    }
   ],
   "source": [
    "y = pd.Series(np.cumsum(np.random.normal(size=52*5)))\n",
    "y.plot(grid=True)"
   ]
  },
  {
   "cell_type": "markdown",
   "metadata": {},
   "source": [
    "### Weak Stationarity\n",
    "\n",
    "In the time series literature a process is known as [weakly stationary](https://en.wikipedia.org/wiki/Stationary_process#Weak_or_wide-sense_stationarity) if the mean and autocovariance are not time varying. \n",
    "\n",
    "<br>\n",
    "\n",
    "A few notes:\n",
    "\n",
    "* Clearly the random walk process is __NOT__ weakly stationary.\n",
    "* A weakly stationary time series process will exhibit mean reversion\n",
    "* Mean reversion in a time series can be such that there is some predictibility in the process\n",
    "\n",
    "<br>\n",
    "\n",
    "It makes sense that informationally efficient prices should behave as a random walk model (with possible other extensions).\n",
    "\n",
    "\n",
    "<br>\n",
    "<br>\n",
    "\n",
    "The random walk model is a special case of the AR(1) model:\n",
    "\n",
    "$$\n",
    "y_{t} = \\phi y_{t-1} + \\epsilon_{t}\n",
    "$$\n",
    "\n",
    "<br>\n",
    "\n",
    "It won't be shown here, but a technical requirement for the AR(1) model to be weakly stationary is $|\\phi| < 1$. For the random walk model $\\phi = 1$, thus the alternative name ___unit root___.\n",
    "\n",
    "<br>\n",
    "<br>\n",
    "\n",
    "### Some Notation\n",
    "\n",
    "A random walk model is also known as a unit-root non-stationary process. In the literature this is often denoted as $y_{t} \\sim I(1)$. We state this as: \"_the process $y_{t}$ is_ ___integrated of order one___.\"\n",
    "\n",
    "<br>\n",
    "<br>\n",
    "\n",
    "We can tranform and $I(1)$ process to a stationary process by ___first differencing___ the process like so:\n",
    "\n",
    "$$\n",
    "\\begin{aligned}\n",
    "y_{t} - y_{t-1} &= y_{t-1} - y_{t-1} + \\epsilon_{t} \\\\\n",
    "y_{t} - y_{t-1} &= \\epsilon_{t} \\\\\n",
    "\\Delta y_{t}    &= \\epsilon_{t}\n",
    "\\end{aligned}\n",
    "$$\n",
    "\n",
    "<br>\n",
    "<br>\n",
    "\n",
    "In this case we can denote that $\\Delta y_{t}$ is now weakly stationary with the notation $\\Delta y_{t} \\sim I(0)$, i.e. \"$\\Delta y_{t}$ _is_ ___integrated of order zero.___\""
   ]
  },
  {
   "cell_type": "markdown",
   "metadata": {},
   "source": [
    "## Spurious Regression\n",
    "\n",
    "It is important to understand the properties of unit root processes, because they can be problematic to work with in applying econometrics to finance. \n",
    "\n",
    "<br>\n",
    "\n",
    "For example, there is a well-known problem of ___spurious regression___ when one unit root process is regressed on an independent unit root process:\n",
    "\n",
    "<br>\n",
    "\n",
    "$$\n",
    "y_{t} = \\alpha + \\beta x_{t} + u_{t}, \\quad u_{t} \\sim N(0, \\sigma_{u}^{2})\n",
    "$$\n",
    "\n",
    "<br>\n",
    "\n",
    "This regression is not valid because the homoscedasticity assumption of the error term is violated (recall that $Var(y_{t}) = t\\sigma_{\\epsilon}^{2}$)\n",
    "\n",
    "<br>\n",
    "<br>\n",
    "\n",
    "This can be easily demonstrated by a simple Monte Carlo study as follows:"
   ]
  },
  {
   "cell_type": "code",
   "execution_count": 3,
   "metadata": {},
   "outputs": [],
   "source": [
    "from scipy import stats"
   ]
  },
  {
   "cell_type": "code",
   "execution_count": 4,
   "metadata": {},
   "outputs": [],
   "source": [
    "M = 10000\n",
    "N = 52 * 5\n",
    "betaHat = np.empty(M)\n",
    "Rsqrd = np.empty(M)\n",
    "\n",
    "for i in range(M):\n",
    "    y = np.cumsum(np.random.normal(size=N))\n",
    "    x = np.cumsum(np.random.normal(size=N))\n",
    "    reg = stats.linregress(x,y)\n",
    "    betaHat[i] = reg.slope\n",
    "    Rsqrd[i] = reg.rvalue ** 2"
   ]
  },
  {
   "cell_type": "code",
   "execution_count": 5,
   "metadata": {},
   "outputs": [
    {
     "data": {
      "image/png": "[encoded data removed]",
      "text/plain": [
       "<Figure size 432x288 with 1 Axes>"
      ]
     },
     "metadata": {
      "needs_background": "light"
     },
     "output_type": "display_data"
    }
   ],
   "source": [
    "plt.hist(betaHat, bins=100);"
   ]
  },
  {
   "cell_type": "code",
   "execution_count": 6,
   "metadata": {},
   "outputs": [
    {
     "data": {
      "image/png": "[encoded data removed]",
      "text/plain": [
       "<Figure size 432x288 with 1 Axes>"
      ]
     },
     "metadata": {
      "needs_background": "light"
     },
     "output_type": "display_data"
    }
   ],
   "source": [
    "plt.hist(Rsqrd, bins=100);"
   ]
  },
  {
   "cell_type": "markdown",
   "metadata": {},
   "source": [
    "While the central tendency of sampling distribution appears to be zero, the distribution is extremely wide, so while we will fail to reject the null hypothesis on average we will fail to do so far too often. \n",
    "\n",
    "<br>\n",
    "\n",
    "We can also see from histogram of the $R^{2}$ that there are some extremely high values even though we know that the processes are independent!\n",
    "\n",
    "<br>"
   ]
  },
  {
   "cell_type": "markdown",
   "metadata": {},
   "source": [
    "## The Dickey-Fuller Test for Unit Roots\n",
    "\n",
    "We can test for unit roots in a time series process with the so-called ___Dickey-Fuller Test___, named for the statisticians who invented it. \n",
    "\n",
    "<br>\n",
    "\n",
    "It would seem natural to test the following hypothesis: \n",
    "\n",
    "<br>\n",
    "\n",
    "$$\n",
    "\\begin{aligned}\n",
    "H_{0}: \\phi = 1 \\\\\n",
    "H_{a}: \\phi \\ne 1\n",
    "\\end{aligned}\n",
    "$$\n",
    "\n",
    "for the regression: $y_{t} = \\phi y_{t-1} + \\epsilon_{t}$, but because the model under the null hypothesis leads to spurious regression we cannot conduct this direct test. \n",
    "\n",
    "<br>\n",
    "\n",
    "D-F had the bright idea to transform the model to render it amenable to such testing. We start by subtracting $y_{t-1}$ from both sides:\n",
    "\n",
    "$$\n",
    "\\begin{aligned}\n",
    "y_{t} - y_{t-1} &= \\phi y_{t-1} - y_{t-1} + \\epsilon_{t} \\\\\n",
    "\\Delta y_{t}    &= (\\phi - 1) y_{t-1} + \\epsilon_{t} \\\\\n",
    "\\Delta y_{t}    &= \\theta y_{t-1} + \\epsilon_{t}\n",
    "\\end{aligned}\n",
    "$$\n",
    "\n",
    "<br>\n",
    "\n",
    "where $\\theta = \\phi - 1$. With this transformation we can now conduct the test:\n",
    "\n",
    "$$\n",
    "\\begin{aligned}\n",
    "H_{0}: \\theta = 0 \\\\\n",
    "H_{a}: \\theta \\ne 0\n",
    "\\end{aligned}\n",
    "$$\n",
    "\n",
    "<br>\n",
    "\n",
    "Because $\\Delta y_{t} \\sim I(0)$ and when $\\phi = 1$ it means that $\\theta = 0$ this model is now valid under the null hypothesis. We can form the standard $t$-ratio as our test statistic, but D-F showed that the asymptotic sampling distribution of $t$ is no longer the Standard Normal distribution. Instead they provide critical values via a Monte Carlo method. \n",
    "\n",
    "<br>\n",
    "\n",
    "### The Augmented Dickey-Fuller Test\n",
    "\n",
    "D-F added one extension to the test to account for possible serial correlation in $\\Delta y_{t}$. The model under the null hypothesis now becomes:\n",
    "\n",
    "<br>\n",
    "\n",
    "$$\n",
    "\\Delta y_{t} = \\theta y_{t-1} + \\sum\\limits_{i=1}^{p} \\gamma_{i} \\Delta y_{t-i} + \\epsilon_{t}\n",
    "$$\n",
    "\n",
    "<br>\n",
    "\n",
    "This tends to make the test more robust to short-term serial correlations in the process.\n",
    "\n",
    "<br>\n",
    "\n",
    "We can use the Statsmodels model to conduct the ADF test as follows. See [Statsmodels documentation on adfuller](https://www.statsmodels.org/dev/generated/statsmodels.tsa.stattools.adfuller.html) for more details.\n",
    "\n",
    "<br>"
   ]
  },
  {
   "cell_type": "code",
   "execution_count": null,
   "metadata": {},
   "outputs": [],
   "source": []
  },
  {
   "cell_type": "code",
   "execution_count": 7,
   "metadata": {},
   "outputs": [
    {
     "name": "stdout",
     "output_type": "stream",
     "text": [
      "The value of the ADF statistic is -0.8579, with a p-value of:  0.8015\n"
     ]
    }
   ],
   "source": [
    "import statsmodels.api as sm\n",
    "\n",
    "N = 52 * 5\n",
    "y = np.cumsum(np.random.normal(size=N))\n",
    "results = sm.tsa.stattools.adfuller(y)\n",
    "print(f\"The value of the ADF statistic is {results[0]:0.4f}, with a p-value of: {results[1]: 0.4f}\")"
   ]
  },
  {
   "cell_type": "code",
   "execution_count": 8,
   "metadata": {},
   "outputs": [
    {
     "data": {
      "text/plain": [
       "(-0.857892747580994,\n",
       " 0.801522623207948,\n",
       " 0,\n",
       " 259,\n",
       " {'1%': -3.4558530692911504,\n",
       "  '5%': -2.872764881778665,\n",
       "  '10%': -2.572751643088207},\n",
       " 676.7890308154485)"
      ]
     },
     "execution_count": 8,
     "metadata": {},
     "output_type": "execute_result"
    }
   ],
   "source": [
    "results"
   ]
  },
  {
   "cell_type": "markdown",
   "metadata": {},
   "source": [
    "Here we can see that we fail to reject the null hypothesis of the presence of a unit-root in $y_{t}$, which is not surprising since we simulated it as a random walk. \n",
    "\n",
    "<br>"
   ]
  },
  {
   "cell_type": "markdown",
   "metadata": {},
   "source": [
    "### Cointegration\n",
    "\n",
    "Fortunately, there is an upside to unit-root non-stationarity for financial modeling. It turns out that there is a relationship that is even stronger when pairs of asset prices are $I(1)$, but move together in a way. This concept is ___cointegration___. \n",
    "\n",
    "<br>\n",
    "\n",
    "If there is a linear combination of two processes that are separately $I(1)$ that is itself $I(0)$, we say that the two processes are ___cointegrated___. Cointegration is a stronger concept than mere correlation. It has a causal explanation. I often like to say that (at least in financial applications) _cointegration is the statistical footprint of an arbitrage relationship._\n",
    "\n",
    "<br>\n",
    "\n",
    "We can test for cointegration using the ADF test developed above. To begin, set up and run the following regression:\n",
    "\n",
    "$$\n",
    "y_{t} = \\alpha + \\beta x_{t} + u_{t}\n",
    "$$\n",
    "\n",
    "<br>\n",
    "\n",
    "If the variables are cointegrated this is not a spurious regression. In fact, it has the property of superconsistency (a kind of uber statistical efficiency). \n",
    "\n",
    "<br>\n",
    "\n",
    "Once the model is estimated, we can form the fitted residuals:\n",
    "\n",
    "$$\n",
    "\\begin{aligned}\n",
    "\\hat{u_{t}} &= y_{t} - \\hat{\\alpha} - \\hat{\\beta} x_{t} \\\\\n",
    "\\hat{u_t{}} &= y_{t} - \\hat{y_{t}}\n",
    "\\end{aligned}\n",
    "$$\n",
    "\n",
    "<br>\n",
    "\n",
    "We can now submit these fitted residuals to the ADF test as above. \n",
    "\n",
    "<br>\n",
    "\n",
    "__NB:__ the null hypothesis of the ADF test is that there ___is___ a unit-root. Cointegration exists between $y_{t}$ and $x_{t}$ if there ___is not___ a unit-root in $\\hat{u_{t}}$. So we conclude that there is cointegration if reject the null hypothesis of the ADF test. \n",
    "\n",
    "<br>\n",
    "\n",
    "We can simulate this as follows."
   ]
  },
  {
   "cell_type": "code",
   "execution_count": 9,
   "metadata": {},
   "outputs": [],
   "source": [
    "N = 52 * 5\n",
    "x = np.cumsum(np.random.normal(size=N))\n",
    "u = np.random.normal(size=N, loc=0.0, scale=2.0)\n",
    "y = 0.22 + 2.45 * x + u\n",
    "\n",
    "df = pd.DataFrame(dict(y=pd.Series(y), x=pd.Series(x)))"
   ]
  },
  {
   "cell_type": "code",
   "execution_count": 10,
   "metadata": {},
   "outputs": [
    {
     "data": {
      "text/html": [
       "<div>\n",
       "<style scoped>\n",
       "    .dataframe tbody tr th:only-of-type {\n",
       "        vertical-align: middle;\n",
       "    }\n",
       "\n",
       "    .dataframe tbody tr th {\n",
       "        vertical-align: top;\n",
       "    }\n",
       "\n",
       "    .dataframe thead th {\n",
       "        text-align: right;\n",
       "    }\n",
       "</style>\n",
       "<table border=\"1\" class=\"dataframe\">\n",
       "  <thead>\n",
       "    <tr style=\"text-align: right;\">\n",
       "      <th></th>\n",
       "      <th>y</th>\n",
       "      <th>x</th>\n",
       "    </tr>\n",
       "  </thead>\n",
       "  <tbody>\n",
       "    <tr>\n",
       "      <th>0</th>\n",
       "      <td>2.114277</td>\n",
       "      <td>-0.111678</td>\n",
       "    </tr>\n",
       "    <tr>\n",
       "      <th>1</th>\n",
       "      <td>-4.522006</td>\n",
       "      <td>-1.064788</td>\n",
       "    </tr>\n",
       "    <tr>\n",
       "      <th>2</th>\n",
       "      <td>4.230755</td>\n",
       "      <td>1.110667</td>\n",
       "    </tr>\n",
       "    <tr>\n",
       "      <th>3</th>\n",
       "      <td>-4.224184</td>\n",
       "      <td>-0.102395</td>\n",
       "    </tr>\n",
       "    <tr>\n",
       "      <th>4</th>\n",
       "      <td>-2.856177</td>\n",
       "      <td>-1.109924</td>\n",
       "    </tr>\n",
       "  </tbody>\n",
       "</table>\n",
       "</div>"
      ],
      "text/plain": [
       "          y         x\n",
       "0  2.114277 -0.111678\n",
       "1 -4.522006 -1.064788\n",
       "2  4.230755  1.110667\n",
       "3 -4.224184 -0.102395\n",
       "4 -2.856177 -1.109924"
      ]
     },
     "execution_count": 10,
     "metadata": {},
     "output_type": "execute_result"
    }
   ],
   "source": [
    "df.head()"
   ]
  },
  {
   "cell_type": "code",
   "execution_count": 11,
   "metadata": {},
   "outputs": [
    {
     "data": {
      "text/html": [
       "<div>\n",
       "<style scoped>\n",
       "    .dataframe tbody tr th:only-of-type {\n",
       "        vertical-align: middle;\n",
       "    }\n",
       "\n",
       "    .dataframe tbody tr th {\n",
       "        vertical-align: top;\n",
       "    }\n",
       "\n",
       "    .dataframe thead th {\n",
       "        text-align: right;\n",
       "    }\n",
       "</style>\n",
       "<table border=\"1\" class=\"dataframe\">\n",
       "  <thead>\n",
       "    <tr style=\"text-align: right;\">\n",
       "      <th></th>\n",
       "      <th>y</th>\n",
       "      <th>x</th>\n",
       "    </tr>\n",
       "  </thead>\n",
       "  <tbody>\n",
       "    <tr>\n",
       "      <th>255</th>\n",
       "      <td>-0.312578</td>\n",
       "      <td>-0.656467</td>\n",
       "    </tr>\n",
       "    <tr>\n",
       "      <th>256</th>\n",
       "      <td>2.645611</td>\n",
       "      <td>0.150849</td>\n",
       "    </tr>\n",
       "    <tr>\n",
       "      <th>257</th>\n",
       "      <td>-7.816920</td>\n",
       "      <td>-2.436397</td>\n",
       "    </tr>\n",
       "    <tr>\n",
       "      <th>258</th>\n",
       "      <td>-4.063982</td>\n",
       "      <td>-1.558308</td>\n",
       "    </tr>\n",
       "    <tr>\n",
       "      <th>259</th>\n",
       "      <td>-4.852207</td>\n",
       "      <td>-1.825151</td>\n",
       "    </tr>\n",
       "  </tbody>\n",
       "</table>\n",
       "</div>"
      ],
      "text/plain": [
       "            y         x\n",
       "255 -0.312578 -0.656467\n",
       "256  2.645611  0.150849\n",
       "257 -7.816920 -2.436397\n",
       "258 -4.063982 -1.558308\n",
       "259 -4.852207 -1.825151"
      ]
     },
     "execution_count": 11,
     "metadata": {},
     "output_type": "execute_result"
    }
   ],
   "source": [
    "df.tail()"
   ]
  },
  {
   "cell_type": "code",
   "execution_count": 12,
   "metadata": {},
   "outputs": [
    {
     "data": {
      "text/plain": [
       "<matplotlib.axes._subplots.AxesSubplot at 0x7f9dd804c828>"
      ]
     },
     "execution_count": 12,
     "metadata": {},
     "output_type": "execute_result"
    },
    {
     "data": {
      "image/png": "[encoded data removed]",
      "text/plain": [
       "<Figure size 432x288 with 1 Axes>"
      ]
     },
     "metadata": {
      "needs_background": "light"
     },
     "output_type": "display_data"
    }
   ],
   "source": [
    "df.plot(grid=True)"
   ]
  },
  {
   "cell_type": "markdown",
   "metadata": {},
   "source": [
    "Now let's run the regression and form the residuals:"
   ]
  },
  {
   "cell_type": "code",
   "execution_count": 13,
   "metadata": {},
   "outputs": [],
   "source": [
    "reg = stats.linregress(x,y)\n",
    "uhat = y - reg.intercept - reg.slope * x"
   ]
  },
  {
   "cell_type": "code",
   "execution_count": 14,
   "metadata": {},
   "outputs": [],
   "source": [
    "resids = pd.Series(uhat)"
   ]
  },
  {
   "cell_type": "code",
   "execution_count": 15,
   "metadata": {},
   "outputs": [
    {
     "data": {
      "text/plain": [
       "<matplotlib.axes._subplots.AxesSubplot at 0x7f9dd37565c0>"
      ]
     },
     "execution_count": 15,
     "metadata": {},
     "output_type": "execute_result"
    },
    {
     "data": {
      "image/png": "[encoded data removed]",
      "text/plain": [
       "<Figure size 432x288 with 1 Axes>"
      ]
     },
     "metadata": {
      "needs_background": "light"
     },
     "output_type": "display_data"
    }
   ],
   "source": [
    "resids.plot(grid=True)"
   ]
  },
  {
   "cell_type": "markdown",
   "metadata": {},
   "source": [
    "The residuals clearly look to be mean-reverting and stationary. Let's see the results of the ADF test:"
   ]
  },
  {
   "cell_type": "code",
   "execution_count": 16,
   "metadata": {},
   "outputs": [],
   "source": [
    "results = sm.tsa.stattools.adfuller(uhat)"
   ]
  },
  {
   "cell_type": "code",
   "execution_count": 17,
   "metadata": {},
   "outputs": [
    {
     "data": {
      "text/plain": [
       "(-12.263731771686777,\n",
       " 8.957758851089713e-23,\n",
       " 1,\n",
       " 258,\n",
       " {'1%': -3.455952927706342,\n",
       "  '5%': -2.8728086526320302,\n",
       "  '10%': -2.572774990685656},\n",
       " 1011.0680077636282)"
      ]
     },
     "execution_count": 17,
     "metadata": {},
     "output_type": "execute_result"
    }
   ],
   "source": [
    "results"
   ]
  },
  {
   "cell_type": "code",
   "execution_count": 18,
   "metadata": {},
   "outputs": [
    {
     "name": "stdout",
     "output_type": "stream",
     "text": [
      "The ADF test statistic is: -12.2637, with a p-value of:  0.0000\n"
     ]
    }
   ],
   "source": [
    "print(f\"The ADF test statistic is: {results[0]: 0.4f}, with a p-value of: {results[1] : 0.4f}\")"
   ]
  },
  {
   "cell_type": "markdown",
   "metadata": {},
   "source": [
    "That's an awefully small p-value, so we reject the null hypothesis of the ADF test of a unit-root and conclude that $y_{t}$ and $x_{t}$ are cointegrated. Again, we're not surprised since we engineered it. "
   ]
  },
  {
   "cell_type": "markdown",
   "metadata": {},
   "source": [
    "## Error-Correction Models\n",
    "\n",
    "<br>\n",
    "\n",
    "Whenever two (or more) asset prices are cointegrated, we can also write down an error-correction model. That is, cointegration implies an error-correction form. \n",
    "\n",
    "<br>\n",
    "\n",
    "We state the simplest form of the error-correction model as follows:\n",
    "\n",
    "$$\n",
    "\\begin{aligned}\n",
    "\\Delta y_{t} &= \\lambda (y_{t-1} - \\alpha - \\beta x_{t-1}) + \\nu_{t} \\\\\n",
    "\\Delta y_{t} &= \\lambda (z_{t-1}) + \\nu_{t}\n",
    "\\end{aligned}\n",
    "$$\n",
    "\n",
    "with $z_{t} = \\hat{u}_{t}$.\n",
    "\n",
    "<br>\n",
    "\n",
    "This model form relates the changes in $y_{t}$, that is $\\Delta y_{t}$ to the ___spread___ between $y_{t-1}$ and $x_{t-1}$ in ___levels___. This is a valid time series regression, given that $\\Delta y_{t} \\sim I(0)$ via first differencing, and $z_{t-1} \\sim I(0)$ via cointegration. \n",
    "\n",
    "<br>\n",
    "\n",
    "Let's see if we can develop some intuition for this model. Let's start by interpreting the coefficient $\\lambda$, which we call the ___error-correction coefficient___. Its value will be such that when there is a large past deviation between $y_{t-1}$ and $x_{t-1}$ (i.e. a large error) it will cause an ___error correction___ in the change in $y_{t}$, or $\\Delta y_{t}$. In other words, $\\Delta y_{t}$ will adjust based on a lagged error in the spread. There is now a stationary relationship (i.e. mean-reverting) that exists, and can even be predicted. It's easy to see now why we call this an error-correction model, and also its relationship with cointegration.\n",
    "\n",
    "<br>\n",
    "\n",
    "* __Q:__ What causes the error-correction in $\\Delta y_{t}$? \n",
    "* __A:__ in financial markets between related asset prices that are cointegrated, the answer is ___arbitrage___!\n",
    "\n",
    "<br>\n",
    "\n",
    "We can now think about the error-correction model in terms of some kind of equilibrium concept. When dynamic market forces are such that related asset prices are temporarily driven apart, an arbitrage relationship between the asset prices acts to restore the spread between the two to a long-run equilibrium level. \n",
    "\n",
    "<br>\n",
    "\n",
    "* __Q:__ what kind of equilibrium concept fits this description? \n",
    "* __Q:__ is it a static neo-classical equilibrium? \n",
    "* __Q:__ is it more like the neo-Austrian type of equilibrium that has been mentioned in this class?\n",
    "\n",
    "<br>\n",
    "<br>\n",
    "\n",
    "### A More General Error-Correction Model\n",
    "\n",
    "We can also account for possible short-run variation in $\\Delta y_{t}$ by adding lagged terms on the right-hand side of the model as follows (as well as a drift term):\n",
    "\n",
    "$$\n",
    "\\Delta y_{t} = \\mu + \\sum\\limits_{j=1}^{p} \\delta_{j} \\Delta y_{t-j} + \\lambda z_{t-1} + \\nu_{t}\n",
    "$$\n",
    "\n",
    "<br>\n",
    "\n",
    "\n",
    "### A Vector Error-Correction Model\n",
    "\n",
    "Now we can think in terms of systems of equations, and think about a multivariate relationship between $y_{t}$ and $x_{t}$ called a ___vector error-correction model___ (vecm).\n",
    "\n",
    "<br>\n",
    "\n",
    "Here is a VECM(1) model in $y_{t}$ and $x_{t}$:\n",
    "\n",
    "<br>\n",
    "\n",
    "$$\n",
    "\\begin{aligned}\n",
    "\\Delta y_{t} &= \\mu + \\delta_{1} \\Delta y_{t-1} + \\gamma_{1} \\Delta x_{t-1} + \\lambda_{1} z_{t-1} + \\nu_{1,t} \\\\\n",
    "\\Delta x_{t} &= \\mu + \\delta_{2} \\Delta y_{t-1} + \\gamma_{2} \\Delta x_{t-1} + \\lambda_{2} z_{t-1} + \\nu_{2,t}\n",
    "\\end{aligned}\n",
    "$$\n",
    "\n",
    "<br>"
   ]
  },
  {
   "cell_type": "code",
   "execution_count": null,
   "metadata": {},
   "outputs": [],
   "source": []
  }
 ],
 "metadata": {
  "kernelspec": {
   "display_name": "Python 3",
   "language": "python",
   "name": "python3"
  },
  "language_info": {
   "codemirror_mode": {
    "name": "ipython",
    "version": 3
   },
   "file_extension": ".py",
   "mimetype": "text/x-python",
   "name": "python",
   "nbconvert_exporter": "python",
   "pygments_lexer": "ipython3",
   "version": "3.7.4"
  }
 },
 "nbformat": 4,
 "nbformat_minor": 4
}
