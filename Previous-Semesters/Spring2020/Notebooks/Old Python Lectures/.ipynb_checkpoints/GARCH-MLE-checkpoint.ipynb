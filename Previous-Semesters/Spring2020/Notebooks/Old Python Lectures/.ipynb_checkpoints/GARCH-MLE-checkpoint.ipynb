{
 "cells": [
  {
   "cell_type": "markdown",
   "metadata": {},
   "source": [
    "# __Brough Lecture Notes: GARCH Models - Estimation via MLE__\n",
    "\n",
    "<br>\n",
    "\n",
    "Finance 5330: Financial Econometrics <br>\n",
    "Tyler J. Brough <br>\n",
    "Last Updated: March 28, 2019 <br>\n",
    "<br>\n",
    "<br>\n",
    "\n",
    "These notes are based in part on the excellent monograph [Introduction to Python for Econometrics, Statistics, and Data Analysis](https://www.kevinsheppard.com/images/b/b3/Python_introduction-2016.pdf) by the econometrician Kevin Sheppard of Oxford Univeristy. Many thanks to Dr. Sheppard for making his lecture material publically available. \n",
    "\n",
    "<br>"
   ]
  },
  {
   "cell_type": "markdown",
   "metadata": {},
   "source": [
    "## Estimating GARCH Models\n",
    "\n",
    "The standard procedure to fit GARCH models to historical returns time series data is to implement a numerical _maximum likelihood estimation_ (MLE) method. \n",
    "\n",
    "<br>\n",
    "\n",
    "__NB:__ though [Bayesian](https://www.springer.com/us/book/9783540786566) methods have been shown to be superior!\n",
    "\n",
    "<br>\n",
    "\n",
    "The typical setup is as follows: \n",
    "\n",
    "* Continuously compounded returns are assumed to have a conditionally normal distribution $N(0, \\sigma_{t})$\n",
    "\n",
    "* We can estimate the GARCH parameter weights via a numerical optimization routine such as Nelder-Mead or Newton-Raphson.\n",
    "\n",
    "* That is, the numerical routine searches for the parameter values that maximizes the value of the likelihood function.\n",
    "\n",
    "<br>"
   ]
  },
  {
   "cell_type": "markdown",
   "metadata": {},
   "source": [
    "Under the normality assumption the probility density of $\\epsilon_{t}$, conditional on $\\sigma_{t}$, is \n",
    "\n",
    "<br>\n",
    "\n",
    "$$\n",
    "f(\\epsilon | \\sigma_{t}) = \\frac{1}{\\sqrt{2\\pi \\sigma_{t}}} e^{-0.5  \\frac{\\epsilon_{t}^{2}}{\\sigma_{t}}}\n",
    "$$\n",
    "\n",
    "<br>\n",
    "\n",
    "Since the $\\epsilon_{t}$ are conditionally independent, the probability of observing the actual returns that are observed is  the product of the probabilities, this is given by the likelihood function:\n",
    "\n",
    "<br>\n",
    "\n",
    "$$\n",
    "\\prod\\limits_{t=1}^{T} f(\\epsilon_{t} | \\sigma_{t}) = \\prod\\limits_{t=1}^{T} \\left( \\frac{1}{\\sqrt{2\\pi \\sigma_{t}}} e^{-0.5  \\frac{\\epsilon_{t}^{2}}{\\sigma_{t}}} \\right)\n",
    "$$\n",
    "\n",
    "<br>\n",
    "\n",
    "For the GARCH(1,1) model, $\\sigma_{t}$ is a function of $\\omega$, $\\alpha$, and $\\beta$. The MLE will select values for these parameters $\\hat{\\omega}$, $\\hat{\\alpha}$, and $\\hat{\\beta}$ - that maximize the value of the probability of observing the returns we actually historically did observe. \n",
    "\n",
    "<br>\n",
    "\n",
    "Typically, it is easiest to maximize the value of the log-likelihood function as follows: \n",
    "\n",
    "<br>\n",
    "\n",
    "$$\n",
    "\\sum\\limits_{t=1}^{T} \\left[ -0.5 \\ln{(\\sigma_{t})} - 0.5 \\frac{\\epsilon_{t}^{2}}{\\sigma_{t}}\\right]\n",
    "$$\n",
    "\n",
    "We can omit the term $-0.5 \\ln{(2 \\pi)}$ since it does not affect the solution. Though sometimes it is left in. \n",
    "\n",
    "<br>"
   ]
  },
  {
   "cell_type": "markdown",
   "metadata": {},
   "source": [
    "We can implement this MLE estimation in Python by utilizing the [optimize](https://docs.scipy.org/doc/scipy/reference/optimize.html) module in [Scipy](https://docs.scipy.org/doc/scipy/reference/index.html), which contains a host of numerical optimization routines. \n",
    "\n",
    "<br>\n",
    "\n",
    "First, we need to define a function to implement the log-likelihood function.\n",
    "\n",
    "<br>"
   ]
  },
  {
   "cell_type": "code",
   "execution_count": 60,
   "metadata": {},
   "outputs": [],
   "source": [
    "import numpy as np\n",
    "import pandas as pd\n",
    "import matplotlib.pyplot as plt\n",
    "plt.rcParams['figure.figsize'] = [20, 10]\n",
    "\n",
    "import seaborn\n",
    "from numpy import size, log, exp, pi, sum, diff, array, zeros, diag, mat, asarray, sqrt, copy\n",
    "from numpy.linalg import inv\n",
    "\n",
    "import scipy.optimize as opt"
   ]
  },
  {
   "cell_type": "code",
   "execution_count": 61,
   "metadata": {},
   "outputs": [],
   "source": [
    "def garch_likelihood(params, data, sigma2, out=None):\n",
    "    mu = params[0]\n",
    "    omega = params[1]\n",
    "    alpha = params[2]\n",
    "    beta = params[3]\n",
    "    \n",
    "    T = size(data, 0)\n",
    "    eps = data - mu\n",
    "    \n",
    "    for t in range(1, T):\n",
    "        sigma2[t] = omega + alpha * eps[t-1]**2 + beta * sigma2[t-1]\n",
    "        \n",
    "    lls = 0.5 * (log(2 * pi) + log(sigma2) + eps**2/sigma2)\n",
    "    ll = sum(lls)\n",
    "    \n",
    "    if out is None:\n",
    "        results = ll\n",
    "    else:\n",
    "        results = (ll, lls, copy(sigma2))\n",
    "        \n",
    "    return results"
   ]
  },
  {
   "cell_type": "markdown",
   "metadata": {},
   "source": [
    "<br>\n",
    "\n",
    "We should begin with data simulated from the model as a first-run test case. So, let's import the simulation code.\n",
    "\n",
    "<br>"
   ]
  },
  {
   "cell_type": "code",
   "execution_count": 62,
   "metadata": {},
   "outputs": [],
   "source": [
    "## Set GARCH parameters (these might come from an estimated model)\n",
    "mu = log(1.15) / 252\n",
    "w = 10.0**-6\n",
    "a = 0.085\n",
    "b = 0.905"
   ]
  },
  {
   "cell_type": "code",
   "execution_count": 63,
   "metadata": {},
   "outputs": [
    {
     "data": {
      "text/plain": [
       "0.15874507866387536"
      ]
     },
     "execution_count": 63,
     "metadata": {},
     "output_type": "execute_result"
    }
   ],
   "source": [
    "np.sqrt(w / (1.0 - a - b)) * np.sqrt(252)"
   ]
  },
  {
   "cell_type": "code",
   "execution_count": 64,
   "metadata": {},
   "outputs": [],
   "source": [
    "def simulate_garch(parameters, numObs):\n",
    "    \n",
    "    ## extract the parameter values\n",
    "    mu = parameters[0]\n",
    "    w = parameters[1]\n",
    "    a = parameters[2]\n",
    "    b = parameters[3]\n",
    "    \n",
    "    ## initialize arrays for storage\n",
    "    z = np.random.normal(size=(numObs + 1))\n",
    "    q = zeros((numObs + 1))\n",
    "    r = zeros((numObs + 1))\n",
    "    \n",
    "    ## fix initial values \n",
    "    q[0] = w / (1.0 - a - b)\n",
    "    r[0] = mu + z[0] * sqrt(q[0])\n",
    "    e = (r[0] - mu) \n",
    "    \n",
    "    ## run the main simulation loop\n",
    "    for t in range(1, numObs + 1):\n",
    "        q[t] = w + a * (e * e) + b * q[t-1]\n",
    "        r[t] = mu + z[t] * sqrt(q[t])\n",
    "        e = (r[t] - mu) \n",
    "        \n",
    "    ## return a tuple with both returns and conditional variances\n",
    "    return (r, q)"
   ]
  },
  {
   "cell_type": "code",
   "execution_count": 65,
   "metadata": {},
   "outputs": [],
   "source": [
    "## number of trading days per year\n",
    "numObs = 2500\n",
    "\n",
    "## daily continuously compounded rate of return correpsonding to 15% annual\n",
    "#mu = log(1.15) / 252\n",
    "#mu = 0.0\n",
    "\n",
    "## drift and GARCH(1,1) parameters in an array\n",
    "params = array([mu, w, a, b])\n",
    "\n",
    "## run the simulation\n",
    "r, s = simulate_garch(params, numObs)"
   ]
  },
  {
   "cell_type": "markdown",
   "metadata": {},
   "source": [
    "<br>\n",
    "\n",
    "Okay, now we will set up the estimation of the model on this simulated data. The goal is to see if the numerical search routine embedded in the maximum likelihood estimation\n",
    "can recapture the preset parameter weights given above. \n",
    "\n",
    "<br>\n",
    "\n",
    "It is important to test our software with a known scenario like this before we take the model to real-world data first as a sanity check. Otherwise we could end up chasing our tails for hours and hours without effect. \n",
    "\n",
    "<br>\n",
    "\n",
    "The numerical algorithm requires good starting values as initial conditions for the search to begin. Here we will follow Sheppard. (Notice that this feels \"prior\" like, as in the Bayesian sense) A more data-based way to do this is to use some kind of grid search to find values that have \"small\" log-likelihood values. \n",
    "\n",
    "<br>"
   ]
  },
  {
   "cell_type": "code",
   "execution_count": 66,
   "metadata": {},
   "outputs": [
    {
     "data": {
      "text/plain": [
       "0.00044966457783872843"
      ]
     },
     "execution_count": 66,
     "metadata": {},
     "output_type": "execute_result"
    }
   ],
   "source": [
    "r.mean()"
   ]
  },
  {
   "cell_type": "code",
   "execution_count": 67,
   "metadata": {},
   "outputs": [],
   "source": [
    "#begVals = array([r.mean(), r.var() * .01, .09, .90])\n",
    "begVals = array([mu, w, a, b])"
   ]
  },
  {
   "cell_type": "code",
   "execution_count": 68,
   "metadata": {},
   "outputs": [],
   "source": [
    "finfo = np.finfo(np.float64)\n",
    "bounds = [(-10 * r.mean(), 10 * r.mean()), (finfo.eps, 2 * r.var()), (0.0, 1.0), (0.0, 1.0)]\n",
    "results = opt.minimize(fun=garch_likelihood, x0=begVals, args=(r,s), method='L-BFGS-B', bounds=bounds)\n",
    "#results = opt.minimize(fun=garch_likelihood, x0=begVals, args=(r,s), method='Nelder-Mead')\n",
    "#results = opt.minimize(fun=garch_likelihood, x0=begVals, args=(r,s), method='BFGS')"
   ]
  },
  {
   "cell_type": "code",
   "execution_count": 69,
   "metadata": {},
   "outputs": [
    {
     "data": {
      "text/plain": [
       "      fun: -8222.710384157108\n",
       " hess_inv: <4x4 LbfgsInvHessProduct with dtype=float64>\n",
       "      jac: array([-2.35917360e+03, -3.85411293e+04,  8.70313670e+00, -2.12094164e+01])\n",
       "  message: b'CONVERGENCE: REL_REDUCTION_OF_F_<=_FACTR*EPSMCH'\n",
       "     nfev: 70\n",
       "      nit: 9\n",
       "   status: 0\n",
       "  success: True\n",
       "        x: array([5.37627150e-04, 1.41355791e-06, 8.10567967e-02, 9.04590596e-01])"
      ]
     },
     "execution_count": 69,
     "metadata": {},
     "output_type": "execute_result"
    }
   ],
   "source": [
    "results"
   ]
  },
  {
   "cell_type": "code",
   "execution_count": 70,
   "metadata": {},
   "outputs": [
    {
     "name": "stdout",
     "output_type": "stream",
     "text": [
      "The estimated mean return is:  0.00053763 vs  0.00055461\n",
      "The estimated omega value is:  0.00000141 vs  0.00000100\n",
      "The estimated alpha value is:  0.08105680 vs  0.08500000\n",
      "The estimated beta values is:  0.90459060 vs  0.90500000\n"
     ]
    }
   ],
   "source": [
    "vals = results['x']\n",
    "print(f\"The estimated mean return is: {vals[0] : 0.8f} vs {mu : 0.8f}\")\n",
    "print(f\"The estimated omega value is: {vals[1] : 0.8f} vs {w : 0.8f}\")\n",
    "print(f\"The estimated alpha value is: {vals[2] : 0.8f} vs {a : 0.08f}\")\n",
    "print(f\"The estimated beta values is: {vals[3] : 0.8f} vs {b : 0.08f}\")"
   ]
  },
  {
   "cell_type": "code",
   "execution_count": 71,
   "metadata": {},
   "outputs": [
    {
     "data": {
      "text/plain": [
       "0.1600629361411769"
      ]
     },
     "execution_count": 71,
     "metadata": {},
     "output_type": "execute_result"
    }
   ],
   "source": [
    "r.std(ddof=1) * np.sqrt(252)"
   ]
  },
  {
   "cell_type": "code",
   "execution_count": null,
   "metadata": {},
   "outputs": [],
   "source": []
  },
  {
   "cell_type": "markdown",
   "metadata": {},
   "source": [
    "<br>\n",
    "\n",
    "___So much depends upon those initial guesses!___\n",
    "\n",
    "<br>"
   ]
  },
  {
   "cell_type": "markdown",
   "metadata": {},
   "source": [
    "## DEM2GBP GARCH(1,1) Model Estimation via MLE"
   ]
  },
  {
   "cell_type": "code",
   "execution_count": 72,
   "metadata": {},
   "outputs": [],
   "source": [
    "df = pd.read_csv(\"./data/dem2gbp.csv\")"
   ]
  },
  {
   "cell_type": "code",
   "execution_count": 73,
   "metadata": {},
   "outputs": [
    {
     "data": {
      "text/html": [
       "<div>\n",
       "<style scoped>\n",
       "    .dataframe tbody tr th:only-of-type {\n",
       "        vertical-align: middle;\n",
       "    }\n",
       "\n",
       "    .dataframe tbody tr th {\n",
       "        vertical-align: top;\n",
       "    }\n",
       "\n",
       "    .dataframe thead th {\n",
       "        text-align: right;\n",
       "    }\n",
       "</style>\n",
       "<table border=\"1\" class=\"dataframe\">\n",
       "  <thead>\n",
       "    <tr style=\"text-align: right;\">\n",
       "      <th></th>\n",
       "      <th>DEM2GBP</th>\n",
       "    </tr>\n",
       "  </thead>\n",
       "  <tbody>\n",
       "    <tr>\n",
       "      <th>0</th>\n",
       "      <td>0.125333</td>\n",
       "    </tr>\n",
       "    <tr>\n",
       "      <th>1</th>\n",
       "      <td>0.028874</td>\n",
       "    </tr>\n",
       "    <tr>\n",
       "      <th>2</th>\n",
       "      <td>0.063462</td>\n",
       "    </tr>\n",
       "    <tr>\n",
       "      <th>3</th>\n",
       "      <td>0.226719</td>\n",
       "    </tr>\n",
       "    <tr>\n",
       "      <th>4</th>\n",
       "      <td>-0.214267</td>\n",
       "    </tr>\n",
       "  </tbody>\n",
       "</table>\n",
       "</div>"
      ],
      "text/plain": [
       "    DEM2GBP\n",
       "0  0.125333\n",
       "1  0.028874\n",
       "2  0.063462\n",
       "3  0.226719\n",
       "4 -0.214267"
      ]
     },
     "execution_count": 73,
     "metadata": {},
     "output_type": "execute_result"
    }
   ],
   "source": [
    "df.head()"
   ]
  },
  {
   "cell_type": "code",
   "execution_count": 74,
   "metadata": {},
   "outputs": [
    {
     "data": {
      "text/html": [
       "<div>\n",
       "<style scoped>\n",
       "    .dataframe tbody tr th:only-of-type {\n",
       "        vertical-align: middle;\n",
       "    }\n",
       "\n",
       "    .dataframe tbody tr th {\n",
       "        vertical-align: top;\n",
       "    }\n",
       "\n",
       "    .dataframe thead th {\n",
       "        text-align: right;\n",
       "    }\n",
       "</style>\n",
       "<table border=\"1\" class=\"dataframe\">\n",
       "  <thead>\n",
       "    <tr style=\"text-align: right;\">\n",
       "      <th></th>\n",
       "      <th>DEM2GBP</th>\n",
       "    </tr>\n",
       "  </thead>\n",
       "  <tbody>\n",
       "    <tr>\n",
       "      <th>1969</th>\n",
       "      <td>-0.408540</td>\n",
       "    </tr>\n",
       "    <tr>\n",
       "      <th>1970</th>\n",
       "      <td>-0.030468</td>\n",
       "    </tr>\n",
       "    <tr>\n",
       "      <th>1971</th>\n",
       "      <td>-0.117546</td>\n",
       "    </tr>\n",
       "    <tr>\n",
       "      <th>1972</th>\n",
       "      <td>-0.231271</td>\n",
       "    </tr>\n",
       "    <tr>\n",
       "      <th>1973</th>\n",
       "      <td>0.528047</td>\n",
       "    </tr>\n",
       "  </tbody>\n",
       "</table>\n",
       "</div>"
      ],
      "text/plain": [
       "       DEM2GBP\n",
       "1969 -0.408540\n",
       "1970 -0.030468\n",
       "1971 -0.117546\n",
       "1972 -0.231271\n",
       "1973  0.528047"
      ]
     },
     "execution_count": 74,
     "metadata": {},
     "output_type": "execute_result"
    }
   ],
   "source": [
    "df.tail()"
   ]
  },
  {
   "cell_type": "code",
   "execution_count": 90,
   "metadata": {},
   "outputs": [],
   "source": [
    "r = df.DEM2GBP.values[:749] \n",
    "sigma = np.ones_like(r) * r.var()\n",
    "args = (r, sigma)\n",
    "\n",
    "begVals = array([0.0, 0.045, .23, .64])\n",
    "finfo = np.finfo(np.float64)\n",
    "bounds = [(-10, 10), (finfo.eps, 2 * r.var()), (0.0, 1.0), (0.0, 1.0)]\n",
    "results = opt.minimize(fun=garch_likelihood, x0=begVals, args=args, method='SLSQP', bounds=bounds) #, constraints=garch_constraints)"
   ]
  },
  {
   "cell_type": "code",
   "execution_count": 91,
   "metadata": {},
   "outputs": [
    {
     "data": {
      "text/plain": [
       "     fun: 581.1073109492175\n",
       "     jac: array([-0.01179504, -0.13036346, -0.02046204, -0.03572845])\n",
       " message: 'Optimization terminated successfully.'\n",
       "    nfev: 57\n",
       "     nit: 8\n",
       "    njev: 8\n",
       "  status: 0\n",
       " success: True\n",
       "       x: array([-0.0262441 ,  0.04480614,  0.21335949,  0.6518363 ])"
      ]
     },
     "execution_count": 91,
     "metadata": {},
     "output_type": "execute_result"
    }
   ],
   "source": [
    "results"
   ]
  },
  {
   "cell_type": "code",
   "execution_count": 92,
   "metadata": {},
   "outputs": [],
   "source": [
    "results = opt.minimize(fun=garch_likelihood, x0=begVals, args=args, method='L-BFGS-B', bounds=bounds)"
   ]
  },
  {
   "cell_type": "code",
   "execution_count": 93,
   "metadata": {},
   "outputs": [
    {
     "data": {
      "text/plain": [
       "      fun: 581.1073108069043\n",
       " hess_inv: <4x4 LbfgsInvHessProduct with dtype=float64>\n",
       "      jac: array([ 0.01693934, -0.01446097,  0.00229647, -0.000216  ])\n",
       "  message: b'CONVERGENCE: REL_REDUCTION_OF_F_<=_FACTR*EPSMCH'\n",
       "     nfev: 100\n",
       "      nit: 15\n",
       "   status: 0\n",
       "  success: True\n",
       "        x: array([-0.02623539,  0.04480419,  0.21335574,  0.65185522])"
      ]
     },
     "execution_count": 93,
     "metadata": {},
     "output_type": "execute_result"
    }
   ],
   "source": [
    "results"
   ]
  },
  {
   "cell_type": "code",
   "execution_count": 94,
   "metadata": {},
   "outputs": [],
   "source": [
    "results = opt.minimize(fun=garch_likelihood, x0=begVals, args=args, method='BFGS')"
   ]
  },
  {
   "cell_type": "code",
   "execution_count": 95,
   "metadata": {},
   "outputs": [
    {
     "data": {
      "text/plain": [
       "      fun: 581.1073107498528\n",
       " hess_inv: array([[ 1.05336001e-03,  2.88254025e-04, -1.37384236e-05,\n",
       "        -1.05420765e-03],\n",
       "       [ 2.88254025e-04,  1.91953218e-04, -5.41839290e-06,\n",
       "        -6.90485243e-04],\n",
       "       [-1.37384236e-05, -5.41839290e-06,  2.06073382e-05,\n",
       "         7.47994636e-06],\n",
       "       [-1.05420765e-03, -6.90485243e-04,  7.47994636e-06,\n",
       "         2.75167996e-03]])\n",
       "      jac: array([1.52587891e-05, 1.52587891e-05, 0.00000000e+00, 0.00000000e+00])\n",
       "  message: 'Desired error not necessarily achieved due to precision loss.'\n",
       "     nfev: 121\n",
       "      nit: 13\n",
       "     njev: 20\n",
       "   status: 2\n",
       "  success: False\n",
       "        x: array([-0.02624089,  0.04480515,  0.21335265,  0.65185394])"
      ]
     },
     "execution_count": 95,
     "metadata": {},
     "output_type": "execute_result"
    }
   ],
   "source": [
    "results"
   ]
  },
  {
   "cell_type": "code",
   "execution_count": 96,
   "metadata": {},
   "outputs": [],
   "source": [
    "results = opt.minimize(fun=garch_likelihood, x0=begVals, args=args, method='Nelder-Mead')"
   ]
  },
  {
   "cell_type": "code",
   "execution_count": 97,
   "metadata": {},
   "outputs": [
    {
     "data": {
      "text/plain": [
       " final_simplex: (array([[-0.02623616,  0.04480605,  0.21336221,  0.65186079],\n",
       "       [-0.02622822,  0.04479104,  0.21334922,  0.65191292],\n",
       "       [-0.02622547,  0.04481243,  0.21341521,  0.65177775],\n",
       "       [-0.02626151,  0.04480939,  0.21330421,  0.65187475],\n",
       "       [-0.02625828,  0.0447872 ,  0.2133712 ,  0.65190942]]), array([581.10731131, 581.10731187, 581.10731192, 581.10731239,\n",
       "       581.10731296]))\n",
       "           fun: 581.1073113149031\n",
       "       message: 'Optimization terminated successfully.'\n",
       "          nfev: 166\n",
       "           nit: 97\n",
       "        status: 0\n",
       "       success: True\n",
       "             x: array([-0.02623616,  0.04480605,  0.21336221,  0.65186079])"
      ]
     },
     "execution_count": 97,
     "metadata": {},
     "output_type": "execute_result"
    }
   ],
   "source": [
    "results"
   ]
  },
  {
   "cell_type": "code",
   "execution_count": null,
   "metadata": {},
   "outputs": [],
   "source": []
  },
  {
   "cell_type": "code",
   "execution_count": null,
   "metadata": {},
   "outputs": [],
   "source": []
  }
 ],
 "metadata": {
  "kernelspec": {
   "display_name": "Python 3",
   "language": "python",
   "name": "python3"
  },
  "language_info": {
   "codemirror_mode": {
    "name": "ipython",
    "version": 3
   },
   "file_extension": ".py",
   "mimetype": "text/x-python",
   "name": "python",
   "nbconvert_exporter": "python",
   "pygments_lexer": "ipython3",
   "version": "3.7.1"
  }
 },
 "nbformat": 4,
 "nbformat_minor": 2
}
