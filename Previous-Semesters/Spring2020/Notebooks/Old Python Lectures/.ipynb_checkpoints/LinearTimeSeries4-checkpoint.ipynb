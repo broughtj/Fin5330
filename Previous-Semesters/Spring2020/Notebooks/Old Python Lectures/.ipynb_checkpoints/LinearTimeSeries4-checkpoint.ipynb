{
 "cells": [
  {
   "cell_type": "markdown",
   "metadata": {},
   "source": [
    "# __Brough Lecture Notes: Beginning Time Series Topics IV__\n",
    "\n",
    "<br>\n",
    "\n",
    "Finance 5330: Financial Econometrics <br>\n",
    "Tyler J. Brough <br>\n",
    "Last Updated: January 31, 2019 <br>\n",
    "<br>"
   ]
  },
  {
   "cell_type": "markdown",
   "metadata": {},
   "source": [
    "__Unit Roots Continued__\n",
    "\n",
    "<br>\n",
    "\n",
    "The random walk with drift\n",
    "\n",
    "$$\n",
    "x_{t} = \\mu + x_{t-1} + \\varepsilon_{t}\n",
    "$$\n",
    "\n",
    "<br>\n",
    "\n",
    "where $\\mu = E(x_{t} - x_{t-1}) = \\mu$ and $\\{\\varepsilon_{t}\\}$ is white noise. The constant term $\\mu$ represents the time trend of $x_{t}$ and is called the drift. \n",
    "\n",
    "<br>"
   ]
  },
  {
   "cell_type": "markdown",
   "metadata": {},
   "source": [
    "Assume the initial value of $x_{t}$ is $x_{0}$, then\n",
    "\n",
    "$$\n",
    "\\begin{aligned}\n",
    "x_{1}  &= \\mu + x_{0} + \\varepsilon_{1} \\\\\n",
    "x_{2}  &= \\mu + x_{1} + \\varepsilon_{2} = 2 \\mu + x_{0} + \\varepsilon_{1} + \\varepsilon_{2} \\\\\n",
    "\\vdots &= \\quad \\vdots \\\\\n",
    "x_{t}  &= t \\mu + x_{0} + \\varepsilon_{t} + \\varepsilon_{t-1} + \\cdots + \\varepsilon_{1} \n",
    "\\end{aligned}\n",
    "$$\n",
    "\n",
    "<br>\n",
    "\n",
    "The last equation shows that $\\{x_{t}\\}$ consists of a time trend $t\\mu$ and a pure random-walk process $\\sum\\limits_{i=1}^{t} \\varepsilon_{i}$.\n",
    "\n",
    "<br>\n"
   ]
  },
  {
   "cell_type": "markdown",
   "metadata": {},
   "source": [
    "$Var(\\sum\\limits_{i=1}^{t} \\varepsilon_{i}) = t\\sigma_{\\varepsilon}^{2}$ where $\\sigma_{\\varepsilon}^{2}$ is the variance of $\\varepsilon_{t}$.\n",
    "\n",
    "<br>\n",
    "\n",
    "The conditional standard deviation of $x_{t}$ is $\\sqrt{t} \\sigma_{\\varepsilon}$, which grows at a slower rate than the conditional expectation of $x_{t}$. Therefore, if we graph $x_{t}$ against the time index $t$, we have a time trend with slope $\\mu$\n",
    "\n",
    "<br>\n",
    "\n",
    "Let's look at some actual market data for IBM from 1947 to 1997.\n",
    "\n",
    "<br>"
   ]
  },
  {
   "cell_type": "code",
   "execution_count": 1,
   "metadata": {},
   "outputs": [],
   "source": [
    "import numpy as np\n",
    "import pandas as pd\n",
    "import matplotlib.pyplot as plt"
   ]
  },
  {
   "cell_type": "code",
   "execution_count": 4,
   "metadata": {},
   "outputs": [
    {
     "data": {
      "text/html": [
       "<div>\n",
       "<style scoped>\n",
       "    .dataframe tbody tr th:only-of-type {\n",
       "        vertical-align: middle;\n",
       "    }\n",
       "\n",
       "    .dataframe tbody tr th {\n",
       "        vertical-align: top;\n",
       "    }\n",
       "\n",
       "    .dataframe thead th {\n",
       "        text-align: right;\n",
       "    }\n",
       "</style>\n",
       "<table border=\"1\" class=\"dataframe\">\n",
       "  <thead>\n",
       "    <tr style=\"text-align: right;\">\n",
       "      <th></th>\n",
       "      <th>PERMNO</th>\n",
       "      <th>TICKER</th>\n",
       "      <th>COMNAM</th>\n",
       "      <th>PRC</th>\n",
       "    </tr>\n",
       "    <tr>\n",
       "      <th>date</th>\n",
       "      <th></th>\n",
       "      <th></th>\n",
       "      <th></th>\n",
       "      <th></th>\n",
       "    </tr>\n",
       "  </thead>\n",
       "  <tbody>\n",
       "    <tr>\n",
       "      <th>1947-01-31</th>\n",
       "      <td>12490</td>\n",
       "      <td>NaN</td>\n",
       "      <td>INTERNATIONAL BUSINESS MACHS COR</td>\n",
       "      <td>221.0</td>\n",
       "    </tr>\n",
       "    <tr>\n",
       "      <th>1947-02-28</th>\n",
       "      <td>12490</td>\n",
       "      <td>NaN</td>\n",
       "      <td>INTERNATIONAL BUSINESS MACHS COR</td>\n",
       "      <td>211.0</td>\n",
       "    </tr>\n",
       "    <tr>\n",
       "      <th>1947-03-31</th>\n",
       "      <td>12490</td>\n",
       "      <td>NaN</td>\n",
       "      <td>INTERNATIONAL BUSINESS MACHS COR</td>\n",
       "      <td>208.5</td>\n",
       "    </tr>\n",
       "    <tr>\n",
       "      <th>1947-04-30</th>\n",
       "      <td>12490</td>\n",
       "      <td>NaN</td>\n",
       "      <td>INTERNATIONAL BUSINESS MACHS COR</td>\n",
       "      <td>193.5</td>\n",
       "    </tr>\n",
       "    <tr>\n",
       "      <th>1947-05-29</th>\n",
       "      <td>12490</td>\n",
       "      <td>NaN</td>\n",
       "      <td>INTERNATIONAL BUSINESS MACHS COR</td>\n",
       "      <td>200.0</td>\n",
       "    </tr>\n",
       "  </tbody>\n",
       "</table>\n",
       "</div>"
      ],
      "text/plain": [
       "            PERMNO TICKER                            COMNAM    PRC\n",
       "date                                                              \n",
       "1947-01-31   12490    NaN  INTERNATIONAL BUSINESS MACHS COR  221.0\n",
       "1947-02-28   12490    NaN  INTERNATIONAL BUSINESS MACHS COR  211.0\n",
       "1947-03-31   12490    NaN  INTERNATIONAL BUSINESS MACHS COR  208.5\n",
       "1947-04-30   12490    NaN  INTERNATIONAL BUSINESS MACHS COR  193.5\n",
       "1947-05-29   12490    NaN  INTERNATIONAL BUSINESS MACHS COR  200.0"
      ]
     },
     "execution_count": 4,
     "metadata": {},
     "output_type": "execute_result"
    }
   ],
   "source": [
    "rawIBM = pd.read_csv(\"./data/IBM-1947-1997-CRSP.csv\", parse_dates=True, index_col=1)\n",
    "rawIBM.head()"
   ]
  },
  {
   "cell_type": "code",
   "execution_count": 5,
   "metadata": {},
   "outputs": [
    {
     "data": {
      "text/html": [
       "<div>\n",
       "<style scoped>\n",
       "    .dataframe tbody tr th:only-of-type {\n",
       "        vertical-align: middle;\n",
       "    }\n",
       "\n",
       "    .dataframe tbody tr th {\n",
       "        vertical-align: top;\n",
       "    }\n",
       "\n",
       "    .dataframe thead th {\n",
       "        text-align: right;\n",
       "    }\n",
       "</style>\n",
       "<table border=\"1\" class=\"dataframe\">\n",
       "  <thead>\n",
       "    <tr style=\"text-align: right;\">\n",
       "      <th></th>\n",
       "      <th>PERMNO</th>\n",
       "      <th>TICKER</th>\n",
       "      <th>COMNAM</th>\n",
       "      <th>PRC</th>\n",
       "    </tr>\n",
       "    <tr>\n",
       "      <th>date</th>\n",
       "      <th></th>\n",
       "      <th></th>\n",
       "      <th></th>\n",
       "      <th></th>\n",
       "    </tr>\n",
       "  </thead>\n",
       "  <tbody>\n",
       "    <tr>\n",
       "      <th>1997-08-29</th>\n",
       "      <td>12490</td>\n",
       "      <td>IBM</td>\n",
       "      <td>INTERNATIONAL BUSINESS MACHS COR</td>\n",
       "      <td>101.375</td>\n",
       "    </tr>\n",
       "    <tr>\n",
       "      <th>1997-09-30</th>\n",
       "      <td>12490</td>\n",
       "      <td>IBM</td>\n",
       "      <td>INTERNATIONAL BUSINESS MACHS COR</td>\n",
       "      <td>106.000</td>\n",
       "    </tr>\n",
       "    <tr>\n",
       "      <th>1997-10-31</th>\n",
       "      <td>12490</td>\n",
       "      <td>IBM</td>\n",
       "      <td>INTERNATIONAL BUSINESS MACHS COR</td>\n",
       "      <td>98.500</td>\n",
       "    </tr>\n",
       "    <tr>\n",
       "      <th>1997-11-28</th>\n",
       "      <td>12490</td>\n",
       "      <td>IBM</td>\n",
       "      <td>INTERNATIONAL BUSINESS MACHS COR</td>\n",
       "      <td>109.500</td>\n",
       "    </tr>\n",
       "    <tr>\n",
       "      <th>1997-12-31</th>\n",
       "      <td>12490</td>\n",
       "      <td>IBM</td>\n",
       "      <td>INTERNATIONAL BUSINESS MACHS COR</td>\n",
       "      <td>104.625</td>\n",
       "    </tr>\n",
       "  </tbody>\n",
       "</table>\n",
       "</div>"
      ],
      "text/plain": [
       "            PERMNO TICKER                            COMNAM      PRC\n",
       "date                                                                \n",
       "1997-08-29   12490    IBM  INTERNATIONAL BUSINESS MACHS COR  101.375\n",
       "1997-09-30   12490    IBM  INTERNATIONAL BUSINESS MACHS COR  106.000\n",
       "1997-10-31   12490    IBM  INTERNATIONAL BUSINESS MACHS COR   98.500\n",
       "1997-11-28   12490    IBM  INTERNATIONAL BUSINESS MACHS COR  109.500\n",
       "1997-12-31   12490    IBM  INTERNATIONAL BUSINESS MACHS COR  104.625"
      ]
     },
     "execution_count": 5,
     "metadata": {},
     "output_type": "execute_result"
    }
   ],
   "source": [
    "rawIBM.tail()"
   ]
  },
  {
   "cell_type": "markdown",
   "metadata": {},
   "source": [
    "<br>\n",
    "\n",
    "Now let's convert to log-prices.\n",
    "\n",
    "<br>"
   ]
  },
  {
   "cell_type": "code",
   "execution_count": 6,
   "metadata": {},
   "outputs": [],
   "source": [
    "ibm = rawIBM.PRC.apply(np.log)"
   ]
  },
  {
   "cell_type": "code",
   "execution_count": 7,
   "metadata": {},
   "outputs": [
    {
     "data": {
      "text/plain": [
       "date\n",
       "1947-01-31    5.398163\n",
       "1947-02-28    5.351858\n",
       "1947-03-31    5.339939\n",
       "1947-04-30    5.265278\n",
       "1947-05-29    5.298317\n",
       "Name: PRC, dtype: float64"
      ]
     },
     "execution_count": 7,
     "metadata": {},
     "output_type": "execute_result"
    }
   ],
   "source": [
    "ibm.head()"
   ]
  },
  {
   "cell_type": "code",
   "execution_count": 8,
   "metadata": {},
   "outputs": [
    {
     "data": {
      "text/plain": [
       "date\n",
       "1997-08-29    4.618827\n",
       "1997-09-30    4.663439\n",
       "1997-10-31    4.590057\n",
       "1997-11-28    4.695925\n",
       "1997-12-31    4.650383\n",
       "Name: PRC, dtype: float64"
      ]
     },
     "execution_count": 8,
     "metadata": {},
     "output_type": "execute_result"
    }
   ],
   "source": [
    "ibm.tail()"
   ]
  },
  {
   "cell_type": "code",
   "execution_count": 16,
   "metadata": {},
   "outputs": [
    {
     "data": {
      "text/plain": [
       "<matplotlib.axes._subplots.AxesSubplot at 0x7f69c6ca6320>"
      ]
     },
     "execution_count": 16,
     "metadata": {},
     "output_type": "execute_result"
    },
    {
     "data": {
      "image/png": "[encoded data removed]",
      "text/plain": [
       "<Figure size 432x288 with 1 Axes>"
      ]
     },
     "metadata": {
      "needs_background": "light"
     },
     "output_type": "display_data"
    }
   ],
   "source": [
    "ibm.plot(grid=True, color=\"navy\", title=\"IBM Log-Price\")"
   ]
  },
  {
   "cell_type": "markdown",
   "metadata": {},
   "source": [
    "<br>\n",
    "\n",
    "A naive estimator for $\\mu$ is as follows:\n",
    "\n",
    "<br>"
   ]
  },
  {
   "cell_type": "code",
   "execution_count": 20,
   "metadata": {},
   "outputs": [
    {
     "data": {
      "text/plain": [
       "5.322282595240228"
      ]
     },
     "execution_count": 20,
     "metadata": {},
     "output_type": "execute_result"
    }
   ],
   "source": [
    "ibm.dropna(inplace=True)\n",
    "ibm.values.mean()"
   ]
  },
  {
   "cell_type": "markdown",
   "metadata": {},
   "source": [
    "<br>\n",
    "\n",
    "If you look at the graph from 1947 to about 1960 you can clearly see variation around a positive trend.\n",
    "\n",
    "<br>"
   ]
  },
  {
   "cell_type": "markdown",
   "metadata": {},
   "source": [
    "__Trend-Stationary Time Series__\n",
    "\n",
    "<br>\n",
    "\n",
    "A closely related model that exhibits linear trend is the trend-stationary time series model:\n",
    "\n",
    "$$\n",
    "x_{t} = \\beta_{0} + \\beta_{1} t + z_{t}\n",
    "$$\n",
    "\n",
    "<br>\n",
    "\n",
    "where $z_{t}$ is a stationary time series (e.g. a stationary AR(p) series). Here $x_{t}$ grows linearly in time with rate $\\beta_{1}$ and hence can exhibit behavior similar to a random walk with drift. \n",
    "\n",
    "<br>"
   ]
  },
  {
   "cell_type": "markdown",
   "metadata": {},
   "source": [
    "There is one major difference between the random walk with drift and the trend-stationary series: \n",
    "\n",
    "<br>\n",
    "\n",
    "__Random Walk with Drift__\n",
    "\n",
    "<br>\n",
    "\n",
    "$$\n",
    "\\begin{aligned}\n",
    "E(x_{t})  &= x_{0} + \\mu t \\quad \\mbox{and} \\\\\n",
    "Var(x_{t} &= t \\sigma_{\\varepsilon}^{2} \n",
    "\\end{aligned}\n",
    "$$\n",
    "\n",
    "<br>\n",
    "\n",
    "which clearly is not stationary because the variance is directly time dependent. While\n",
    "\n",
    "<br>\n",
    "\n",
    "__Trend-Stationary Series__\n",
    "\n",
    "<br>\n",
    "\n",
    "$$\n",
    "\\begin{aligned}\n",
    "E(x_{t})  &= \\beta_{0} + \\beta_{1} t \\quad \\mbox{and} \\\\\n",
    "Var(x_{t} &= Var(z_{t})\n",
    "\\end{aligned}\n",
    "$$\n",
    "\n",
    "which is finite and time-independent. \n",
    "\n",
    "<br>"
   ]
  },
  {
   "cell_type": "markdown",
   "metadata": {},
   "source": [
    "__General Unit-Root Nonstationary Models__\n",
    "\n",
    "<br>\n",
    "\n",
    "Consider an ARMa model. If we extend the model by allowing the AR polynomial to have $1$ as a characteristic root, then the model becomes the Autoregressive Integrated Moving Average (ARIMA) model. \n",
    "\n",
    "<br>\n",
    "\n",
    "An ARIMA model is said to be unit-root nonstationary because its AR polynomial has a unit root. \n",
    "\n",
    "<br>\n",
    "\n",
    "A conventional approach for handling unit-root nonstationarity is differencing. \n",
    "\n",
    "<br>"
   ]
  },
  {
   "cell_type": "markdown",
   "metadata": {},
   "source": [
    "__Differencing__\n",
    "\n",
    "<br>\n",
    "\n",
    "A time series $x_{t}$ is said to be an ARIMA(p,1,q) process if the change series\n",
    "\n",
    "$$\n",
    "c_{t} = x_{t} - x_{t-1} = (1 - L) x_{t}\n",
    "$$\n",
    "\n",
    "<br>\n",
    "\n",
    "follows a stationary and invertible ARMA(p,q) process. \n",
    "\n",
    "<br>\n",
    "<br>\n",
    "\n",
    "__Ex:__ in finance price series are commonly believed to be nonstationary, but the log-return series $r_{t} = \\ln{(p_{t})} - \\ln{(p_{t-1})}$ is stationary. Here the price series $\\{p_{t}\\}$ is unit-root nonstationary and hence can be treated as an ARIMA process. \n",
    "\n",
    "<br>"
   ]
  },
  {
   "cell_type": "markdown",
   "metadata": {},
   "source": [
    "The idea of transforming a nonstationary series into a stationary one by considering its change series is called _differencing_ in the time series literature.\n",
    "\n",
    "<br>\n",
    "\n",
    "Formally, $c_{t} = x_{t} - x_{t-1}$ is referred to as the first differenced series of $x_{t}$.\n",
    "\n",
    "<br>\n",
    "\n",
    "In some fields a time series $x_{t}$ may contain multiple unit roots. For example, if both $x_{t}$ and its first differenced series $c_{t} = x_{t} - x_{t-1}$ are unit-root nonstationary, but $s_{t} = c_{t} - c_{t-1} = x_{t} - 2 x_{t-1} + x_{t-2}$ is weakly stationary, then $x_{t}$ has double unit roots, and $s_{t}$ is the second differenced series of $x_{t}$.\n",
    "\n",
    "<br>"
   ]
  },
  {
   "cell_type": "markdown",
   "metadata": {},
   "source": [
    "If $s_{t}$ follows an ARMA(p,q) model then $x_{t}$ is an ARIMA(p, 2, q) process.\n",
    "\n",
    "<br>\n",
    "\n",
    "__Testing For Unit Roots__\n",
    "\n",
    "<br>\n",
    "\n",
    "__Q:__ Do economic variables such as GNP, employment, and interet rates tend to revert back to a long-run trend after a shock, or do they follow random walks?\n",
    "\n",
    "<br>\n",
    "\n",
    "The question is important for two reasons:\n",
    "\n",
    "* If these variables follow random walks, a regression of one against another can lead to spurious results. \n",
    "\n",
    "<br>"
   ]
  },
  {
   "cell_type": "markdown",
   "metadata": {},
   "source": [
    "For example, suppose two series are generated by independent random walks: \n",
    "\n",
    "$$\n",
    "\\begin{aligned}\n",
    "x_{t} &= x_{t-1} + \\epsilon_{t} \\\\\n",
    "y_{t} &= y_{t-1} + \\nu_{t}\n",
    "\\end{aligned}\n",
    "$$\n",
    "\n",
    "<br>\n",
    "\n",
    "and $E(\\epsilon_{t} \\nu_{t}) = 0$ for all $t, s$.\n",
    "\n",
    "<br>\n",
    "\n",
    "Now suppose we run $y_{t}$ on $x_{t}$ by OLS\n",
    "\n",
    "<br>"
   ]
  },
  {
   "cell_type": "markdown",
   "metadata": {},
   "source": [
    "$$\n",
    "y_{t} = \\alpha + \\beta x_{t} + u_{t}\n",
    "$$\n",
    "\n",
    "<br>\n",
    "\n",
    "The assumptions underlying the CLRM are violated. In this case you tend to see \"significant\" $\\beta$ more often than the OLS formula say you should.\n",
    "\n",
    "<br>\n",
    "\n",
    "* If affects our understanding of the economy and our ability to make forecasts: \n",
    "\n",
    "    - If a variable such as GNP follows a random walk, then the effects of a temporary shock (e.g. increase in oil prices or an increase in government spending)\n",
    "      not dissapate after several years but will instead have permanent effects. \n",
    "    - If stock prices follow random walks they should not be forecastable.\n",
    "    \n",
    "<br>"
   ]
  },
  {
   "cell_type": "markdown",
   "metadata": {},
   "source": [
    "__Nelson & Plosser__\n",
    "\n",
    "<br>\n",
    "\n",
    "NP found evidence that GNP and other macro variables behave like random walks. This spurred a huge literature to investigate whether or not economic and financial variables are random walks or are trend-reverting. Several of these studies show that many economic time series do appear to be random walks or at least have random walk components. \n",
    "\n",
    "<br>"
   ]
  },
  {
   "cell_type": "markdown",
   "metadata": {},
   "source": [
    "Most of these studies use unit-root tests introduced by Dicky & Fuller (1979) JASA. \n",
    "\n",
    "<br>\n",
    "\n",
    "Suppose we believe that a variable $Y_{t}$, which has been growing over time, can be described by the following equation:\n",
    "\n",
    "<br>\n",
    "\n",
    "$$\n",
    "Y_{t} = \\alpha + \\beta t + \\rho Y_{t-1} + \\epsilon_{t}\n",
    "$$\n",
    "\n",
    "<br>\n",
    "\n",
    "One possibility is that $Y_{t}$ has been growing because $Y_{t}$ has a positive time trend ($\\beta > 0$) but would be stationary after detrending (i.e. $\\rho < 1$) In this case $Y_{t}$ could be used in a regression and all of the results and tests of the CLRM would apply. \n",
    "\n",
    "<br>"
   ]
  },
  {
   "cell_type": "markdown",
   "metadata": {},
   "source": [
    "Another possibility is that $Y_{t}$ has been growing because it follows a random walk with a positive drift (i.e. $\\alpha > 0$, $\\beta = 0$, and $\\rho = 1$). In this case we would need to work with $\\Delta Y_{t}$ (change series).\n",
    "\n",
    "<br>\n",
    "\n",
    "Detrending would not make the series stationary, and the inclusion of $Y_{t}$ in a regression would lead to spurious results. \n",
    "\n",
    "<br>\n",
    "\n",
    "One might think that the equation could be estimated by OLS and that the $t$ statistic on $\\hat{\\rho}$ could be used to test $H_{0}: \\rho = 1$. However, if the true value is indeed $1$ then OLS would lead to spurious results, which could mean we could incorrectly reject the random walk hypothesis. \n",
    "\n",
    "<br>\n"
   ]
  },
  {
   "cell_type": "markdown",
   "metadata": {},
   "source": [
    "Dickey & Fuller derived the distribution for the estimator $\\hat{\\rho}$ that holds when $\\rho = 1$ and generated statistics for an $F$-test of the random walk hypothesis, i.e. the hypothesis that $\\beta = 0$ and $\\rho = 1$. \n",
    "\n",
    "<br>\n",
    "\n",
    "The __Dickey-Fuller Test__ works as follows, supposing\n",
    "\n",
    "<br>\n",
    "\n",
    "$$\n",
    "Y_{t} = \\alpha + \\beta t + \\rho Y_{t-1} + \\epsilon_{t}\n",
    "$$\n",
    "\n",
    "<br>\n",
    "\n",
    "First, using OLS run the (unrestricted) regression\n",
    "\n",
    "<br>\n",
    "\n",
    "$$\n",
    "Y_{t} - Y_{t-1} = \\alpha \\beta t + (\\rho - 1) Y_{t-1} \n",
    "$$\n",
    "\n",
    "<br>\n",
    "\n",
    "and then the (restricted) regression\n",
    "\n",
    "<br>\n",
    "\n",
    "$$\n",
    "Y_{t} - Y_{t-1} = \\alpha\n",
    "$$\n",
    "\n",
    "<br>"
   ]
  },
  {
   "cell_type": "markdown",
   "metadata": {},
   "source": [
    "Then calculate the $F$-ratio\n",
    "\n",
    "$$\n",
    "F = \\frac{(SSR_{R} - SSR_{UR})}{SSR_{UR}} \\frac{N-k}{q}\n",
    "$$\n",
    "\n",
    "<br>\n",
    "\n",
    "where $SSR_{R}$ is the sum of squared residuals of the restricted model and $SSR_{UR}$ likewise for the unrestricted model. $(N-k)$ is the degrees of freedom of the unrestricted model and $q$ is the number of restrictions placed on the restricted model.\n",
    "\n",
    "<br>\n",
    "\n",
    "This ratio is not distributed as a standard $F$ distribution under the null hypothesis. Instead one must use the distributions tabulated by Dickey and Fuller. \n",
    "\n",
    "<br>"
   ]
  },
  {
   "cell_type": "markdown",
   "metadata": {},
   "source": [
    "__NB:__ critical values from the Dickey-Fuller distribution are much larger than for the standard $F$-distribution.\n",
    "\n",
    "<br>\n",
    "\n",
    "__The Augmented Dickey-Fuller Test__\n",
    "\n",
    "<br>\n",
    "\n",
    "The original Dickey-Fuller test implicitly makes the assumption of no serial correlation in $\\epsilon_{t}$. Often we would like to allow for serial correlation in $\\epsilon_{t}$ and still test for a unit root. This can be done with the augmented Dickey-Fuller test. \n",
    "\n",
    "<br>\n",
    "\n",
    "This test is carried out by extending the data-generating process (DGP) to include lagged changes in $Y_{t}$ on the right-hand side:\n",
    "\n",
    "<br>"
   ]
  },
  {
   "cell_type": "markdown",
   "metadata": {},
   "source": [
    "$$\n",
    "Y_{t} = \\alpha + \\beta t + \\rho Y_{t-1} + \\sum\\limits_{j=1}^{p} \\lambda_{j} \\Delta y_{t-j} + \\epsilon_{t}\n",
    "$$\n",
    "\n",
    "<br>\n",
    "\n",
    "where $\\Delta Y_{t} = Y_{t} - Y_{t-1}$.\n",
    "\n",
    "<br>\n",
    "\n",
    "The unit-root test proceeds as before: \n",
    "\n",
    "* Using OLS, run the unrestricted regression\n",
    "\n",
    "$$\n",
    "Y_{t} - Y_{t-1} = \\alpha + \\beta t + (\\rho - 1) Y_{t-1} + \\sum\\limits_{j=1}^{p} \\lambda_{j} Y_{t-j} \n",
    "$$\n",
    "\n",
    "* And then the restricted regression\n",
    "\n",
    "$$\n",
    "Y_{t} - Y_{t-1} = \\alpha + \\sum\\limits_{j=1}^{p} \\lambda_{j} Y_{t-j}\n",
    "$$\n",
    "\n",
    "<br>\n"
   ]
  },
  {
   "cell_type": "markdown",
   "metadata": {},
   "source": [
    "* Form the $F$-statistic to test if the restrictions hold ($\\beta = 0$ and $\\rho=1$)\n",
    "\n",
    "<br>\n",
    "<br>\n",
    "\n",
    "__Phillips-Perron Test__\n",
    "\n",
    "<br>\n",
    "\n",
    "Consider the following two regressions:\n",
    "\n",
    "$$\n",
    "\\begin{aligned}\n",
    "y_{t} &= \\mu + \\alpha y_{t-1} + \\epsilon_{t} \\\\\n",
    "y_{t} &= \\mu + \\beta (t-\\frac{1}{2} T) + \\alpha y_{t-1} + \\epsilon_{t}\n",
    "\\end{aligned}\n",
    "$$"
   ]
  },
  {
   "cell_type": "code",
   "execution_count": null,
   "metadata": {},
   "outputs": [],
   "source": []
  }
 ],
 "metadata": {
  "kernelspec": {
   "display_name": "Python 3",
   "language": "python",
   "name": "python3"
  },
  "language_info": {
   "codemirror_mode": {
    "name": "ipython",
    "version": 3
   },
   "file_extension": ".py",
   "mimetype": "text/x-python",
   "name": "python",
   "nbconvert_exporter": "python",
   "pygments_lexer": "ipython3",
   "version": "3.7.1"
  }
 },
 "nbformat": 4,
 "nbformat_minor": 2
}
