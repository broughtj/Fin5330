{
 "cells": [
  {
   "cell_type": "markdown",
   "metadata": {},
   "source": [
    "# __Brough Lecture Notes: Estimating VAR Models with R__\n",
    "\n",
    "<br>\n",
    "\n",
    "Finance 5330: Financial Econometrics <br>\n",
    "Tyler J. Brough <br>\n",
    "Last Updated: April 23, 2019 <br>\n",
    "<br>"
   ]
  },
  {
   "cell_type": "code",
   "execution_count": 2,
   "metadata": {},
   "outputs": [],
   "source": [
    "options(warn=-1)"
   ]
  },
  {
   "cell_type": "code",
   "execution_count": 3,
   "metadata": {},
   "outputs": [],
   "source": [
    "library(vars)"
   ]
  },
  {
   "cell_type": "code",
   "execution_count": 5,
   "metadata": {},
   "outputs": [],
   "source": [
    "raw <- read.table(\"./data/lee-ready.csv\", sep=\"|\", header=T)\n",
    "raw$SYMBOL <- as.character(raw$SYMBOL)\n",
    "tickers <- unique(raw$SYMBOL)\n",
    "ibm <- raw[raw$SYMBOL == \"IBM\", c(\"mid_point2\", \"buyer_init\")]"
   ]
  },
  {
   "cell_type": "code",
   "execution_count": 6,
   "metadata": {},
   "outputs": [
    {
     "data": {
      "text/html": [
       "<table>\n",
       "<thead><tr><th></th><th scope=col>mid_point2</th><th scope=col>buyer_init</th></tr></thead>\n",
       "<tbody>\n",
       "\t<tr><th scope=row>15390</th><td>196.900</td><td>-1     </td></tr>\n",
       "\t<tr><th scope=row>15391</th><td>196.890</td><td>-1     </td></tr>\n",
       "\t<tr><th scope=row>15392</th><td>197.040</td><td>-1     </td></tr>\n",
       "\t<tr><th scope=row>15393</th><td>196.745</td><td> 1     </td></tr>\n",
       "\t<tr><th scope=row>15394</th><td>197.395</td><td>-1     </td></tr>\n",
       "\t<tr><th scope=row>15395</th><td>196.965</td><td>-1     </td></tr>\n",
       "</tbody>\n",
       "</table>\n"
      ],
      "text/latex": [
       "\\begin{tabular}{r|ll}\n",
       "  & mid\\_point2 & buyer\\_init\\\\\n",
       "\\hline\n",
       "\t15390 & 196.900 & -1     \\\\\n",
       "\t15391 & 196.890 & -1     \\\\\n",
       "\t15392 & 197.040 & -1     \\\\\n",
       "\t15393 & 196.745 &  1     \\\\\n",
       "\t15394 & 197.395 & -1     \\\\\n",
       "\t15395 & 196.965 & -1     \\\\\n",
       "\\end{tabular}\n"
      ],
      "text/markdown": [
       "\n",
       "| <!--/--> | mid_point2 | buyer_init |\n",
       "|---|---|---|\n",
       "| 15390 | 196.900 | -1      |\n",
       "| 15391 | 196.890 | -1      |\n",
       "| 15392 | 197.040 | -1      |\n",
       "| 15393 | 196.745 |  1      |\n",
       "| 15394 | 197.395 | -1      |\n",
       "| 15395 | 196.965 | -1      |\n",
       "\n"
      ],
      "text/plain": [
       "      mid_point2 buyer_init\n",
       "15390 196.900    -1        \n",
       "15391 196.890    -1        \n",
       "15392 197.040    -1        \n",
       "15393 196.745     1        \n",
       "15394 197.395    -1        \n",
       "15395 196.965    -1        "
      ]
     },
     "metadata": {},
     "output_type": "display_data"
    }
   ],
   "source": [
    "head(ibm)"
   ]
  },
  {
   "cell_type": "code",
   "execution_count": 7,
   "metadata": {},
   "outputs": [
    {
     "data": {
      "text/html": [
       "<table>\n",
       "<thead><tr><th></th><th scope=col>mid_point2</th><th scope=col>buyer_init</th></tr></thead>\n",
       "<tbody>\n",
       "\t<tr><th scope=row>22104</th><td>193.580</td><td> 1     </td></tr>\n",
       "\t<tr><th scope=row>22105</th><td>193.585</td><td>-1     </td></tr>\n",
       "\t<tr><th scope=row>22106</th><td>193.605</td><td>-1     </td></tr>\n",
       "\t<tr><th scope=row>22107</th><td>193.510</td><td>-1     </td></tr>\n",
       "\t<tr><th scope=row>22108</th><td>193.565</td><td>-1     </td></tr>\n",
       "\t<tr><th scope=row>22109</th><td>193.570</td><td>-1     </td></tr>\n",
       "</tbody>\n",
       "</table>\n"
      ],
      "text/latex": [
       "\\begin{tabular}{r|ll}\n",
       "  & mid\\_point2 & buyer\\_init\\\\\n",
       "\\hline\n",
       "\t22104 & 193.580 &  1     \\\\\n",
       "\t22105 & 193.585 & -1     \\\\\n",
       "\t22106 & 193.605 & -1     \\\\\n",
       "\t22107 & 193.510 & -1     \\\\\n",
       "\t22108 & 193.565 & -1     \\\\\n",
       "\t22109 & 193.570 & -1     \\\\\n",
       "\\end{tabular}\n"
      ],
      "text/markdown": [
       "\n",
       "| <!--/--> | mid_point2 | buyer_init |\n",
       "|---|---|---|\n",
       "| 22104 | 193.580 |  1      |\n",
       "| 22105 | 193.585 | -1      |\n",
       "| 22106 | 193.605 | -1      |\n",
       "| 22107 | 193.510 | -1      |\n",
       "| 22108 | 193.565 | -1      |\n",
       "| 22109 | 193.570 | -1      |\n",
       "\n"
      ],
      "text/plain": [
       "      mid_point2 buyer_init\n",
       "22104 193.580     1        \n",
       "22105 193.585    -1        \n",
       "22106 193.605    -1        \n",
       "22107 193.510    -1        \n",
       "22108 193.565    -1        \n",
       "22109 193.570    -1        "
      ]
     },
     "metadata": {},
     "output_type": "display_data"
    }
   ],
   "source": [
    "tail(ibm)"
   ]
  },
  {
   "cell_type": "code",
   "execution_count": 8,
   "metadata": {},
   "outputs": [],
   "source": [
    "midRet <- diff(log(ibm$mid_point2))"
   ]
  },
  {
   "cell_type": "code",
   "execution_count": 9,
   "metadata": {},
   "outputs": [],
   "source": [
    "n <- length(ibm$buyer_init)\n",
    "trdSgn <- ibm$buyer_init[2:n]"
   ]
  },
  {
   "cell_type": "code",
   "execution_count": 10,
   "metadata": {},
   "outputs": [],
   "source": [
    "df <- data.frame(X=trdSgn, R=midRet)"
   ]
  },
  {
   "cell_type": "code",
   "execution_count": 11,
   "metadata": {},
   "outputs": [
    {
     "data": {
      "text/html": [
       "<table>\n",
       "<thead><tr><th scope=col>X</th><th scope=col>R</th></tr></thead>\n",
       "<tbody>\n",
       "\t<tr><td>-1           </td><td>-5.078849e-05</td></tr>\n",
       "\t<tr><td>-1           </td><td> 7.615567e-04</td></tr>\n",
       "\t<tr><td> 1           </td><td>-1.498280e-03</td></tr>\n",
       "\t<tr><td>-1           </td><td> 3.298323e-03</td></tr>\n",
       "\t<tr><td>-1           </td><td>-2.180749e-03</td></tr>\n",
       "\t<tr><td>-1           </td><td>-5.077173e-05</td></tr>\n",
       "</tbody>\n",
       "</table>\n"
      ],
      "text/latex": [
       "\\begin{tabular}{r|ll}\n",
       " X & R\\\\\n",
       "\\hline\n",
       "\t -1            & -5.078849e-05\\\\\n",
       "\t -1            &  7.615567e-04\\\\\n",
       "\t  1            & -1.498280e-03\\\\\n",
       "\t -1            &  3.298323e-03\\\\\n",
       "\t -1            & -2.180749e-03\\\\\n",
       "\t -1            & -5.077173e-05\\\\\n",
       "\\end{tabular}\n"
      ],
      "text/markdown": [
       "\n",
       "| X | R |\n",
       "|---|---|\n",
       "| -1            | -5.078849e-05 |\n",
       "| -1            |  7.615567e-04 |\n",
       "|  1            | -1.498280e-03 |\n",
       "| -1            |  3.298323e-03 |\n",
       "| -1            | -2.180749e-03 |\n",
       "| -1            | -5.077173e-05 |\n",
       "\n"
      ],
      "text/plain": [
       "  X  R            \n",
       "1 -1 -5.078849e-05\n",
       "2 -1  7.615567e-04\n",
       "3  1 -1.498280e-03\n",
       "4 -1  3.298323e-03\n",
       "5 -1 -2.180749e-03\n",
       "6 -1 -5.077173e-05"
      ]
     },
     "metadata": {},
     "output_type": "display_data"
    }
   ],
   "source": [
    "head(df)"
   ]
  },
  {
   "cell_type": "code",
   "execution_count": 12,
   "metadata": {},
   "outputs": [
    {
     "data": {
      "text/html": [
       "<table>\n",
       "<thead><tr><th></th><th scope=col>X</th><th scope=col>R</th></tr></thead>\n",
       "<tbody>\n",
       "\t<tr><th scope=row>6714</th><td> 1           </td><td> 7.749035e-05</td></tr>\n",
       "\t<tr><th scope=row>6715</th><td>-1           </td><td> 2.582878e-05</td></tr>\n",
       "\t<tr><th scope=row>6716</th><td>-1           </td><td> 1.033085e-04</td></tr>\n",
       "\t<tr><th scope=row>6717</th><td>-1           </td><td>-4.908102e-04</td></tr>\n",
       "\t<tr><th scope=row>6718</th><td>-1           </td><td> 2.841827e-04</td></tr>\n",
       "\t<tr><th scope=row>6719</th><td>-1           </td><td> 2.583078e-05</td></tr>\n",
       "</tbody>\n",
       "</table>\n"
      ],
      "text/latex": [
       "\\begin{tabular}{r|ll}\n",
       "  & X & R\\\\\n",
       "\\hline\n",
       "\t6714 &  1            &  7.749035e-05\\\\\n",
       "\t6715 & -1            &  2.582878e-05\\\\\n",
       "\t6716 & -1            &  1.033085e-04\\\\\n",
       "\t6717 & -1            & -4.908102e-04\\\\\n",
       "\t6718 & -1            &  2.841827e-04\\\\\n",
       "\t6719 & -1            &  2.583078e-05\\\\\n",
       "\\end{tabular}\n"
      ],
      "text/markdown": [
       "\n",
       "| <!--/--> | X | R |\n",
       "|---|---|---|\n",
       "| 6714 |  1            |  7.749035e-05 |\n",
       "| 6715 | -1            |  2.582878e-05 |\n",
       "| 6716 | -1            |  1.033085e-04 |\n",
       "| 6717 | -1            | -4.908102e-04 |\n",
       "| 6718 | -1            |  2.841827e-04 |\n",
       "| 6719 | -1            |  2.583078e-05 |\n",
       "\n"
      ],
      "text/plain": [
       "     X  R            \n",
       "6714  1  7.749035e-05\n",
       "6715 -1  2.582878e-05\n",
       "6716 -1  1.033085e-04\n",
       "6717 -1 -4.908102e-04\n",
       "6718 -1  2.841827e-04\n",
       "6719 -1  2.583078e-05"
      ]
     },
     "metadata": {},
     "output_type": "display_data"
    }
   ],
   "source": [
    "tail(df)"
   ]
  },
  {
   "cell_type": "code",
   "execution_count": 20,
   "metadata": {},
   "outputs": [],
   "source": [
    "fit <- VAR(df, p=3, type=\"const\")"
   ]
  },
  {
   "cell_type": "code",
   "execution_count": 21,
   "metadata": {},
   "outputs": [
    {
     "data": {
      "text/plain": [
       "\n",
       "VAR Estimation Results:\n",
       "========================= \n",
       "Endogenous variables: X, R \n",
       "Deterministic variables: const \n",
       "Sample size: 6716 \n",
       "Log Likelihood: 12467.887 \n",
       "Roots of the characteristic polynomial:\n",
       "0.6397 0.6397 0.6016 0.5214 0.3046 0.3046\n",
       "Call:\n",
       "VAR(y = df, p = 3, type = \"const\")\n",
       "\n",
       "\n",
       "Estimation results for equation X: \n",
       "================================== \n",
       "X = X.l1 + R.l1 + X.l2 + R.l2 + X.l3 + R.l3 + const \n",
       "\n",
       "       Estimate Std. Error t value Pr(>|t|)    \n",
       "X.l1   0.212894   0.012197  17.454  < 2e-16 ***\n",
       "R.l1   1.310851   1.210319   1.083    0.279    \n",
       "X.l2   0.067837   0.012441   5.453 5.14e-08 ***\n",
       "R.l2   1.944893   1.397705   1.391    0.164    \n",
       "X.l3   0.048484   0.012194   3.976 7.08e-05 ***\n",
       "R.l3  -0.657241   1.210400  -0.543    0.587    \n",
       "const -0.007882   0.011811  -0.667    0.505    \n",
       "---\n",
       "Signif. codes:  0 ‘***’ 0.001 ‘**’ 0.01 ‘*’ 0.05 ‘.’ 0.1 ‘ ’ 1\n",
       "\n",
       "\n",
       "Residual standard error: 0.9678 on 6709 degrees of freedom\n",
       "Multiple R-Squared: 0.06364,\tAdjusted R-squared: 0.0628 \n",
       "F-statistic:    76 on 6 and 6709 DF,  p-value: < 2.2e-16 \n",
       "\n",
       "\n",
       "Estimation results for equation R: \n",
       "================================== \n",
       "R = X.l1 + R.l1 + X.l2 + R.l2 + X.l3 + R.l3 + const \n",
       "\n",
       "        Estimate Std. Error t value Pr(>|t|)    \n",
       "X.l1  -3.287e-05  1.193e-04  -0.276    0.783    \n",
       "R.l1  -7.488e-01  1.184e-02 -63.255   <2e-16 ***\n",
       "X.l2  -2.045e-05  1.217e-04  -0.168    0.867    \n",
       "R.l2  -4.974e-01  1.367e-02 -36.389   <2e-16 ***\n",
       "X.l3   3.403e-05  1.193e-04   0.285    0.775    \n",
       "R.l3  -2.462e-01  1.184e-02 -20.795   <2e-16 ***\n",
       "const -6.526e-06  1.155e-04  -0.056    0.955    \n",
       "---\n",
       "Signif. codes:  0 ‘***’ 0.001 ‘**’ 0.01 ‘*’ 0.05 ‘.’ 0.1 ‘ ’ 1\n",
       "\n",
       "\n",
       "Residual standard error: 0.009465 on 6709 degrees of freedom\n",
       "Multiple R-Squared: 0.3737,\tAdjusted R-squared: 0.3732 \n",
       "F-statistic: 667.2 on 6 and 6709 DF,  p-value: < 2.2e-16 \n",
       "\n",
       "\n",
       "\n",
       "Covariance matrix of residuals:\n",
       "           X          R\n",
       "X  0.9366517 -2.734e-04\n",
       "R -0.0002734  8.959e-05\n",
       "\n",
       "Correlation matrix of residuals:\n",
       "         X        R\n",
       "X  1.00000 -0.02985\n",
       "R -0.02985  1.00000\n",
       "\n"
      ]
     },
     "metadata": {},
     "output_type": "display_data"
    }
   ],
   "source": [
    "summary(fit)"
   ]
  },
  {
   "cell_type": "code",
   "execution_count": 22,
   "metadata": {},
   "outputs": [
    {
     "data": {
      "text/html": [
       "<pre class=language-r><code>function (x, impulse = NULL, response = NULL, n.ahead = 10, ortho = TRUE, \n",
       "<span style=white-space:pre-wrap>    cumulative = FALSE, boot = TRUE, ci = 0.95, runs = 100, seed = NULL, </span>\n",
       "<span style=white-space:pre-wrap>    ...) </span>\n",
       "NULL</code></pre>"
      ],
      "text/latex": [
       "\\begin{minted}{r}\n",
       "function (x, impulse = NULL, response = NULL, n.ahead = 10, ortho = TRUE, \n",
       "    cumulative = FALSE, boot = TRUE, ci = 0.95, runs = 100, seed = NULL, \n",
       "    ...) \n",
       "NULL\n",
       "\\end{minted}"
      ],
      "text/markdown": [
       "```r\n",
       "function (x, impulse = NULL, response = NULL, n.ahead = 10, ortho = TRUE, \n",
       "    cumulative = FALSE, boot = TRUE, ci = 0.95, runs = 100, seed = NULL, \n",
       "    ...) \n",
       "NULL\n",
       "```"
      ],
      "text/plain": [
       "function (x, impulse = NULL, response = NULL, n.ahead = 10, ortho = TRUE, \n",
       "    cumulative = FALSE, boot = TRUE, ci = 0.95, runs = 100, seed = NULL, \n",
       "    ...) \n",
       "NULL"
      ]
     },
     "metadata": {},
     "output_type": "display_data"
    }
   ],
   "source": [
    "args(irf)"
   ]
  },
  {
   "cell_type": "code",
   "execution_count": null,
   "metadata": {},
   "outputs": [],
   "source": []
  },
  {
   "cell_type": "code",
   "execution_count": null,
   "metadata": {},
   "outputs": [],
   "source": []
  },
  {
   "cell_type": "code",
   "execution_count": null,
   "metadata": {},
   "outputs": [],
   "source": []
  },
  {
   "cell_type": "code",
   "execution_count": null,
   "metadata": {},
   "outputs": [],
   "source": []
  }
 ],
 "metadata": {
  "kernelspec": {
   "display_name": "R",
   "language": "R",
   "name": "ir"
  },
  "language_info": {
   "codemirror_mode": "r",
   "file_extension": ".r",
   "mimetype": "text/x-r-source",
   "name": "R",
   "pygments_lexer": "r",
   "version": "3.5.1"
  }
 },
 "nbformat": 4,
 "nbformat_minor": 2
}
