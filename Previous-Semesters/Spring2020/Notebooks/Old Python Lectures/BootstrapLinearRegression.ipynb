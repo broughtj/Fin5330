{
 "cells": [
  {
   "cell_type": "code",
   "execution_count": 1,
   "metadata": {},
   "outputs": [],
   "source": [
    "import numpy as np\n",
    "from scipy import stats"
   ]
  },
  {
   "cell_type": "code",
   "execution_count": 2,
   "metadata": {},
   "outputs": [],
   "source": [
    "M = 100"
   ]
  },
  {
   "cell_type": "code",
   "execution_count": 3,
   "metadata": {},
   "outputs": [],
   "source": [
    "x = np.random.uniform(size=M)"
   ]
  },
  {
   "cell_type": "code",
   "execution_count": 4,
   "metadata": {},
   "outputs": [],
   "source": [
    "u = np.random.normal(size=M)"
   ]
  },
  {
   "cell_type": "code",
   "execution_count": 5,
   "metadata": {},
   "outputs": [],
   "source": [
    "a = 0.22\n",
    "b = 2.50"
   ]
  },
  {
   "cell_type": "code",
   "execution_count": 6,
   "metadata": {},
   "outputs": [],
   "source": [
    "y = a + b * x + u"
   ]
  },
  {
   "cell_type": "code",
   "execution_count": 7,
   "metadata": {},
   "outputs": [],
   "source": [
    "results = stats.linregress(x,y)"
   ]
  },
  {
   "cell_type": "code",
   "execution_count": 8,
   "metadata": {},
   "outputs": [
    {
     "name": "stdout",
     "output_type": "stream",
     "text": [
      "Variable   Type                Data/Info\n",
      "----------------------------------------\n",
      "M          int                 100\n",
      "a          float               0.22\n",
      "b          float               2.5\n",
      "np         module              <module 'numpy' from '/ho<...>kages/numpy/__init__.py'>\n",
      "results    LinregressResult    LinregressResult(slope=2.<...>derr=0.39633494010885817)\n",
      "stats      module              <module 'scipy.stats' fro<...>scipy/stats/__init__.py'>\n",
      "u          ndarray             100: 100 elems, type `float64`, 800 bytes\n",
      "x          ndarray             100: 100 elems, type `float64`, 800 bytes\n",
      "y          ndarray             100: 100 elems, type `float64`, 800 bytes\n"
     ]
    }
   ],
   "source": [
    "whos"
   ]
  },
  {
   "cell_type": "code",
   "execution_count": 10,
   "metadata": {},
   "outputs": [
    {
     "data": {
      "text/plain": [
       "0.3695940305722494"
      ]
     },
     "execution_count": 10,
     "metadata": {},
     "output_type": "execute_result"
    }
   ],
   "source": [
    "ahat = results.intercept\n",
    "ahat"
   ]
  },
  {
   "cell_type": "code",
   "execution_count": 11,
   "metadata": {},
   "outputs": [
    {
     "data": {
      "text/plain": [
       "2.3634235141008806"
      ]
     },
     "execution_count": 11,
     "metadata": {},
     "output_type": "execute_result"
    }
   ],
   "source": [
    "bhat = results.slope\n",
    "bhat"
   ]
  },
  {
   "cell_type": "code",
   "execution_count": 12,
   "metadata": {},
   "outputs": [],
   "source": [
    "yhat = ahat * bhat * x\n",
    "resids = y - yhat\n",
    "\n",
    "B = 25000\n",
    "vals = np.empty(B)\n",
    "\n",
    "for b in range(B): \n",
    "    z = np.random.choice(resids, size=M, replace=True)\n",
    "    ysim = ahat + bhat * x + z\n",
    "    res = stats.linregress(x, ysim)\n",
    "    vals[b] = res.slope"
   ]
  },
  {
   "cell_type": "code",
   "execution_count": 13,
   "metadata": {},
   "outputs": [],
   "source": [
    "import matplotlib.pyplot as plt"
   ]
  },
  {
   "cell_type": "code",
   "execution_count": 14,
   "metadata": {},
   "outputs": [
    {
     "data": {
      "text/plain": [
       "(array([6.000e+00, 7.400e+01, 5.260e+02, 2.549e+03, 6.048e+03, 7.883e+03,\n",
       "        5.394e+03, 2.054e+03, 4.090e+02, 5.700e+01]),\n",
       " array([0.53180347, 0.86980363, 1.20780379, 1.54580395, 1.88380411,\n",
       "        2.22180427, 2.55980444, 2.8978046 , 3.23580476, 3.57380492,\n",
       "        3.91180508]),\n",
       " <a list of 10 Patch objects>)"
      ]
     },
     "execution_count": 14,
     "metadata": {},
     "output_type": "execute_result"
    },
    {
     "data": {
      "image/png": "[encoded data removed]",
      "text/plain": [
       "<Figure size 432x288 with 1 Axes>"
      ]
     },
     "metadata": {
      "needs_background": "light"
     },
     "output_type": "display_data"
    }
   ],
   "source": [
    "plt.hist(vals)"
   ]
  },
  {
   "cell_type": "code",
   "execution_count": null,
   "metadata": {},
   "outputs": [],
   "source": []
  }
 ],
 "metadata": {
  "kernelspec": {
   "display_name": "Python 3",
   "language": "python",
   "name": "python3"
  },
  "language_info": {
   "codemirror_mode": {
    "name": "ipython",
    "version": 3
   },
   "file_extension": ".py",
   "mimetype": "text/x-python",
   "name": "python",
   "nbconvert_exporter": "python",
   "pygments_lexer": "ipython3",
   "version": "3.7.1"
  }
 },
 "nbformat": 4,
 "nbformat_minor": 2
}
