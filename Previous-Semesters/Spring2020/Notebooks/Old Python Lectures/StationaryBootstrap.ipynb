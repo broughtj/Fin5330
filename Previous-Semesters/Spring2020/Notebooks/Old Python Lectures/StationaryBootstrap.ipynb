{
 "cells": [
  {
   "cell_type": "markdown",
   "metadata": {},
   "source": [
    "# __The Stationary Bootstrap__\n",
    "\n",
    "<br>\n",
    "\n",
    "Finance 5330: Financial Econometrics <br>\n",
    "Tyler J. Brough <br>\n",
    "Last Update: March 19, 2019 <br>\n",
    "<br>"
   ]
  },
  {
   "cell_type": "code",
   "execution_count": null,
   "metadata": {},
   "outputs": [],
   "source": [
    "import numpy as np\n",
    "import matplotlib.pyplot as plt\n",
    "from scipy import stats\n",
    "from sklearn.linear_model import LinearRegression"
   ]
  },
  {
   "cell_type": "code",
   "execution_count": 2,
   "metadata": {},
   "outputs": [],
   "source": [
    "def stationaryBootstrap(numObs, numReps, blockSize):\n",
    "    m = 1.0 / blockSize\n",
    "    u = np.empty(numObs, dtype='int64')\n",
    "    indices = np.empty((numReps, numObs), dtype='int64')\n",
    "\n",
    "    for b in range(numReps):\n",
    "        u[0] = np.random.randint(low=0, high=numObs, size=1, dtype='int64')\n",
    "        v = np.random.uniform(size=numObs)\n",
    "\n",
    "        for t in range(1, numObs):\n",
    "            if v[t] < m:\n",
    "                u[t] = np.random.randint(low=0, high=numObs, size=1, dtype='int64')\n",
    "            else:\n",
    "                u[t] = u[t-1] + 1\n",
    "                if u[t] >= numObs: \n",
    "                    u[t] = u[t] - numObs\n",
    "\n",
    "        indices[b] = u\n",
    "\n",
    "    return indices\n"
   ]
  },
  {
   "cell_type": "code",
   "execution_count": 3,
   "metadata": {},
   "outputs": [],
   "source": [
    "def simulateAR1(numObs = 100, theta = 0.5):\n",
    "    y = np.empty(numObs)\n",
    "    u = np.random.normal(size=numObs)\n",
    "    y[0] = u[0] * np.random.normal(size=1) \n",
    "\n",
    "    for t in range(1, numObs):\n",
    "        y[t] = theta * y[t-1] + u[t]\n",
    "\n",
    "    return y"
   ]
  },
  {
   "cell_type": "code",
   "execution_count": 4,
   "metadata": {},
   "outputs": [],
   "source": [
    "## Main\n",
    "np.random.seed(seed=123456)\n",
    "yraw = simulateAR1(numObs = 500)\n",
    "\n",
    "numObs = yraw.shape[0]\n",
    "numReps = 10000\n",
    "blockSize = 20\n",
    "values = np.empty(numReps)\n",
    "ii = stationaryBootstrap(numObs, numReps, blockSize)\n",
    "\n",
    "for b in range(numReps):\n",
    "    yart = yraw[ii[b]]\n",
    "    y = yart[1:]\n",
    "    x = yart[0:-1]\n",
    "    reg = LinearRegression(fit_intercept=False)\n",
    "    reg.fit(x.reshape(numObs-1,1), y.reshape(numObs-1,1))\n",
    "    values[b] = reg.coef_[0][0]\n",
    "\n",
    "\n",
    "mu = np.round(np.mean(values), 2)\n",
    "sigma = np.round(np.std(values, ddof=1), 2)"
   ]
  },
  {
   "cell_type": "code",
   "execution_count": 7,
   "metadata": {},
   "outputs": [
    {
     "data": {
      "text/plain": [
       "(0.5, 0.04)"
      ]
     },
     "execution_count": 7,
     "metadata": {},
     "output_type": "execute_result"
    }
   ],
   "source": [
    "mu, sigma"
   ]
  },
  {
   "cell_type": "code",
   "execution_count": 9,
   "metadata": {},
   "outputs": [
    {
     "data": {
      "image/png": "[encoded data removed]",
      "text/plain": [
       "<Figure size 432x288 with 1 Axes>"
      ]
     },
     "metadata": {
      "needs_background": "light"
     },
     "output_type": "display_data"
    }
   ],
   "source": [
    "plt.hist(values, bins=100);"
   ]
  },
  {
   "cell_type": "code",
   "execution_count": null,
   "metadata": {},
   "outputs": [],
   "source": []
  }
 ],
 "metadata": {
  "kernelspec": {
   "display_name": "Python 3",
   "language": "python",
   "name": "python3"
  },
  "language_info": {
   "codemirror_mode": {
    "name": "ipython",
    "version": 3
   },
   "file_extension": ".py",
   "mimetype": "text/x-python",
   "name": "python",
   "nbconvert_exporter": "python",
   "pygments_lexer": "ipython3",
   "version": "3.7.1"
  }
 },
 "nbformat": 4,
 "nbformat_minor": 2
}
