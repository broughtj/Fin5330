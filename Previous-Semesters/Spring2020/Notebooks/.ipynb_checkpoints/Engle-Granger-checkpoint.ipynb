{
 "cells": [
  {
   "cell_type": "markdown",
   "metadata": {},
   "source": [
    "# __The Engle-Granger Procedure (Julia)__\n",
    "\n",
    "<br>\n",
    "\n",
    "Finance 5330: Financial Econometrics <br>\n",
    "Tyler J. Brough <br>\n",
    "Last Update: March 19, 2020 <br>\n",
    "<br>"
   ]
  },
  {
   "cell_type": "code",
   "execution_count": 1,
   "metadata": {},
   "outputs": [],
   "source": [
    "using CSV\n",
    "using DataFrames\n",
    "using HypothesisTests\n",
    "using GLM\n",
    "using PyPlot; const plt = PyPlot;"
   ]
  },
  {
   "cell_type": "markdown",
   "metadata": {},
   "source": [
    "## Heating Oil Spot and Futures Historical Data"
   ]
  },
  {
   "cell_type": "code",
   "execution_count": 2,
   "metadata": {},
   "outputs": [],
   "source": [
    "ho_spot = CSV.read(\"./data/HO-Spot.csv\");"
   ]
  },
  {
   "cell_type": "code",
   "execution_count": 3,
   "metadata": {},
   "outputs": [
    {
     "data": {
      "text/html": [
       "<table class=\"data-frame\"><thead><tr><th></th><th>Date</th><th>HO-Spot</th></tr><tr><th></th><th>Dates…</th><th>Float64</th></tr></thead><tbody><p>5 rows × 2 columns</p><tr><th>1</th><td>2020-02-25</td><td>1.529</td></tr><tr><th>2</th><td>2020-02-24</td><td>1.575</td></tr><tr><th>3</th><td>2020-02-21</td><td>1.65</td></tr><tr><th>4</th><td>2020-02-20</td><td>1.657</td></tr><tr><th>5</th><td>2020-02-19</td><td>1.667</td></tr></tbody></table>"
      ],
      "text/latex": [
       "\\begin{tabular}{r|cc}\n",
       "\t& Date & HO-Spot\\\\\n",
       "\t\\hline\n",
       "\t& Dates… & Float64\\\\\n",
       "\t\\hline\n",
       "\t1 & 2020-02-25 & 1.529 \\\\\n",
       "\t2 & 2020-02-24 & 1.575 \\\\\n",
       "\t3 & 2020-02-21 & 1.65 \\\\\n",
       "\t4 & 2020-02-20 & 1.657 \\\\\n",
       "\t5 & 2020-02-19 & 1.667 \\\\\n",
       "\\end{tabular}\n"
      ],
      "text/plain": [
       "5×2 DataFrame\n",
       "│ Row │ Date       │ HO-Spot │\n",
       "│     │ \u001b[90mDates.Date\u001b[39m │ \u001b[90mFloat64\u001b[39m │\n",
       "├─────┼────────────┼─────────┤\n",
       "│ 1   │ 2020-02-25 │ 1.529   │\n",
       "│ 2   │ 2020-02-24 │ 1.575   │\n",
       "│ 3   │ 2020-02-21 │ 1.65    │\n",
       "│ 4   │ 2020-02-20 │ 1.657   │\n",
       "│ 5   │ 2020-02-19 │ 1.667   │"
      ]
     },
     "execution_count": 3,
     "metadata": {},
     "output_type": "execute_result"
    }
   ],
   "source": [
    "first(ho_spot, 5)"
   ]
  },
  {
   "cell_type": "code",
   "execution_count": 4,
   "metadata": {},
   "outputs": [
    {
     "data": {
      "text/html": [
       "<table class=\"data-frame\"><thead><tr><th></th><th>Date</th><th>HO-Spot</th></tr><tr><th></th><th>Dates…</th><th>Float64</th></tr></thead><tbody><p>5 rows × 2 columns</p><tr><th>1</th><td>1986-06-06</td><td>0.385</td></tr><tr><th>2</th><td>1986-06-05</td><td>0.39</td></tr><tr><th>3</th><td>1986-06-04</td><td>0.378</td></tr><tr><th>4</th><td>1986-06-03</td><td>0.393</td></tr><tr><th>5</th><td>1986-06-02</td><td>0.402</td></tr></tbody></table>"
      ],
      "text/latex": [
       "\\begin{tabular}{r|cc}\n",
       "\t& Date & HO-Spot\\\\\n",
       "\t\\hline\n",
       "\t& Dates… & Float64\\\\\n",
       "\t\\hline\n",
       "\t1 & 1986-06-06 & 0.385 \\\\\n",
       "\t2 & 1986-06-05 & 0.39 \\\\\n",
       "\t3 & 1986-06-04 & 0.378 \\\\\n",
       "\t4 & 1986-06-03 & 0.393 \\\\\n",
       "\t5 & 1986-06-02 & 0.402 \\\\\n",
       "\\end{tabular}\n"
      ],
      "text/plain": [
       "5×2 DataFrame\n",
       "│ Row │ Date       │ HO-Spot │\n",
       "│     │ \u001b[90mDates.Date\u001b[39m │ \u001b[90mFloat64\u001b[39m │\n",
       "├─────┼────────────┼─────────┤\n",
       "│ 1   │ 1986-06-06 │ 0.385   │\n",
       "│ 2   │ 1986-06-05 │ 0.39    │\n",
       "│ 3   │ 1986-06-04 │ 0.378   │\n",
       "│ 4   │ 1986-06-03 │ 0.393   │\n",
       "│ 5   │ 1986-06-02 │ 0.402   │"
      ]
     },
     "execution_count": 4,
     "metadata": {},
     "output_type": "execute_result"
    }
   ],
   "source": [
    "last(ho_spot, 5)"
   ]
  },
  {
   "cell_type": "code",
   "execution_count": 5,
   "metadata": {},
   "outputs": [],
   "source": [
    "ho_fut = CSV.read(\"./data/HO-Futures.csv\");"
   ]
  },
  {
   "cell_type": "code",
   "execution_count": 6,
   "metadata": {},
   "outputs": [
    {
     "data": {
      "text/html": [
       "<table class=\"data-frame\"><thead><tr><th></th><th>Date</th><th>HO-Futures</th></tr><tr><th></th><th>Dates…</th><th>Float64</th></tr></thead><tbody><p>5 rows × 2 columns</p><tr><th>1</th><td>2020-03-03</td><td>1.533</td></tr><tr><th>2</th><td>2020-03-02</td><td>1.529</td></tr><tr><th>3</th><td>2020-02-28</td><td>1.491</td></tr><tr><th>4</th><td>2020-02-27</td><td>1.489</td></tr><tr><th>5</th><td>2020-02-26</td><td>1.499</td></tr></tbody></table>"
      ],
      "text/latex": [
       "\\begin{tabular}{r|cc}\n",
       "\t& Date & HO-Futures\\\\\n",
       "\t\\hline\n",
       "\t& Dates… & Float64\\\\\n",
       "\t\\hline\n",
       "\t1 & 2020-03-03 & 1.533 \\\\\n",
       "\t2 & 2020-03-02 & 1.529 \\\\\n",
       "\t3 & 2020-02-28 & 1.491 \\\\\n",
       "\t4 & 2020-02-27 & 1.489 \\\\\n",
       "\t5 & 2020-02-26 & 1.499 \\\\\n",
       "\\end{tabular}\n"
      ],
      "text/plain": [
       "5×2 DataFrame\n",
       "│ Row │ Date       │ HO-Futures │\n",
       "│     │ \u001b[90mDates.Date\u001b[39m │ \u001b[90mFloat64\u001b[39m    │\n",
       "├─────┼────────────┼────────────┤\n",
       "│ 1   │ 2020-03-03 │ 1.533      │\n",
       "│ 2   │ 2020-03-02 │ 1.529      │\n",
       "│ 3   │ 2020-02-28 │ 1.491      │\n",
       "│ 4   │ 2020-02-27 │ 1.489      │\n",
       "│ 5   │ 2020-02-26 │ 1.499      │"
      ]
     },
     "execution_count": 6,
     "metadata": {},
     "output_type": "execute_result"
    }
   ],
   "source": [
    "first(ho_fut, 5)"
   ]
  },
  {
   "cell_type": "code",
   "execution_count": 7,
   "metadata": {},
   "outputs": [
    {
     "data": {
      "text/html": [
       "<table class=\"data-frame\"><thead><tr><th></th><th>Date</th><th>HO-Futures</th></tr><tr><th></th><th>Dates…</th><th>Float64</th></tr></thead><tbody><p>5 rows × 2 columns</p><tr><th>1</th><td>1980-01-08</td><td>0.786</td></tr><tr><th>2</th><td>1980-01-07</td><td>0.828</td></tr><tr><th>3</th><td>1980-01-04</td><td>0.85</td></tr><tr><th>4</th><td>1980-01-03</td><td>0.827</td></tr><tr><th>5</th><td>1980-01-02</td><td>0.821</td></tr></tbody></table>"
      ],
      "text/latex": [
       "\\begin{tabular}{r|cc}\n",
       "\t& Date & HO-Futures\\\\\n",
       "\t\\hline\n",
       "\t& Dates… & Float64\\\\\n",
       "\t\\hline\n",
       "\t1 & 1980-01-08 & 0.786 \\\\\n",
       "\t2 & 1980-01-07 & 0.828 \\\\\n",
       "\t3 & 1980-01-04 & 0.85 \\\\\n",
       "\t4 & 1980-01-03 & 0.827 \\\\\n",
       "\t5 & 1980-01-02 & 0.821 \\\\\n",
       "\\end{tabular}\n"
      ],
      "text/plain": [
       "5×2 DataFrame\n",
       "│ Row │ Date       │ HO-Futures │\n",
       "│     │ \u001b[90mDates.Date\u001b[39m │ \u001b[90mFloat64\u001b[39m    │\n",
       "├─────┼────────────┼────────────┤\n",
       "│ 1   │ 1980-01-08 │ 0.786      │\n",
       "│ 2   │ 1980-01-07 │ 0.828      │\n",
       "│ 3   │ 1980-01-04 │ 0.85       │\n",
       "│ 4   │ 1980-01-03 │ 0.827      │\n",
       "│ 5   │ 1980-01-02 │ 0.821      │"
      ]
     },
     "execution_count": 7,
     "metadata": {},
     "output_type": "execute_result"
    }
   ],
   "source": [
    "last(ho_fut, 5)"
   ]
  },
  {
   "cell_type": "code",
   "execution_count": 8,
   "metadata": {},
   "outputs": [],
   "source": [
    "ho = DataFrames.join(ho_spot, ho_fut, on = :Date);\n",
    "sort!(ho, :Date);\n",
    "ho = ho[910:1899,:];"
   ]
  },
  {
   "cell_type": "code",
   "execution_count": 9,
   "metadata": {},
   "outputs": [
    {
     "data": {
      "text/html": [
       "<table class=\"data-frame\"><thead><tr><th></th><th>Date</th><th>HO-Spot</th><th>HO-Futures</th></tr><tr><th></th><th>Dates…</th><th>Float64</th><th>Float64</th></tr></thead><tbody><p>10 rows × 3 columns</p><tr><th>1</th><td>1990-01-18</td><td>0.651</td><td>0.618</td></tr><tr><th>2</th><td>1990-01-19</td><td>0.647</td><td>0.637</td></tr><tr><th>3</th><td>1990-01-22</td><td>0.628</td><td>0.61</td></tr><tr><th>4</th><td>1990-01-23</td><td>0.602</td><td>0.593</td></tr><tr><th>5</th><td>1990-01-24</td><td>0.611</td><td>0.596</td></tr><tr><th>6</th><td>1990-01-25</td><td>0.61</td><td>0.598</td></tr><tr><th>7</th><td>1990-01-26</td><td>0.605</td><td>0.596</td></tr><tr><th>8</th><td>1990-01-29</td><td>0.615</td><td>0.611</td></tr><tr><th>9</th><td>1990-01-30</td><td>0.596</td><td>0.605</td></tr><tr><th>10</th><td>1990-01-31</td><td>0.587</td><td>0.589</td></tr></tbody></table>"
      ],
      "text/latex": [
       "\\begin{tabular}{r|ccc}\n",
       "\t& Date & HO-Spot & HO-Futures\\\\\n",
       "\t\\hline\n",
       "\t& Dates… & Float64 & Float64\\\\\n",
       "\t\\hline\n",
       "\t1 & 1990-01-18 & 0.651 & 0.618 \\\\\n",
       "\t2 & 1990-01-19 & 0.647 & 0.637 \\\\\n",
       "\t3 & 1990-01-22 & 0.628 & 0.61 \\\\\n",
       "\t4 & 1990-01-23 & 0.602 & 0.593 \\\\\n",
       "\t5 & 1990-01-24 & 0.611 & 0.596 \\\\\n",
       "\t6 & 1990-01-25 & 0.61 & 0.598 \\\\\n",
       "\t7 & 1990-01-26 & 0.605 & 0.596 \\\\\n",
       "\t8 & 1990-01-29 & 0.615 & 0.611 \\\\\n",
       "\t9 & 1990-01-30 & 0.596 & 0.605 \\\\\n",
       "\t10 & 1990-01-31 & 0.587 & 0.589 \\\\\n",
       "\\end{tabular}\n"
      ],
      "text/plain": [
       "10×3 DataFrame\n",
       "│ Row │ Date       │ HO-Spot │ HO-Futures │\n",
       "│     │ \u001b[90mDates.Date\u001b[39m │ \u001b[90mFloat64\u001b[39m │ \u001b[90mFloat64\u001b[39m    │\n",
       "├─────┼────────────┼─────────┼────────────┤\n",
       "│ 1   │ 1990-01-18 │ 0.651   │ 0.618      │\n",
       "│ 2   │ 1990-01-19 │ 0.647   │ 0.637      │\n",
       "│ 3   │ 1990-01-22 │ 0.628   │ 0.61       │\n",
       "│ 4   │ 1990-01-23 │ 0.602   │ 0.593      │\n",
       "│ 5   │ 1990-01-24 │ 0.611   │ 0.596      │\n",
       "│ 6   │ 1990-01-25 │ 0.61    │ 0.598      │\n",
       "│ 7   │ 1990-01-26 │ 0.605   │ 0.596      │\n",
       "│ 8   │ 1990-01-29 │ 0.615   │ 0.611      │\n",
       "│ 9   │ 1990-01-30 │ 0.596   │ 0.605      │\n",
       "│ 10  │ 1990-01-31 │ 0.587   │ 0.589      │"
      ]
     },
     "execution_count": 9,
     "metadata": {},
     "output_type": "execute_result"
    }
   ],
   "source": [
    "first(ho, 10)"
   ]
  },
  {
   "cell_type": "code",
   "execution_count": 10,
   "metadata": {},
   "outputs": [
    {
     "data": {
      "text/html": [
       "<table class=\"data-frame\"><thead><tr><th></th><th>Date</th><th>HO-Spot</th><th>HO-Futures</th></tr><tr><th></th><th>Dates…</th><th>Float64</th><th>Float64</th></tr></thead><tbody><p>10 rows × 3 columns</p><tr><th>1</th><td>1993-12-16</td><td>0.436</td><td>0.446</td></tr><tr><th>2</th><td>1993-12-17</td><td>0.43</td><td>0.441</td></tr><tr><th>3</th><td>1993-12-20</td><td>0.429</td><td>0.438</td></tr><tr><th>4</th><td>1993-12-21</td><td>0.426</td><td>0.434</td></tr><tr><th>5</th><td>1993-12-22</td><td>0.431</td><td>0.44</td></tr><tr><th>6</th><td>1993-12-23</td><td>0.434</td><td>0.442</td></tr><tr><th>7</th><td>1993-12-27</td><td>0.442</td><td>0.443</td></tr><tr><th>8</th><td>1993-12-28</td><td>0.437</td><td>0.436</td></tr><tr><th>9</th><td>1993-12-29</td><td>0.449</td><td>0.448</td></tr><tr><th>10</th><td>1993-12-30</td><td>0.443</td><td>0.442</td></tr></tbody></table>"
      ],
      "text/latex": [
       "\\begin{tabular}{r|ccc}\n",
       "\t& Date & HO-Spot & HO-Futures\\\\\n",
       "\t\\hline\n",
       "\t& Dates… & Float64 & Float64\\\\\n",
       "\t\\hline\n",
       "\t1 & 1993-12-16 & 0.436 & 0.446 \\\\\n",
       "\t2 & 1993-12-17 & 0.43 & 0.441 \\\\\n",
       "\t3 & 1993-12-20 & 0.429 & 0.438 \\\\\n",
       "\t4 & 1993-12-21 & 0.426 & 0.434 \\\\\n",
       "\t5 & 1993-12-22 & 0.431 & 0.44 \\\\\n",
       "\t6 & 1993-12-23 & 0.434 & 0.442 \\\\\n",
       "\t7 & 1993-12-27 & 0.442 & 0.443 \\\\\n",
       "\t8 & 1993-12-28 & 0.437 & 0.436 \\\\\n",
       "\t9 & 1993-12-29 & 0.449 & 0.448 \\\\\n",
       "\t10 & 1993-12-30 & 0.443 & 0.442 \\\\\n",
       "\\end{tabular}\n"
      ],
      "text/plain": [
       "10×3 DataFrame\n",
       "│ Row │ Date       │ HO-Spot │ HO-Futures │\n",
       "│     │ \u001b[90mDates.Date\u001b[39m │ \u001b[90mFloat64\u001b[39m │ \u001b[90mFloat64\u001b[39m    │\n",
       "├─────┼────────────┼─────────┼────────────┤\n",
       "│ 1   │ 1993-12-16 │ 0.436   │ 0.446      │\n",
       "│ 2   │ 1993-12-17 │ 0.43    │ 0.441      │\n",
       "│ 3   │ 1993-12-20 │ 0.429   │ 0.438      │\n",
       "│ 4   │ 1993-12-21 │ 0.426   │ 0.434      │\n",
       "│ 5   │ 1993-12-22 │ 0.431   │ 0.44       │\n",
       "│ 6   │ 1993-12-23 │ 0.434   │ 0.442      │\n",
       "│ 7   │ 1993-12-27 │ 0.442   │ 0.443      │\n",
       "│ 8   │ 1993-12-28 │ 0.437   │ 0.436      │\n",
       "│ 9   │ 1993-12-29 │ 0.449   │ 0.448      │\n",
       "│ 10  │ 1993-12-30 │ 0.443   │ 0.442      │"
      ]
     },
     "execution_count": 10,
     "metadata": {},
     "output_type": "execute_result"
    }
   ],
   "source": [
    "last(ho, 10)"
   ]
  },
  {
   "cell_type": "code",
   "execution_count": 12,
   "metadata": {},
   "outputs": [],
   "source": [
    "rename!(ho, [\"Date\", \"Spot\", \"Futures\"]);"
   ]
  },
  {
   "cell_type": "code",
   "execution_count": 13,
   "metadata": {},
   "outputs": [
    {
     "data": {
      "text/html": [
       "<table class=\"data-frame\"><thead><tr><th></th><th>Date</th><th>Spot</th><th>Futures</th></tr><tr><th></th><th>Dates…</th><th>Float64</th><th>Float64</th></tr></thead><tbody><p>5 rows × 3 columns</p><tr><th>1</th><td>1990-01-18</td><td>0.651</td><td>0.618</td></tr><tr><th>2</th><td>1990-01-19</td><td>0.647</td><td>0.637</td></tr><tr><th>3</th><td>1990-01-22</td><td>0.628</td><td>0.61</td></tr><tr><th>4</th><td>1990-01-23</td><td>0.602</td><td>0.593</td></tr><tr><th>5</th><td>1990-01-24</td><td>0.611</td><td>0.596</td></tr></tbody></table>"
      ],
      "text/latex": [
       "\\begin{tabular}{r|ccc}\n",
       "\t& Date & Spot & Futures\\\\\n",
       "\t\\hline\n",
       "\t& Dates… & Float64 & Float64\\\\\n",
       "\t\\hline\n",
       "\t1 & 1990-01-18 & 0.651 & 0.618 \\\\\n",
       "\t2 & 1990-01-19 & 0.647 & 0.637 \\\\\n",
       "\t3 & 1990-01-22 & 0.628 & 0.61 \\\\\n",
       "\t4 & 1990-01-23 & 0.602 & 0.593 \\\\\n",
       "\t5 & 1990-01-24 & 0.611 & 0.596 \\\\\n",
       "\\end{tabular}\n"
      ],
      "text/plain": [
       "5×3 DataFrame\n",
       "│ Row │ Date       │ Spot    │ Futures │\n",
       "│     │ \u001b[90mDates.Date\u001b[39m │ \u001b[90mFloat64\u001b[39m │ \u001b[90mFloat64\u001b[39m │\n",
       "├─────┼────────────┼─────────┼─────────┤\n",
       "│ 1   │ 1990-01-18 │ 0.651   │ 0.618   │\n",
       "│ 2   │ 1990-01-19 │ 0.647   │ 0.637   │\n",
       "│ 3   │ 1990-01-22 │ 0.628   │ 0.61    │\n",
       "│ 4   │ 1990-01-23 │ 0.602   │ 0.593   │\n",
       "│ 5   │ 1990-01-24 │ 0.611   │ 0.596   │"
      ]
     },
     "execution_count": 13,
     "metadata": {},
     "output_type": "execute_result"
    }
   ],
   "source": [
    "first(ho, 5)"
   ]
  },
  {
   "cell_type": "code",
   "execution_count": 14,
   "metadata": {},
   "outputs": [],
   "source": [
    "S = Vector((ho.Spot));\n",
    "F = Vector((ho.Futures));\n",
    "lnS = Vector(log.(ho.Spot));\n",
    "lnF = Vector(log.(ho.Futures));"
   ]
  },
  {
   "cell_type": "code",
   "execution_count": 15,
   "metadata": {},
   "outputs": [
    {
     "data": {
      "image/png": "[encoded data removed]",
      "text/plain": [
       "Figure(PyObject <Figure size 640x480 with 1 Axes>)"
      ]
     },
     "metadata": {},
     "output_type": "display_data"
    }
   ],
   "source": [
    "plt.plot(S, color=\"navy\", linewidth=2);\n",
    "plt.plot(F, color=\"silver\", linewidth=2);\n",
    "plt.title(\"Heating Oil Spot and Futures Prices (Dollar-Price)\");\n",
    "plt.grid(true);"
   ]
  },
  {
   "cell_type": "code",
   "execution_count": 16,
   "metadata": {},
   "outputs": [
    {
     "data": {
      "image/png": "[encoded data removed]",
      "text/plain": [
       "Figure(PyObject <Figure size 640x480 with 1 Axes>)"
      ]
     },
     "metadata": {},
     "output_type": "display_data"
    }
   ],
   "source": [
    "plt.plot(lnS, color=\"purple\", linewidth=2);\n",
    "plt.plot(lnF, color=\"orange\", linewidth=2);\n",
    "plt.title(\"Heating Oil Spot and Futures Prices (Log-Price)\");\n",
    "plt.grid(true);"
   ]
  },
  {
   "cell_type": "markdown",
   "metadata": {},
   "source": [
    "### ADF Test on Log-Level Prices"
   ]
  },
  {
   "cell_type": "code",
   "execution_count": 17,
   "metadata": {},
   "outputs": [
    {
     "data": {
      "text/plain": [
       "Augmented Dickey-Fuller unit root test\n",
       "--------------------------------------\n",
       "Population details:\n",
       "    parameter of interest:   coefficient on lagged non-differenced variable\n",
       "    value under h_0:         0\n",
       "    point estimate:          -0.00039240887127047\n",
       "\n",
       "Test summary:\n",
       "    outcome with 95% confidence: fail to reject h_0\n",
       "    p-value:                     0.5955\n",
       "\n",
       "Details:\n",
       "    sample size in regression:          988\n",
       "    number of lags:                     1\n",
       "    ADF statistic:                      -0.24921415432742372\n",
       "    Critical values at 1%, 5%, and 10%: [-2.5680020844811757 -1.9412747142757028 -1.6165544601365147]\n"
      ]
     },
     "execution_count": 17,
     "metadata": {},
     "output_type": "execute_result"
    }
   ],
   "source": [
    "test1 = ADFTest(lnS, :none, 1)"
   ]
  },
  {
   "cell_type": "code",
   "execution_count": 18,
   "metadata": {},
   "outputs": [
    {
     "data": {
      "text/plain": [
       "0.5954874845931206"
      ]
     },
     "execution_count": 18,
     "metadata": {},
     "output_type": "execute_result"
    }
   ],
   "source": [
    "pvalue(test1)"
   ]
  },
  {
   "cell_type": "code",
   "execution_count": 19,
   "metadata": {},
   "outputs": [
    {
     "data": {
      "text/plain": [
       "Augmented Dickey-Fuller unit root test\n",
       "--------------------------------------\n",
       "Population details:\n",
       "    parameter of interest:   coefficient on lagged non-differenced variable\n",
       "    value under h_0:         0\n",
       "    point estimate:          -0.0003666276317198039\n",
       "\n",
       "Test summary:\n",
       "    outcome with 95% confidence: fail to reject h_0\n",
       "    p-value:                     0.6008\n",
       "\n",
       "Details:\n",
       "    sample size in regression:          988\n",
       "    number of lags:                     1\n",
       "    ADF statistic:                      -0.23500747932560567\n",
       "    Critical values at 1%, 5%, and 10%: [-2.5680020844811757 -1.9412747142757028 -1.6165544601365147]\n"
      ]
     },
     "execution_count": 19,
     "metadata": {},
     "output_type": "execute_result"
    }
   ],
   "source": [
    "test2 = ADFTest(lnF, :none, 1)"
   ]
  },
  {
   "cell_type": "code",
   "execution_count": 20,
   "metadata": {},
   "outputs": [
    {
     "data": {
      "text/plain": [
       "0.6008467576608663"
      ]
     },
     "execution_count": 20,
     "metadata": {},
     "output_type": "execute_result"
    }
   ],
   "source": [
    "pvalue(test2)"
   ]
  },
  {
   "cell_type": "markdown",
   "metadata": {},
   "source": [
    "### ADF Test on Log-Price First Differences"
   ]
  },
  {
   "cell_type": "code",
   "execution_count": 21,
   "metadata": {},
   "outputs": [],
   "source": [
    "DlnS = diff(lnS);\n",
    "DlnF = diff(lnF);"
   ]
  },
  {
   "cell_type": "code",
   "execution_count": 22,
   "metadata": {},
   "outputs": [
    {
     "data": {
      "text/plain": [
       "Augmented Dickey-Fuller unit root test\n",
       "--------------------------------------\n",
       "Population details:\n",
       "    parameter of interest:   coefficient on lagged non-differenced variable\n",
       "    value under h_0:         0\n",
       "    point estimate:          -1.0347941462412125\n",
       "\n",
       "Test summary:\n",
       "    outcome with 95% confidence: reject h_0\n",
       "    p-value:                     <1e-99\n",
       "\n",
       "Details:\n",
       "    sample size in regression:          987\n",
       "    number of lags:                     1\n",
       "    ADF statistic:                      -22.692488893977604\n",
       "    Critical values at 1%, 5%, and 10%: [-2.5680043754709283 -1.9412749954552933 -1.6165541943930175]\n"
      ]
     },
     "execution_count": 22,
     "metadata": {},
     "output_type": "execute_result"
    }
   ],
   "source": [
    "test3 = ADFTest(DlnS, :none, 1)"
   ]
  },
  {
   "cell_type": "code",
   "execution_count": 23,
   "metadata": {},
   "outputs": [
    {
     "data": {
      "text/plain": [
       "0.0"
      ]
     },
     "execution_count": 23,
     "metadata": {},
     "output_type": "execute_result"
    }
   ],
   "source": [
    "pvalue(test3)"
   ]
  },
  {
   "cell_type": "code",
   "execution_count": 24,
   "metadata": {},
   "outputs": [
    {
     "data": {
      "text/plain": [
       "Augmented Dickey-Fuller unit root test\n",
       "--------------------------------------\n",
       "Population details:\n",
       "    parameter of interest:   coefficient on lagged non-differenced variable\n",
       "    value under h_0:         0\n",
       "    point estimate:          -1.027585723754591\n",
       "\n",
       "Test summary:\n",
       "    outcome with 95% confidence: reject h_0\n",
       "    p-value:                     <1e-99\n",
       "\n",
       "Details:\n",
       "    sample size in regression:          987\n",
       "    number of lags:                     1\n",
       "    ADF statistic:                      -22.446988716773074\n",
       "    Critical values at 1%, 5%, and 10%: [-2.5680043754709283 -1.9412749954552933 -1.6165541943930175]\n"
      ]
     },
     "execution_count": 24,
     "metadata": {},
     "output_type": "execute_result"
    }
   ],
   "source": [
    "test4 = ADFTest(DlnF, :none, 1)"
   ]
  },
  {
   "cell_type": "code",
   "execution_count": 25,
   "metadata": {},
   "outputs": [
    {
     "data": {
      "text/plain": [
       "0.0"
      ]
     },
     "execution_count": 25,
     "metadata": {},
     "output_type": "execute_result"
    }
   ],
   "source": [
    "pvalue(test4)"
   ]
  },
  {
   "cell_type": "markdown",
   "metadata": {},
   "source": [
    "## The Engle-Granger Procedure"
   ]
  },
  {
   "cell_type": "markdown",
   "metadata": {},
   "source": [
    "### Step 1: The Cointegration Regression"
   ]
  },
  {
   "cell_type": "code",
   "execution_count": 26,
   "metadata": {},
   "outputs": [],
   "source": [
    "data = DataFrame(Y=lnF, X=lnS);\n",
    "reg = GLM.lm(@formula(Y ~ X), data);\n",
    "z = residuals(reg);"
   ]
  },
  {
   "cell_type": "code",
   "execution_count": 27,
   "metadata": {},
   "outputs": [
    {
     "data": {
      "image/png": "[encoded data removed]",
      "text/plain": [
       "Figure(PyObject <Figure size 640x480 with 1 Axes>)"
      ]
     },
     "metadata": {},
     "output_type": "display_data"
    }
   ],
   "source": [
    "plt.plot(z, color=\"green\", linewidth=2)\n",
    "plt.title(\"Cointegration Regression Residuals\")\n",
    "plt.grid(true)"
   ]
  },
  {
   "cell_type": "code",
   "execution_count": 28,
   "metadata": {},
   "outputs": [
    {
     "data": {
      "text/plain": [
       "Augmented Dickey-Fuller unit root test\n",
       "--------------------------------------\n",
       "Population details:\n",
       "    parameter of interest:   coefficient on lagged non-differenced variable\n",
       "    value under h_0:         0\n",
       "    point estimate:          -0.03602736494260947\n",
       "\n",
       "Test summary:\n",
       "    outcome with 95% confidence: reject h_0\n",
       "    p-value:                     0.0001\n",
       "\n",
       "Details:\n",
       "    sample size in regression:          988\n",
       "    number of lags:                     1\n",
       "    ADF statistic:                      -3.8580735280546206\n",
       "    Critical values at 1%, 5%, and 10%: [-2.5680020844811757 -1.9412747142757028 -1.6165544601365147]\n"
      ]
     },
     "execution_count": 28,
     "metadata": {},
     "output_type": "execute_result"
    }
   ],
   "source": [
    "test5 = ADFTest(z, :none, 1)"
   ]
  },
  {
   "cell_type": "code",
   "execution_count": 29,
   "metadata": {},
   "outputs": [
    {
     "data": {
      "text/plain": [
       "0.00012737880669747213"
      ]
     },
     "execution_count": 29,
     "metadata": {},
     "output_type": "execute_result"
    }
   ],
   "source": [
    "pvalue(test5)"
   ]
  },
  {
   "cell_type": "markdown",
   "metadata": {},
   "source": [
    "<br>\n",
    "\n",
    "We will use these residuals in the second step in the error-correction model.\n",
    "\n",
    "<br>"
   ]
  },
  {
   "cell_type": "markdown",
   "metadata": {},
   "source": [
    "### Step 2: The Error-Correction Form"
   ]
  },
  {
   "cell_type": "code",
   "execution_count": 31,
   "metadata": {},
   "outputs": [],
   "source": [
    "data = DataFrame([lead(DlnS), lead(DlnF), lag(DlnS), lag(DlnF), lag(z[2:end])], \n",
    "                 [:DlnSLead, :DlnFLead, :DlnSLag, :DlnFLag, :ResidsLag]);"
   ]
  },
  {
   "cell_type": "code",
   "execution_count": 32,
   "metadata": {},
   "outputs": [
    {
     "data": {
      "text/html": [
       "<table class=\"data-frame\"><thead><tr><th></th><th>DlnSLead</th><th>DlnFLead</th><th>DlnSLag</th><th>DlnFLag</th><th>ResidsLag</th></tr><tr><th></th><th>Float64⍰</th><th>Float64⍰</th><th>Float64⍰</th><th>Float64⍰</th><th>Float64⍰</th></tr></thead><tbody><p>10 rows × 5 columns</p><tr><th>1</th><td>-0.0298061</td><td>-0.0433107</td><td>missing</td><td>missing</td><td>missing</td></tr><tr><th>2</th><td>-0.0422827</td><td>-0.0282646</td><td>-0.00616335</td><td>0.0302812</td><td>-0.0140946</td></tr><tr><th>3</th><td>0.0148395</td><td>0.00504627</td><td>-0.0298061</td><td>-0.0433107</td><td>-0.0284294</td></tr><tr><th>4</th><td>-0.001638</td><td>0.00335009</td><td>-0.0422827</td><td>-0.0282646</td><td>-0.015589</td></tr><tr><th>5</th><td>-0.0082305</td><td>-0.00335009</td><td>0.0148395</td><td>0.00504627</td><td>-0.0249689</td></tr><tr><th>6</th><td>0.0163938</td><td>0.0248563</td><td>-0.001638</td><td>0.00335009</td><td>-0.0200264</td></tr><tr><th>7</th><td>-0.0313816</td><td>-0.0098685</td><td>-0.0082305</td><td>-0.00335009</td><td>-0.0153753</td></tr><tr><th>8</th><td>-0.0152158</td><td>-0.0268023</td><td>0.0163938</td><td>0.0248563</td><td>-0.00645613</td></tr><tr><th>9</th><td>-0.0102741</td><td>-0.0380669</td><td>-0.0313816</td><td>-0.0098685</td><td>0.0141828</td></tr><tr><th>10</th><td>0.0221286</td><td>0.0278279</td><td>-0.0152158</td><td>-0.0268023</td><td>0.00217259</td></tr></tbody></table>"
      ],
      "text/latex": [
       "\\begin{tabular}{r|ccccc}\n",
       "\t& DlnSLead & DlnFLead & DlnSLag & DlnFLag & ResidsLag\\\\\n",
       "\t\\hline\n",
       "\t& Float64⍰ & Float64⍰ & Float64⍰ & Float64⍰ & Float64⍰\\\\\n",
       "\t\\hline\n",
       "\t1 & -0.0298061 & -0.0433107 &  &  &  \\\\\n",
       "\t2 & -0.0422827 & -0.0282646 & -0.00616335 & 0.0302812 & -0.0140946 \\\\\n",
       "\t3 & 0.0148395 & 0.00504627 & -0.0298061 & -0.0433107 & -0.0284294 \\\\\n",
       "\t4 & -0.001638 & 0.00335009 & -0.0422827 & -0.0282646 & -0.015589 \\\\\n",
       "\t5 & -0.0082305 & -0.00335009 & 0.0148395 & 0.00504627 & -0.0249689 \\\\\n",
       "\t6 & 0.0163938 & 0.0248563 & -0.001638 & 0.00335009 & -0.0200264 \\\\\n",
       "\t7 & -0.0313816 & -0.0098685 & -0.0082305 & -0.00335009 & -0.0153753 \\\\\n",
       "\t8 & -0.0152158 & -0.0268023 & 0.0163938 & 0.0248563 & -0.00645613 \\\\\n",
       "\t9 & -0.0102741 & -0.0380669 & -0.0313816 & -0.0098685 & 0.0141828 \\\\\n",
       "\t10 & 0.0221286 & 0.0278279 & -0.0152158 & -0.0268023 & 0.00217259 \\\\\n",
       "\\end{tabular}\n"
      ],
      "text/plain": [
       "10×5 DataFrame\n",
       "│ Row │ DlnSLead   │ DlnFLead    │ DlnSLag     │ DlnFLag     │ ResidsLag   │\n",
       "│     │ \u001b[90mFloat64⍰\u001b[39m   │ \u001b[90mFloat64⍰\u001b[39m    │ \u001b[90mFloat64⍰\u001b[39m    │ \u001b[90mFloat64⍰\u001b[39m    │ \u001b[90mFloat64⍰\u001b[39m    │\n",
       "├─────┼────────────┼─────────────┼─────────────┼─────────────┼─────────────┤\n",
       "│ 1   │ -0.0298061 │ -0.0433107  │ \u001b[90mmissing\u001b[39m     │ \u001b[90mmissing\u001b[39m     │ \u001b[90mmissing\u001b[39m     │\n",
       "│ 2   │ -0.0422827 │ -0.0282646  │ -0.00616335 │ 0.0302812   │ -0.0140946  │\n",
       "│ 3   │ 0.0148395  │ 0.00504627  │ -0.0298061  │ -0.0433107  │ -0.0284294  │\n",
       "│ 4   │ -0.001638  │ 0.00335009  │ -0.0422827  │ -0.0282646  │ -0.015589   │\n",
       "│ 5   │ -0.0082305 │ -0.00335009 │ 0.0148395   │ 0.00504627  │ -0.0249689  │\n",
       "│ 6   │ 0.0163938  │ 0.0248563   │ -0.001638   │ 0.00335009  │ -0.0200264  │\n",
       "│ 7   │ -0.0313816 │ -0.0098685  │ -0.0082305  │ -0.00335009 │ -0.0153753  │\n",
       "│ 8   │ -0.0152158 │ -0.0268023  │ 0.0163938   │ 0.0248563   │ -0.00645613 │\n",
       "│ 9   │ -0.0102741 │ -0.0380669  │ -0.0313816  │ -0.0098685  │ 0.0141828   │\n",
       "│ 10  │ 0.0221286  │ 0.0278279   │ -0.0152158  │ -0.0268023  │ 0.00217259  │"
      ]
     },
     "execution_count": 32,
     "metadata": {},
     "output_type": "execute_result"
    }
   ],
   "source": [
    "first(data, 10)"
   ]
  },
  {
   "cell_type": "code",
   "execution_count": 33,
   "metadata": {},
   "outputs": [
    {
     "data": {
      "text/html": [
       "<table class=\"data-frame\"><thead><tr><th></th><th>DlnSLead</th><th>DlnFLead</th><th>DlnSLag</th><th>DlnFLag</th><th>ResidsLag</th></tr><tr><th></th><th>Float64⍰</th><th>Float64⍰</th><th>Float64⍰</th><th>Float64⍰</th><th>Float64⍰</th></tr></thead><tbody><p>10 rows × 5 columns</p><tr><th>1</th><td>-0.013857</td><td>-0.0112741</td><td>0.0189131</td><td>0.0135749</td><td>0.031197</td></tr><tr><th>2</th><td>-0.00232829</td><td>-0.00682597</td><td>0.0208582</td><td>0.00224467</td><td>0.0131645</td></tr><tr><th>3</th><td>-0.00701757</td><td>-0.00917438</td><td>-0.013857</td><td>-0.0112741</td><td>0.0153614</td></tr><tr><th>4</th><td>0.0116687</td><td>0.0137302</td><td>-0.00232829</td><td>-0.00682597</td><td>0.0107989</td></tr><tr><th>5</th><td>0.00693644</td><td>0.00453516</td><td>-0.00701757</td><td>-0.00917438</td><td>0.00844662</td></tr><tr><th>6</th><td>0.0182653</td><td>0.00225989</td><td>0.0116687</td><td>0.0137302</td><td>0.0108331</td></tr><tr><th>7</th><td>-0.0113767</td><td>-0.0159275</td><td>0.00693644</td><td>0.00453516</td><td>0.00862502</td></tr><tr><th>8</th><td>0.0270897</td><td>0.027151</td><td>0.0182653</td><td>0.00225989</td><td>-0.00687166</td></tr><tr><th>9</th><td>-0.0134531</td><td>-0.0134834</td><td>-0.0113767</td><td>-0.0159275</td><td>-0.0117394</td></tr><tr><th>10</th><td>missing</td><td>missing</td><td>0.0270897</td><td>0.027151</td><td>-0.0109235</td></tr></tbody></table>"
      ],
      "text/latex": [
       "\\begin{tabular}{r|ccccc}\n",
       "\t& DlnSLead & DlnFLead & DlnSLag & DlnFLag & ResidsLag\\\\\n",
       "\t\\hline\n",
       "\t& Float64⍰ & Float64⍰ & Float64⍰ & Float64⍰ & Float64⍰\\\\\n",
       "\t\\hline\n",
       "\t1 & -0.013857 & -0.0112741 & 0.0189131 & 0.0135749 & 0.031197 \\\\\n",
       "\t2 & -0.00232829 & -0.00682597 & 0.0208582 & 0.00224467 & 0.0131645 \\\\\n",
       "\t3 & -0.00701757 & -0.00917438 & -0.013857 & -0.0112741 & 0.0153614 \\\\\n",
       "\t4 & 0.0116687 & 0.0137302 & -0.00232829 & -0.00682597 & 0.0107989 \\\\\n",
       "\t5 & 0.00693644 & 0.00453516 & -0.00701757 & -0.00917438 & 0.00844662 \\\\\n",
       "\t6 & 0.0182653 & 0.00225989 & 0.0116687 & 0.0137302 & 0.0108331 \\\\\n",
       "\t7 & -0.0113767 & -0.0159275 & 0.00693644 & 0.00453516 & 0.00862502 \\\\\n",
       "\t8 & 0.0270897 & 0.027151 & 0.0182653 & 0.00225989 & -0.00687166 \\\\\n",
       "\t9 & -0.0134531 & -0.0134834 & -0.0113767 & -0.0159275 & -0.0117394 \\\\\n",
       "\t10 &  &  & 0.0270897 & 0.027151 & -0.0109235 \\\\\n",
       "\\end{tabular}\n"
      ],
      "text/plain": [
       "10×5 DataFrame\n",
       "│ Row │ DlnSLead    │ DlnFLead    │ DlnSLag     │ DlnFLag     │ ResidsLag   │\n",
       "│     │ \u001b[90mFloat64⍰\u001b[39m    │ \u001b[90mFloat64⍰\u001b[39m    │ \u001b[90mFloat64⍰\u001b[39m    │ \u001b[90mFloat64⍰\u001b[39m    │ \u001b[90mFloat64⍰\u001b[39m    │\n",
       "├─────┼─────────────┼─────────────┼─────────────┼─────────────┼─────────────┤\n",
       "│ 1   │ -0.013857   │ -0.0112741  │ 0.0189131   │ 0.0135749   │ 0.031197    │\n",
       "│ 2   │ -0.00232829 │ -0.00682597 │ 0.0208582   │ 0.00224467  │ 0.0131645   │\n",
       "│ 3   │ -0.00701757 │ -0.00917438 │ -0.013857   │ -0.0112741  │ 0.0153614   │\n",
       "│ 4   │ 0.0116687   │ 0.0137302   │ -0.00232829 │ -0.00682597 │ 0.0107989   │\n",
       "│ 5   │ 0.00693644  │ 0.00453516  │ -0.00701757 │ -0.00917438 │ 0.00844662  │\n",
       "│ 6   │ 0.0182653   │ 0.00225989  │ 0.0116687   │ 0.0137302   │ 0.0108331   │\n",
       "│ 7   │ -0.0113767  │ -0.0159275  │ 0.00693644  │ 0.00453516  │ 0.00862502  │\n",
       "│ 8   │ 0.0270897   │ 0.027151    │ 0.0182653   │ 0.00225989  │ -0.00687166 │\n",
       "│ 9   │ -0.0134531  │ -0.0134834  │ -0.0113767  │ -0.0159275  │ -0.0117394  │\n",
       "│ 10  │ \u001b[90mmissing\u001b[39m     │ \u001b[90mmissing\u001b[39m     │ 0.0270897   │ 0.027151    │ -0.0109235  │"
      ]
     },
     "execution_count": 33,
     "metadata": {},
     "output_type": "execute_result"
    }
   ],
   "source": [
    "last(data, 10)"
   ]
  },
  {
   "cell_type": "code",
   "execution_count": 35,
   "metadata": {},
   "outputs": [
    {
     "data": {
      "text/plain": [
       "StatsModels.TableRegressionModel{LinearModel{GLM.LmResp{Array{Float64,1}},GLM.DensePredChol{Float64,LinearAlgebra.Cholesky{Float64,Array{Float64,2}}}},Array{Float64,2}}\n",
       "\n",
       "DlnSLead ~ 1 + DlnSLag + ResidsLag\n",
       "\n",
       "Coefficients:\n",
       "────────────────────────────────────────────────────────────────────────────────────\n",
       "                 Estimate   Std. Error    t value  Pr(>|t|)    Lower 95%   Upper 95%\n",
       "────────────────────────────────────────────────────────────────────────────────────\n",
       "(Intercept)  -0.000360321  0.000872331  -0.413055    0.6797  -0.00207216  0.00135152\n",
       "DlnSLag      -0.00963846   0.0318555    -0.302568    0.7623  -0.0721509   0.052874  \n",
       "ResidsLag     0.0388931    0.0282512     1.37669     0.1689  -0.0165463   0.0943326 \n",
       "────────────────────────────────────────────────────────────────────────────────────"
      ]
     },
     "execution_count": 35,
     "metadata": {},
     "output_type": "execute_result"
    }
   ],
   "source": [
    "reg = GLM.lm(@formula(DlnSLead ~ DlnSLag + ResidsLag), dropmissing!(data))"
   ]
  },
  {
   "cell_type": "code",
   "execution_count": null,
   "metadata": {},
   "outputs": [],
   "source": []
  },
  {
   "cell_type": "markdown",
   "metadata": {},
   "source": [
    "### The Vector Error-Correction Form"
   ]
  },
  {
   "cell_type": "code",
   "execution_count": 36,
   "metadata": {},
   "outputs": [
    {
     "data": {
      "text/plain": [
       "StatsModels.TableRegressionModel{LinearModel{GLM.LmResp{Array{Float64,1}},GLM.DensePredChol{Float64,LinearAlgebra.Cholesky{Float64,Array{Float64,2}}}},Array{Float64,2}}\n",
       "\n",
       "DlnSLead ~ 1 + DlnSLag + DlnFLag + ResidsLag\n",
       "\n",
       "Coefficients:\n",
       "────────────────────────────────────────────────────────────────────────────────────\n",
       "                 Estimate   Std. Error    t value  Pr(>|t|)    Lower 95%   Upper 95%\n",
       "────────────────────────────────────────────────────────────────────────────────────\n",
       "(Intercept)  -0.000358962  0.000872501  -0.411417    0.6809  -0.00207114  0.00135322\n",
       "DlnSLag       0.0600715    0.094126      0.638203    0.5235  -0.12464     0.244783  \n",
       "DlnFLag      -0.0750969    0.0954137    -0.787066    0.4314  -0.262335    0.112141  \n",
       "ResidsLag     0.0422845    0.0285833     1.47934     0.1394  -0.0138068   0.0983757 \n",
       "────────────────────────────────────────────────────────────────────────────────────"
      ]
     },
     "execution_count": 36,
     "metadata": {},
     "output_type": "execute_result"
    }
   ],
   "source": [
    "reg1 = GLM.lm(@formula(DlnSLead ~ DlnSLag + DlnFLag + ResidsLag), data)"
   ]
  },
  {
   "cell_type": "code",
   "execution_count": 38,
   "metadata": {},
   "outputs": [
    {
     "data": {
      "text/plain": [
       "StatsModels.TableRegressionModel{LinearModel{GLM.LmResp{Array{Float64,1}},GLM.DensePredChol{Float64,LinearAlgebra.Cholesky{Float64,Array{Float64,2}}}},Array{Float64,2}}\n",
       "\n",
       "DlnFLead ~ 1 + DlnSLag + DlnFLag + ResidsLag\n",
       "\n",
       "Coefficients:\n",
       "─────────────────────────────────────────────────────────────────────────────────────\n",
       "                 Estimate   Std. Error     t value  Pr(>|t|)    Lower 95%   Upper 95%\n",
       "─────────────────────────────────────────────────────────────────────────────────────\n",
       "(Intercept)  -0.000325794  0.000862695  -0.377647     0.7058  -0.00201873  0.00136714\n",
       "DlnSLag      -0.00826409   0.0930681    -0.0887961    0.9293  -0.190899    0.174371  \n",
       "DlnFLag       0.0134498    0.0943414     0.142565     0.8867  -0.171684    0.198583  \n",
       "ResidsLag     0.0111184    0.028262      0.393404     0.6941  -0.0443424   0.0665792 \n",
       "─────────────────────────────────────────────────────────────────────────────────────"
      ]
     },
     "execution_count": 38,
     "metadata": {},
     "output_type": "execute_result"
    }
   ],
   "source": [
    "reg2 = GLM.lm(@formula(DlnFLead ~ DlnSLag + DlnFLag + ResidsLag), data)"
   ]
  },
  {
   "cell_type": "code",
   "execution_count": null,
   "metadata": {},
   "outputs": [],
   "source": []
  }
 ],
 "metadata": {
  "kernelspec": {
   "display_name": "Julia 1.3.0",
   "language": "julia",
   "name": "julia-1.3"
  },
  "language_info": {
   "file_extension": ".jl",
   "mimetype": "application/julia",
   "name": "julia",
   "version": "1.3.0"
  }
 },
 "nbformat": 4,
 "nbformat_minor": 4
}
