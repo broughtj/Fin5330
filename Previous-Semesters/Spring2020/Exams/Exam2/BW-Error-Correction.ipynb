{
 "cells": [
  {
   "cell_type": "markdown",
   "metadata": {},
   "source": [
    "## __Vector Error-Correction Model__"
   ]
  },
  {
   "cell_type": "code",
   "execution_count": 19,
   "metadata": {},
   "outputs": [],
   "source": [
    "import numpy as np\n",
    "import pandas as pd\n",
    "import matplotlib.pyplot as plt\n",
    "import statsmodels.api as sm"
   ]
  },
  {
   "cell_type": "code",
   "execution_count": 20,
   "metadata": {},
   "outputs": [],
   "source": [
    "inFile = \"./Data/gasoline-combined.csv\"\n",
    "raw = pd.read_csv(inFile, parse_dates=True, index_col=0)"
   ]
  },
  {
   "cell_type": "code",
   "execution_count": 21,
   "metadata": {},
   "outputs": [
    {
     "data": {
      "text/html": [
       "<div>\n",
       "<style scoped>\n",
       "    .dataframe tbody tr th:only-of-type {\n",
       "        vertical-align: middle;\n",
       "    }\n",
       "\n",
       "    .dataframe tbody tr th {\n",
       "        vertical-align: top;\n",
       "    }\n",
       "\n",
       "    .dataframe thead th {\n",
       "        text-align: right;\n",
       "    }\n",
       "</style>\n",
       "<table border=\"1\" class=\"dataframe\">\n",
       "  <thead>\n",
       "    <tr style=\"text-align: right;\">\n",
       "      <th></th>\n",
       "      <th>Futures</th>\n",
       "      <th>Spot</th>\n",
       "      <th>Rate</th>\n",
       "    </tr>\n",
       "    <tr>\n",
       "      <th>Date</th>\n",
       "      <th></th>\n",
       "      <th></th>\n",
       "      <th></th>\n",
       "    </tr>\n",
       "  </thead>\n",
       "  <tbody>\n",
       "    <tr>\n",
       "      <th>1996-12-31</th>\n",
       "      <td>0.707</td>\n",
       "      <td>0.688</td>\n",
       "      <td>5.50000</td>\n",
       "    </tr>\n",
       "    <tr>\n",
       "      <th>1996-12-30</th>\n",
       "      <td>0.696</td>\n",
       "      <td>0.677</td>\n",
       "      <td>5.50391</td>\n",
       "    </tr>\n",
       "    <tr>\n",
       "      <th>1996-12-27</th>\n",
       "      <td>0.697</td>\n",
       "      <td>0.681</td>\n",
       "      <td>5.68750</td>\n",
       "    </tr>\n",
       "    <tr>\n",
       "      <th>1996-12-26</th>\n",
       "      <td>0.695</td>\n",
       "      <td>0.679</td>\n",
       "      <td>.</td>\n",
       "    </tr>\n",
       "    <tr>\n",
       "      <th>1996-12-24</th>\n",
       "      <td>0.696</td>\n",
       "      <td>0.677</td>\n",
       "      <td>5.66406</td>\n",
       "    </tr>\n",
       "  </tbody>\n",
       "</table>\n",
       "</div>"
      ],
      "text/plain": [
       "            Futures   Spot     Rate\n",
       "Date                               \n",
       "1996-12-31    0.707  0.688  5.50000\n",
       "1996-12-30    0.696  0.677  5.50391\n",
       "1996-12-27    0.697  0.681  5.68750\n",
       "1996-12-26    0.695  0.679        .\n",
       "1996-12-24    0.696  0.677  5.66406"
      ]
     },
     "execution_count": 21,
     "metadata": {},
     "output_type": "execute_result"
    }
   ],
   "source": [
    "raw.head()"
   ]
  },
  {
   "cell_type": "code",
   "execution_count": 22,
   "metadata": {},
   "outputs": [
    {
     "data": {
      "text/html": [
       "<div>\n",
       "<style scoped>\n",
       "    .dataframe tbody tr th:only-of-type {\n",
       "        vertical-align: middle;\n",
       "    }\n",
       "\n",
       "    .dataframe tbody tr th {\n",
       "        vertical-align: top;\n",
       "    }\n",
       "\n",
       "    .dataframe thead th {\n",
       "        text-align: right;\n",
       "    }\n",
       "</style>\n",
       "<table border=\"1\" class=\"dataframe\">\n",
       "  <thead>\n",
       "    <tr style=\"text-align: right;\">\n",
       "      <th></th>\n",
       "      <th>Futures</th>\n",
       "      <th>Spot</th>\n",
       "      <th>Rate</th>\n",
       "    </tr>\n",
       "    <tr>\n",
       "      <th>Date</th>\n",
       "      <th></th>\n",
       "      <th></th>\n",
       "      <th></th>\n",
       "    </tr>\n",
       "  </thead>\n",
       "  <tbody>\n",
       "    <tr>\n",
       "      <th>1986-06-06</th>\n",
       "      <td>0.410</td>\n",
       "      <td>0.421</td>\n",
       "      <td>7.18750</td>\n",
       "    </tr>\n",
       "    <tr>\n",
       "      <th>1986-06-05</th>\n",
       "      <td>0.414</td>\n",
       "      <td>0.431</td>\n",
       "      <td>7.18750</td>\n",
       "    </tr>\n",
       "    <tr>\n",
       "      <th>1986-06-04</th>\n",
       "      <td>0.412</td>\n",
       "      <td>0.418</td>\n",
       "      <td>7.18750</td>\n",
       "    </tr>\n",
       "    <tr>\n",
       "      <th>1986-06-03</th>\n",
       "      <td>0.442</td>\n",
       "      <td>0.436</td>\n",
       "      <td>7.18750</td>\n",
       "    </tr>\n",
       "    <tr>\n",
       "      <th>1986-06-02</th>\n",
       "      <td>0.449</td>\n",
       "      <td>0.468</td>\n",
       "      <td>7.12500</td>\n",
       "    </tr>\n",
       "  </tbody>\n",
       "</table>\n",
       "</div>"
      ],
      "text/plain": [
       "            Futures   Spot     Rate\n",
       "Date                               \n",
       "1986-06-06    0.410  0.421  7.18750\n",
       "1986-06-05    0.414  0.431  7.18750\n",
       "1986-06-04    0.412  0.418  7.18750\n",
       "1986-06-03    0.442  0.436  7.18750\n",
       "1986-06-02    0.449  0.468  7.12500"
      ]
     },
     "execution_count": 22,
     "metadata": {},
     "output_type": "execute_result"
    }
   ],
   "source": [
    "raw.tail()"
   ]
  },
  {
   "cell_type": "code",
   "execution_count": 23,
   "metadata": {},
   "outputs": [],
   "source": [
    "lnFut = raw.Futures.apply(np.log).dropna().values\n",
    "lnSpot = raw.Spot.apply(np.log).dropna().values"
   ]
  },
  {
   "cell_type": "code",
   "execution_count": 24,
   "metadata": {},
   "outputs": [],
   "source": [
    "df = pd.DataFrame({\"lnS\": lnSpot, \"lnF\": lnFut})"
   ]
  },
  {
   "cell_type": "code",
   "execution_count": 25,
   "metadata": {},
   "outputs": [
    {
     "data": {
      "text/html": [
       "<div>\n",
       "<style scoped>\n",
       "    .dataframe tbody tr th:only-of-type {\n",
       "        vertical-align: middle;\n",
       "    }\n",
       "\n",
       "    .dataframe tbody tr th {\n",
       "        vertical-align: top;\n",
       "    }\n",
       "\n",
       "    .dataframe thead th {\n",
       "        text-align: right;\n",
       "    }\n",
       "</style>\n",
       "<table border=\"1\" class=\"dataframe\">\n",
       "  <thead>\n",
       "    <tr style=\"text-align: right;\">\n",
       "      <th></th>\n",
       "      <th>lnS</th>\n",
       "      <th>lnF</th>\n",
       "    </tr>\n",
       "  </thead>\n",
       "  <tbody>\n",
       "    <tr>\n",
       "      <th>0</th>\n",
       "      <td>-0.373966</td>\n",
       "      <td>-0.346725</td>\n",
       "    </tr>\n",
       "    <tr>\n",
       "      <th>1</th>\n",
       "      <td>-0.390084</td>\n",
       "      <td>-0.362406</td>\n",
       "    </tr>\n",
       "    <tr>\n",
       "      <th>2</th>\n",
       "      <td>-0.384193</td>\n",
       "      <td>-0.360970</td>\n",
       "    </tr>\n",
       "    <tr>\n",
       "      <th>3</th>\n",
       "      <td>-0.387134</td>\n",
       "      <td>-0.363843</td>\n",
       "    </tr>\n",
       "    <tr>\n",
       "      <th>4</th>\n",
       "      <td>-0.390084</td>\n",
       "      <td>-0.362406</td>\n",
       "    </tr>\n",
       "  </tbody>\n",
       "</table>\n",
       "</div>"
      ],
      "text/plain": [
       "        lnS       lnF\n",
       "0 -0.373966 -0.346725\n",
       "1 -0.390084 -0.362406\n",
       "2 -0.384193 -0.360970\n",
       "3 -0.387134 -0.363843\n",
       "4 -0.390084 -0.362406"
      ]
     },
     "execution_count": 25,
     "metadata": {},
     "output_type": "execute_result"
    }
   ],
   "source": [
    "df.head()"
   ]
  },
  {
   "cell_type": "code",
   "execution_count": 26,
   "metadata": {},
   "outputs": [
    {
     "data": {
      "text/html": [
       "<div>\n",
       "<style scoped>\n",
       "    .dataframe tbody tr th:only-of-type {\n",
       "        vertical-align: middle;\n",
       "    }\n",
       "\n",
       "    .dataframe tbody tr th {\n",
       "        vertical-align: top;\n",
       "    }\n",
       "\n",
       "    .dataframe thead th {\n",
       "        text-align: right;\n",
       "    }\n",
       "</style>\n",
       "<table border=\"1\" class=\"dataframe\">\n",
       "  <thead>\n",
       "    <tr style=\"text-align: right;\">\n",
       "      <th></th>\n",
       "      <th>lnS</th>\n",
       "      <th>lnF</th>\n",
       "    </tr>\n",
       "  </thead>\n",
       "  <tbody>\n",
       "    <tr>\n",
       "      <th>2649</th>\n",
       "      <td>-0.865122</td>\n",
       "      <td>-0.891598</td>\n",
       "    </tr>\n",
       "    <tr>\n",
       "      <th>2650</th>\n",
       "      <td>-0.841647</td>\n",
       "      <td>-0.881889</td>\n",
       "    </tr>\n",
       "    <tr>\n",
       "      <th>2651</th>\n",
       "      <td>-0.872274</td>\n",
       "      <td>-0.886732</td>\n",
       "    </tr>\n",
       "    <tr>\n",
       "      <th>2652</th>\n",
       "      <td>-0.830113</td>\n",
       "      <td>-0.816445</td>\n",
       "    </tr>\n",
       "    <tr>\n",
       "      <th>2653</th>\n",
       "      <td>-0.759287</td>\n",
       "      <td>-0.800732</td>\n",
       "    </tr>\n",
       "  </tbody>\n",
       "</table>\n",
       "</div>"
      ],
      "text/plain": [
       "           lnS       lnF\n",
       "2649 -0.865122 -0.891598\n",
       "2650 -0.841647 -0.881889\n",
       "2651 -0.872274 -0.886732\n",
       "2652 -0.830113 -0.816445\n",
       "2653 -0.759287 -0.800732"
      ]
     },
     "execution_count": 26,
     "metadata": {},
     "output_type": "execute_result"
    }
   ],
   "source": [
    "df.tail()"
   ]
  },
  {
   "cell_type": "code",
   "execution_count": null,
   "metadata": {},
   "outputs": [],
   "source": []
  },
  {
   "cell_type": "code",
   "execution_count": 28,
   "metadata": {},
   "outputs": [],
   "source": [
    "y = lnSpot\n",
    "x = sm.add_constant(lnFut, prepend=True)"
   ]
  },
  {
   "cell_type": "code",
   "execution_count": 30,
   "metadata": {},
   "outputs": [
    {
     "data": {
      "text/plain": [
       "array([-0.37396644, -0.39008401, -0.38419297, -0.38713415, -0.39008401,\n",
       "       -0.39749694, -0.37833644, -0.36672528, -0.36672528, -0.38713415])"
      ]
     },
     "execution_count": 30,
     "metadata": {},
     "output_type": "execute_result"
    }
   ],
   "source": [
    "y[:10]"
   ]
  },
  {
   "cell_type": "code",
   "execution_count": 31,
   "metadata": {},
   "outputs": [
    {
     "data": {
      "text/plain": [
       "(2654, 2)"
      ]
     },
     "execution_count": 31,
     "metadata": {},
     "output_type": "execute_result"
    }
   ],
   "source": [
    "x.shape"
   ]
  },
  {
   "cell_type": "code",
   "execution_count": 32,
   "metadata": {},
   "outputs": [
    {
     "data": {
      "text/plain": [
       "array([[ 1.        , -0.34672461],\n",
       "       [ 1.        , -0.36240562],\n",
       "       [ 1.        , -0.36096987],\n",
       "       [ 1.        , -0.36384343],\n",
       "       [ 1.        , -0.36240562]])"
      ]
     },
     "execution_count": 32,
     "metadata": {},
     "output_type": "execute_result"
    }
   ],
   "source": [
    "x[:5,:]"
   ]
  },
  {
   "cell_type": "code",
   "execution_count": 33,
   "metadata": {},
   "outputs": [],
   "source": [
    "model = sm.OLS(y,x)"
   ]
  },
  {
   "cell_type": "code",
   "execution_count": 34,
   "metadata": {},
   "outputs": [],
   "source": [
    "result = model.fit()"
   ]
  },
  {
   "cell_type": "code",
   "execution_count": 43,
   "metadata": {},
   "outputs": [],
   "source": [
    "z = result.resid"
   ]
  },
  {
   "cell_type": "code",
   "execution_count": 50,
   "metadata": {},
   "outputs": [],
   "source": [
    "DlnSpot = np.diff(lnSpot)"
   ]
  },
  {
   "cell_type": "code",
   "execution_count": 51,
   "metadata": {},
   "outputs": [
    {
     "data": {
      "text/plain": [
       "(2653,)"
      ]
     },
     "execution_count": 51,
     "metadata": {},
     "output_type": "execute_result"
    }
   ],
   "source": [
    "DlnSpot.shape"
   ]
  },
  {
   "cell_type": "code",
   "execution_count": 52,
   "metadata": {},
   "outputs": [],
   "source": [
    "DlnFut = np.diff(lnFut)"
   ]
  },
  {
   "cell_type": "code",
   "execution_count": 53,
   "metadata": {},
   "outputs": [
    {
     "data": {
      "text/plain": [
       "(2653,)"
      ]
     },
     "execution_count": 53,
     "metadata": {},
     "output_type": "execute_result"
    }
   ],
   "source": [
    "DlnFut.shape"
   ]
  },
  {
   "cell_type": "code",
   "execution_count": 54,
   "metadata": {},
   "outputs": [
    {
     "data": {
      "text/plain": [
       "(2654,)"
      ]
     },
     "execution_count": 54,
     "metadata": {},
     "output_type": "execute_result"
    }
   ],
   "source": [
    "z.shape"
   ]
  },
  {
   "cell_type": "code",
   "execution_count": 68,
   "metadata": {},
   "outputs": [],
   "source": [
    "n = DlnSpot.shape[0]\n",
    "DlnSpot = DlnSpot.reshape((n,1))"
   ]
  },
  {
   "cell_type": "code",
   "execution_count": 70,
   "metadata": {},
   "outputs": [
    {
     "data": {
      "text/plain": [
       "(2653, 1)"
      ]
     },
     "execution_count": 70,
     "metadata": {},
     "output_type": "execute_result"
    }
   ],
   "source": [
    "DlnSpot.shape"
   ]
  },
  {
   "cell_type": "code",
   "execution_count": 71,
   "metadata": {},
   "outputs": [],
   "source": [
    "n = DlnFut.shape[0]\n",
    "DlnFut = DlnFut.reshape((n,1))"
   ]
  },
  {
   "cell_type": "code",
   "execution_count": 72,
   "metadata": {},
   "outputs": [],
   "source": [
    "z = z[1:]\n",
    "n = z.shape[0]\n",
    "z = z.reshape((n,1))"
   ]
  },
  {
   "cell_type": "code",
   "execution_count": null,
   "metadata": {},
   "outputs": [],
   "source": []
  },
  {
   "cell_type": "code",
   "execution_count": null,
   "metadata": {},
   "outputs": [],
   "source": []
  },
  {
   "cell_type": "code",
   "execution_count": 75,
   "metadata": {},
   "outputs": [],
   "source": [
    "X = np.hstack((DlnSpot, DlnFut, z))"
   ]
  },
  {
   "cell_type": "code",
   "execution_count": 76,
   "metadata": {},
   "outputs": [
    {
     "data": {
      "text/plain": [
       "(2653, 3)"
      ]
     },
     "execution_count": 76,
     "metadata": {},
     "output_type": "execute_result"
    }
   ],
   "source": [
    "X.shape"
   ]
  },
  {
   "cell_type": "code",
   "execution_count": 86,
   "metadata": {},
   "outputs": [],
   "source": [
    "class BivariateVECM(object):\n",
    "    def __init__(self, y1, y2):\n",
    "        self.__y1 = y1\n",
    "        self.__y2 = y2\n",
    "        self.__lnY1 = np.log(y1)\n",
    "        self.__lnY2 = np.log(y2)\n",
    "        self.__DlnSpot0 = None\n",
    "        self.__DlnFut0 = None\n",
    "        self.__params1 = None\n",
    "        self.__params2 = None\n",
    "        self.__resids1 = None\n",
    "        self.__resids2 = None\n",
    "        self.__z = None\n",
    "    \n",
    "    def fit(self):\n",
    "        y = self.__lnY1\n",
    "        x = sm.add_constant(self.__lnY2, prepend=True)\n",
    "        model = sm.OLS(y,x)\n",
    "        result = model.fit()\n",
    "        self.__z = result.resid[0]\n",
    "        z = result.resid[:-2]\n",
    "        n = z.shape[0]\n",
    "        z = z.reshape((n,1))\n",
    "        \n",
    "        \n",
    "        DlnSpot = np.diff(self.__y1)[:-1]\n",
    "        n = DlnSpot.shape[0]\n",
    "        DlnSpot = DlnSpot.reshape((n,1))\n",
    "        self.__DlnSpot0 = DlnSpot[0]\n",
    "        \n",
    "        DlnFut = np.diff(self.__y2)[:-1]\n",
    "        n = DlnFut.shape[0]\n",
    "        DlnFut = DlnFut.reshape((n,1))\n",
    "        self.__DlnFut0 = DlnFut[0]\n",
    "        \n",
    "        X = np.hstack((DlnSpot, DlnFut, z))\n",
    "        X = sm.add_constant(X, prepend=True)\n",
    "        \n",
    "        Y1 = np.diff(self.__y1)[1:]\n",
    "        eqn1 = sm.OLS(Y1, X)\n",
    "        res1 = eqn1.fit()\n",
    "        self.__params1 = res1.params\n",
    "        self.__resids1 = res1.resid\n",
    "        \n",
    "        Y2 = np.diff(self.__y2)[1:]\n",
    "        eqn2 = sm.OLS(Y2, X)\n",
    "        res2 = eqn2.fit()\n",
    "        self.__params2 = res2.params\n",
    "        self.__resids2 = res2.resid\n",
    "        \n",
    "    \n",
    "    def simulate(self, nsteps):\n",
    "        ## Draw residuals with bootstrap\n",
    "        u1 = np.random.choice(self.__resids1, size=nsteps, replace=True)\n",
    "        u2 = np.random.choice(self.__resids2, size=nsteps, replace=True)\n",
    "        z1 = np.random.choice(self.__z, size=nsteps, replace=True)\n",
    "        y1 = np.empty(nsteps)\n",
    "        y2 = np.empty(nsteps)\n",
    "        \n",
    "        y1[0] = self.__DlnSpot[0\n",
    "        y2[0] = self.__DlnFut0\n",
    "        \n",
    "        for t in range(1, nsteps):\n",
    "            pass\n",
    "        "
   ]
  },
  {
   "cell_type": "code",
   "execution_count": 87,
   "metadata": {},
   "outputs": [],
   "source": [
    "vecm = BivariateVECM(raw.Spot.values, raw.Futures.values)"
   ]
  },
  {
   "cell_type": "code",
   "execution_count": 88,
   "metadata": {},
   "outputs": [],
   "source": [
    "vecm.fit()"
   ]
  },
  {
   "cell_type": "code",
   "execution_count": null,
   "metadata": {},
   "outputs": [],
   "source": []
  }
 ],
 "metadata": {
  "kernelspec": {
   "display_name": "Python 3",
   "language": "python",
   "name": "python3"
  },
  "language_info": {
   "codemirror_mode": {
    "name": "ipython",
    "version": 3
   },
   "file_extension": ".py",
   "mimetype": "text/x-python",
   "name": "python",
   "nbconvert_exporter": "python",
   "pygments_lexer": "ipython3",
   "version": "3.7.1"
  }
 },
 "nbformat": 4,
 "nbformat_minor": 2
}
