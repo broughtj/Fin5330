{
 "cells": [
  {
   "cell_type": "markdown",
   "metadata": {},
   "source": [
    "# __Chapter 2: Statistical Properties of Financial Data__"
   ]
  },
  {
   "cell_type": "markdown",
   "metadata": {},
   "source": [
    "## Section 2.1: A First Look at the Data"
   ]
  },
  {
   "cell_type": "markdown",
   "metadata": {},
   "source": [
    "### 2.1.1 Prices"
   ]
  },
  {
   "cell_type": "markdown",
   "metadata": {},
   "source": [
    "### 2.1.2 Returns"
   ]
  },
  {
   "cell_type": "markdown",
   "metadata": {},
   "source": [
    "### 2.1.3 Dividends"
   ]
  },
  {
   "cell_type": "markdown",
   "metadata": {},
   "source": [
    "### 2.1.4 Bond Yields"
   ]
  },
  {
   "cell_type": "markdown",
   "metadata": {},
   "source": [
    "### 2.1.5 Financial Distributions"
   ]
  },
  {
   "cell_type": "markdown",
   "metadata": {},
   "source": [
    "### 2.1.6 Transactions "
   ]
  },
  {
   "cell_type": "code",
   "execution_count": null,
   "metadata": {},
   "outputs": [],
   "source": []
  },
  {
   "cell_type": "markdown",
   "metadata": {},
   "source": [
    "## Section 2.2: Summary Statistics\n",
    "\n",
    "<br>\n",
    "\n",
    "So far we have relied upon graphical tools such as time-series plots and histograms to explore financial data. Below we will review and employ descriptive statistical tools.\n",
    "\n",
    "<br>"
   ]
  },
  {
   "cell_type": "markdown",
   "metadata": {},
   "source": [
    "### 2.2.1 Univariate"
   ]
  },
  {
   "cell_type": "markdown",
   "metadata": {},
   "source": [
    "##### __Sample Mean__"
   ]
  },
  {
   "cell_type": "markdown",
   "metadata": {},
   "source": [
    "<br>\n",
    "\n",
    "A simple measure of the expected return is given by the sample mean\n",
    "\n",
    "$$\n",
    "\\bar{r} = \\frac{1}{T} \\sum_{t=1}^{T} r_{t}\n",
    "$$\n",
    "\n",
    "<br>\n",
    "\n",
    "See Figure 2.3. These are monthly S&P 500 data, $r_{t}$, plotted for the period January 1950 - September 2016. The sample mean in monthly tearms is is $\\bar{r_{t}} = 0.0006$. In annual terms this becomes: $\\bar{r_{t}} = 0.006 \\times 12 = 0.072$ This means that the average return over the period 1950 - 2016 is $7.02\\%$ per annum. \n",
    "\n",
    "The sample mean is interpreted as the level around which $r_{t}$ fluctuates and represents a summary measure of the location of the data. \n",
    "\n",
    "<br>"
   ]
  },
  {
   "cell_type": "markdown",
   "metadata": {},
   "source": [
    "##### __Sample Variance and Standard Deviation__\n",
    "\n",
    "<br>\n",
    "\n",
    "A measure of the deviation of the actual return on an asset around its sample mean is given by the sample variance: \n",
    "\n",
    "<br>\n",
    "\n",
    "$$\n",
    "s^{2} = \\frac{1}{T}\\sum_{t=1}^{T} (r_{t} - \\bar{r})^{2}\n",
    "$$\n",
    "\n",
    "<br>\n",
    "\n",
    "__NB:__ this form is actually a biased estimator of the population variance. An unbiased estimator would replace the $T$ term in the denominator with $T - 1$, which is known a degrees of freedom (small sample) correction. If the size of $T$ is sufficiently large this will make little difference in practice. \n",
    "\n",
    "<br>\n",
    "\n",
    "In the case of the S&P 500 data, this sample variance is $s^{2} = 0.0348^{2} = 0.0012$. \n",
    "\n",
    "<br>\n",
    "\n",
    "Usually in empirical financial applications the sample standard deviation is used as a measure of riskiness of an investment and is typically called the ___volatility___ of the asset. \n",
    "\n",
    "The sample standard deviation is the square root of the sample variance: \n",
    "\n",
    "<br>\n",
    "\n",
    "$$\n",
    "s = \\sqrt{\\frac{1}{T}\\sum_{t=1}^{T} (r_{t} - \\bar{r})^{2}}\n",
    "$$\n",
    "\n",
    "<br>\n",
    "\n",
    "For the S&P 500 data, this quantity is $s = 0.0348$. The sample standard deviation (or volatility) is convenient because it is directly interpretable in terms of the assets returns. (Variance has a unit of measure in terms of squared returns, which are harder to reason about). \n",
    "\n",
    "<br>"
   ]
  },
  {
   "cell_type": "markdown",
   "metadata": {},
   "source": [
    "##### __Sample Skewness__\n",
    "\n",
    "<br>\n",
    "\n",
    "A measure of skewness in the data sample is:\n",
    "\n",
    "<br>\n",
    "\n",
    "$$\n",
    "SK = \\frac{1}{T}\\sum_{t=1}^{T}\\left(\\frac{r_{t} - \\bar{r}}{s}\\right)^{3}\n",
    "$$\n",
    "\n",
    "<br>\n",
    "\n",
    "If the extreme returns in any sample are mainly:\n",
    "\n",
    "1. Positive, then the distribution of $r_{t}$ is positively skewed\n",
    "\n",
    "2. Negative, then the distribution of $r_{t}$ is negatively skewed\n",
    "\n",
    "3. If the sample skewness is zero, then the distribution is said to be symmetric\n",
    "\n",
    "<br>\n",
    "\n",
    "The S&P 500 data have a sample skewness of $SK = -1.005$, where the sign of the statistic emphasizes negative skewness. This support evidence of a heavier left tail in returns distributions in comparison with a Normal distribution (which is symmetric). \n",
    "\n",
    "<br>"
   ]
  },
  {
   "cell_type": "markdown",
   "metadata": {},
   "source": [
    "##### __Sample Kurtosis__\n",
    "\n",
    "<br>\n",
    "\n",
    "If there are extreme returns relative to a benchmark distribution (typically the Normal or Gaussian), the distribution of $r_{t}$ is said to exhibit excess kurtosis. \n",
    "\n",
    "<br>\n",
    "\n",
    "The sample kurtosis is given by:\n",
    "\n",
    "<br>\n",
    "\n",
    "$$\n",
    "KT = \\frac{1}{T} \\sum_{t=1}^{T} \\left( \\frac{r_{t} - \\bar{r}}{s} \\right)^{4} - 3\n",
    "$$\n",
    "\n",
    "<br>\n",
    "\n",
    "The sample kurtosis of the S&P 500 data is $KT = 6.938$. The value of this parameter for normally distributed data is $3$. This is much greater than $3$ suggesting that the log returns from the S&P 500 data exhibit more extreme returns (or have heavier tails) than would be predicted by a normal distribution for log returns. \n",
    "\n",
    "<br>\n"
   ]
  },
  {
   "cell_type": "markdown",
   "metadata": {},
   "source": [
    "### 2.2.2. Bivariate"
   ]
  },
  {
   "cell_type": "markdown",
   "metadata": {},
   "source": [
    "##### __Covariance__"
   ]
  },
  {
   "cell_type": "code",
   "execution_count": null,
   "metadata": {},
   "outputs": [],
   "source": []
  },
  {
   "cell_type": "markdown",
   "metadata": {},
   "source": [
    "##### __Correlation__"
   ]
  },
  {
   "cell_type": "code",
   "execution_count": null,
   "metadata": {},
   "outputs": [],
   "source": []
  },
  {
   "cell_type": "markdown",
   "metadata": {},
   "source": [
    "## Section 2.3: Percentiles and Value-at-Risk"
   ]
  },
  {
   "cell_type": "markdown",
   "metadata": {},
   "source": [
    "1. __Historical Simulation__\n",
    "\n",
    "\n",
    "\n",
    "2. __The Variance Method__\n",
    "\n",
    "\n",
    "\n",
    "3. __Monte Carlo Simulation__"
   ]
  },
  {
   "cell_type": "code",
   "execution_count": null,
   "metadata": {},
   "outputs": [],
   "source": []
  },
  {
   "cell_type": "code",
   "execution_count": null,
   "metadata": {},
   "outputs": [],
   "source": []
  },
  {
   "cell_type": "code",
   "execution_count": null,
   "metadata": {},
   "outputs": [],
   "source": []
  },
  {
   "cell_type": "markdown",
   "metadata": {},
   "source": [
    "## Section 2.4: The Efficient Market Hypothesis"
   ]
  },
  {
   "cell_type": "markdown",
   "metadata": {},
   "source": [
    "### 2.4.1 Return Predictability"
   ]
  },
  {
   "cell_type": "code",
   "execution_count": null,
   "metadata": {},
   "outputs": [],
   "source": []
  },
  {
   "cell_type": "markdown",
   "metadata": {},
   "source": [
    "### 2.4.2 The Variance Ratio"
   ]
  },
  {
   "cell_type": "code",
   "execution_count": null,
   "metadata": {},
   "outputs": [],
   "source": []
  },
  {
   "cell_type": "markdown",
   "metadata": {},
   "source": [
    "## Section 2.5: Exercises"
   ]
  },
  {
   "cell_type": "code",
   "execution_count": null,
   "metadata": {},
   "outputs": [],
   "source": []
  },
  {
   "cell_type": "code",
   "execution_count": null,
   "metadata": {},
   "outputs": [],
   "source": []
  },
  {
   "cell_type": "code",
   "execution_count": null,
   "metadata": {},
   "outputs": [],
   "source": []
  }
 ],
 "metadata": {
  "kernelspec": {
   "display_name": "Julia 1.5.3",
   "language": "julia",
   "name": "julia-1.5"
  },
  "language_info": {
   "file_extension": ".jl",
   "mimetype": "application/julia",
   "name": "julia",
   "version": "1.5.3"
  }
 },
 "nbformat": 4,
 "nbformat_minor": 4
}
