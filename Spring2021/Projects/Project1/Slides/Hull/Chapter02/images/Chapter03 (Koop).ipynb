{
 "cells": [
  {
   "cell_type": "markdown",
   "metadata": {},
   "source": [
    "# __Chapter 3 (Koop): Correlation__\n",
    "\n",
    "<br>\n",
    "\n",
    "Finance 6470: Derivatives Markets <br>\n",
    "Tyler J. Brough <br>\n",
    "Last Update: February 25, 2021 <br>\n",
    "<br>\n",
    "<br>"
   ]
  },
  {
   "cell_type": "markdown",
   "metadata": {},
   "source": [
    "These notes are based on __Chapter 3: Correlation__ from the book [Analysis of Economic Data](https://www.amazon.com/Analysis-Economic-Data-Gary-Koop/dp/1118472535/ref=sr_1_2?dchild=1&keywords=analysis+of+economic+data&qid=1614279180&sr=8-2) by Gary Koop. \n",
    "\n",
    "<br>\n",
    "\n",
    "See the [Student Companion Site](http://bcs.wiley.com/he-bcs/Books?action=index&itemId=1118472535&bcsId=8300) for data files and other resources.\n",
    "\n",
    "<br>"
   ]
  },
  {
   "cell_type": "markdown",
   "metadata": {},
   "source": [
    "## __Understanding Correlation__"
   ]
  },
  {
   "cell_type": "markdown",
   "metadata": {},
   "source": [
    "* One basic job of the econometrician is to investigate the relationship between different variables, such as the education level of workers and their wages or interest rates and inflation. \n",
    "\n",
    "* Correlation is an important numerical tool to quantify these relationships\n",
    "\n",
    "* A proper understanding of correlation is a crucial prerequistite for understanding regression \n",
    "\n",
    "* These notes are meant to help develop the intuition behind correlation analysis\n",
    "\n",
    "<br>"
   ]
  },
  {
   "cell_type": "markdown",
   "metadata": {},
   "source": [
    "The basic set up:\n",
    "\n",
    "* Let $X$ and $Y$ be two random variables of interest (e.g. population density and deforestation, respectively)\n",
    "\n",
    "* Suppose we have data on $i = 1, \\ldots, N$ different units (e.g. countries)\n",
    "\n",
    "* The ___correlation___ denoted by $r$ or $\\rho$ \n",
    "\n",
    "* It's precise mathematical formula is given in the appendix section below\n",
    "\n",
    "* You practically never calculate correlation directly - rather it is done in software for the analyst\n",
    "\n",
    "<br>"
   ]
  },
  {
   "cell_type": "markdown",
   "metadata": {},
   "source": [
    "### Properties of Correlation"
   ]
  },
  {
   "cell_type": "markdown",
   "metadata": {},
   "source": [
    "1. $\\rho$ lies between $-1$ and $1$, $\\quad$ or $\\quad -1 \\le \\rho \\le +1$\n",
    "\n",
    "2. Positive values of $\\rho$  indicate a positive correlation between $X$ and $Y$.\n",
    "    - Negative values indicate a negative correlation. \n",
    "    - $\\rho = 0$ indicates that $X$ and $Y$ are uncorrelated. \n",
    "    \n",
    "    \n",
    "3. Larger positive values of $\\rho$ indicate stronger positive correlation. $\\rho = 1$ indicates perfect correlation.\n",
    "    - Large negative values indicate stronger negative correlation.\n",
    "    - $\\rho = -1$ indicates perfect negative correlation.\n",
    "    \n",
    "    \n",
    "4. The correlation between $X$ and $Y$ is the same as the correlation between $Y$ and $X$.\n",
    "\n",
    "\n",
    "5. The correlation between any variable and itself (e.g the correlation between $Y$ and $Y$) is $1$.\n",
    "\n",
    "<br>"
   ]
  },
  {
   "cell_type": "markdown",
   "metadata": {},
   "source": [
    "### Understanding Correlation Though Veral Reasoning"
   ]
  },
  {
   "cell_type": "markdown",
   "metadata": {},
   "source": []
  },
  {
   "cell_type": "markdown",
   "metadata": {},
   "source": []
  },
  {
   "cell_type": "markdown",
   "metadata": {},
   "source": [
    "### Understaning Why Variables are Correlated"
   ]
  },
  {
   "cell_type": "markdown",
   "metadata": {},
   "source": []
  },
  {
   "cell_type": "markdown",
   "metadata": {},
   "source": []
  },
  {
   "cell_type": "markdown",
   "metadata": {},
   "source": [
    "### Understanding Correlation Through XY-Plots"
   ]
  },
  {
   "cell_type": "markdown",
   "metadata": {},
   "source": []
  },
  {
   "cell_type": "markdown",
   "metadata": {},
   "source": []
  },
  {
   "cell_type": "markdown",
   "metadata": {},
   "source": [
    "### Correlation Between Several Variables"
   ]
  },
  {
   "cell_type": "markdown",
   "metadata": {},
   "source": []
  },
  {
   "cell_type": "markdown",
   "metadata": {},
   "source": []
  },
  {
   "cell_type": "markdown",
   "metadata": {},
   "source": [
    "### Appendix: Mathematical Details"
   ]
  },
  {
   "cell_type": "markdown",
   "metadata": {},
   "source": [
    "The ___correlation___ between $X$ and $Y$ is referred to by the small letter $r$ (or often by the Greek rho $\\rho$) and is calculated as: \n",
    "\n",
    "<br>\n",
    "\n",
    "$$\n",
    "\\rho = \\frac{\\sum_{i=1}^{N} (Y_{i} - \\bar{Y})(X_{i} - \\bar{X})}{\\sqrt{\\sum_{i=1}^{N}(Y - \\bar{Y})^{2}} \\sqrt{\\sum_{i=1}^{N}(X_{i} - \\bar{X})^{2}}}\n",
    "$$\n",
    "\n",
    "<br>\n",
    "\n",
    "We can also write it in terms of convariance and standard deviations: \n",
    "\n",
    "<br>\n",
    "\n",
    "$$\n",
    "\\rho = \\frac{Cov(X, Y)}{SD(Y) SD(X)} = \\frac{\\sigma_{Y,X}}{\\sigma_{Y} \\sigma_{X}}\n",
    "$$\n",
    "\n",
    "<br>\n",
    "\n",
    "where:\n",
    "\n",
    "* $\\sigma_{Y}$ is the standard deviation of the random variable $Y$\n",
    "\n",
    "* $\\sigma_{X}$ is the standard deviation of the random variable $X$\n",
    "\n",
    "* $\\sigma_{Y,X}$ is the covariance of the random variables $Y$ and $X$\n",
    "\n",
    "<br>\n",
    "\n",
    "Recall that the ___sample variance___ of random variable $Y$ is given by:\n",
    "\n",
    "$$\n",
    "Var(Y) = \\frac{1}{N} \\sum_{i=1}^{N} (Y_{i} - \\bar{Y})^2\n",
    "$$\n",
    "\n",
    "<br>\n",
    "\n",
    "And the ___sample standard deviation___ is simply defined in terms of the sample variance as\n",
    "\n",
    "$$\n",
    "SD(Y) = \\sigma_{Y} = \\sqrt{Var(Y)}\n",
    "$$\n",
    "\n",
    "<br>\n",
    "\n",
    "Also, the sample covariance between random variables $Y$ and $X$ is defined as:\n",
    "\n",
    "$$\n",
    "Cov(Y,X) = \\sigma_{X,Y} = \\frac{1}{N} \\sum_{i=1}^{N} (Y_{i} - \\bar{Y}) (X_{i} - \\bar{X})\n",
    "$$\n",
    "\n",
    "<br>\n",
    "\n",
    "__Note:__ from this last definition it can be seen that variance is just the convariance of random variable $Y$ with itself:\n",
    "\n",
    "\n",
    "\n",
    "$$\n",
    "Var(Y) = \\sigma_{Y}^{2} = \\frac{1}{N} \\sum_{i=1}^{N} (Y_{i} - \\bar{Y}) (Y_{i} - \\bar{Y}) = \\frac{1}{N} \\sum_{i=1}^{N} (Y_{i} - \\bar{Y})^2\n",
    "$$\n",
    "\n",
    "<br>\n",
    "\n",
    "Also, recall that the ___sample mean___ of random variable $Y$ is defined as:\n",
    "\n",
    "$$\n",
    "\\bar{Y} = \\frac{1}{N}\\sum_{i=1}^{N} Y_{i}\n",
    "$$\n",
    "\n",
    "<br>"
   ]
  },
  {
   "cell_type": "markdown",
   "metadata": {},
   "source": []
  }
 ],
 "metadata": {
  "kernelspec": {
   "display_name": "Julia 1.5.3",
   "language": "julia",
   "name": "julia-1.5"
  },
  "language_info": {
   "file_extension": ".jl",
   "mimetype": "application/julia",
   "name": "julia",
   "version": "1.5.3"
  }
 },
 "nbformat": 4,
 "nbformat_minor": 4
}
