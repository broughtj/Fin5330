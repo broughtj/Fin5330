{
 "cells": [
  {
   "cell_type": "markdown",
   "metadata": {},
   "source": [
    "# __Early Regression in Julia__\n",
    "\n",
    "<br>\n",
    "Tyler J. Brough <br>\n",
    "Last Update: March 8, 2021 <br>\n",
    "<br>\n",
    "<br>"
   ]
  },
  {
   "cell_type": "markdown",
   "metadata": {},
   "source": [
    "There are multiple ways to perform statistical regression in Julia. In this notebook I will demonstrate two different approaches. "
   ]
  },
  {
   "cell_type": "markdown",
   "metadata": {},
   "source": [
    "The first approach uses the `llsq` method from the `MultivariateStats` module. \n",
    "\n",
    "<br>"
   ]
  },
  {
   "cell_type": "markdown",
   "metadata": {},
   "source": [
    "__Note:__ linear regression can be specified as an optimization problem; specifically, a minimization problem. \n",
    "\n",
    "<br>\n",
    "\n"
   ]
  },
  {
   "cell_type": "markdown",
   "metadata": {},
   "source": [
    "We will formulate least squares the following way:\n",
    "\n",
    "<br>\n",
    "\n",
    "$$\n",
    "\\arg\\min_{(\\alpha, \\beta)} \\left( \\frac{1}{2} || y - (X \\beta - \\alpha)  ||^{2} \\right)\n",
    "$$\n",
    "\n",
    "<br>"
   ]
  },
  {
   "cell_type": "markdown",
   "metadata": {},
   "source": [
    "## __Using `MultivariateStats`__"
   ]
  },
  {
   "cell_type": "markdown",
   "metadata": {},
   "source": [
    "The module `MultivariateStats` provides the `llsq` method to solve these types of problems. \n",
    "\n",
    "<br>\n",
    "\n",
    "Let's see it in action.\n",
    "\n",
    "<br>"
   ]
  },
  {
   "cell_type": "code",
   "execution_count": 1,
   "metadata": {},
   "outputs": [],
   "source": [
    "using StatsKit.MultivariateStats\n",
    "using StatsKit.StatsBase"
   ]
  },
  {
   "cell_type": "code",
   "execution_count": 2,
   "metadata": {},
   "outputs": [
    {
     "data": {
      "text/plain": [
       "3-element Array{Float64,1}:\n",
       " 0.1637950114777329\n",
       " 0.3720251828804908\n",
       " 0.0983288557173645"
      ]
     },
     "execution_count": 2,
     "metadata": {},
     "output_type": "execute_result"
    }
   ],
   "source": [
    "## prepare data\n",
    "\n",
    "X = rand(1000, 3)  # simulate artificial data for 3 variables\n",
    "beta = rand(3)     # simulate ground truth for the coefficients (you could also hand code this)"
   ]
  },
  {
   "cell_type": "code",
   "execution_count": 3,
   "metadata": {},
   "outputs": [],
   "source": [
    "# generate the respond variable given the model equation\n",
    "\n",
    "u = 0.1 * randn(1000);\n",
    "y = X * beta + u;      # suppress output"
   ]
  },
  {
   "cell_type": "code",
   "execution_count": 4,
   "metadata": {},
   "outputs": [
    {
     "data": {
      "text/plain": [
       "3-element Array{Float64,1}:\n",
       " 0.16236693186531756\n",
       " 0.3946265935693638\n",
       " 0.09170202436572411"
      ]
     },
     "execution_count": 4,
     "metadata": {},
     "output_type": "execute_result"
    }
   ],
   "source": [
    "## solve the least squares problem \n",
    "\n",
    "betahat = llsq(X, y; bias=false) # don't allow bias (I'll explain later)"
   ]
  },
  {
   "cell_type": "code",
   "execution_count": 5,
   "metadata": {},
   "outputs": [],
   "source": [
    "## get the predicted response values\n",
    "yhat = X * betahat;"
   ]
  },
  {
   "cell_type": "code",
   "execution_count": 6,
   "metadata": {},
   "outputs": [
    {
     "name": "stdout",
     "output_type": "stream",
     "text": [
      "rmse = 0.09950565454516187"
     ]
    }
   ],
   "source": [
    "## measure the error with rmse\n",
    "\n",
    "rmse = sqrt(mean(abs2.(y - yhat)))\n",
    "print(\"rmse = $rmse\")"
   ]
  },
  {
   "cell_type": "markdown",
   "metadata": {},
   "source": [
    "Let's check the documentation on `llsq`"
   ]
  },
  {
   "cell_type": "code",
   "execution_count": 20,
   "metadata": {},
   "outputs": [
    {
     "data": {
      "text/latex": [
       "No documentation found.\n",
       "\n",
       "\\texttt{MultivariateStats.llsq} is a \\texttt{Function}.\n",
       "\n",
       "\\begin{verbatim}\n",
       "# 1 method for generic function \"llsq\":\n",
       "[1] llsq(X::AbstractArray{T,2}, Y::Union{AbstractArray{T,1}, AbstractArray{T,2}}; trans, bias) where T<:Real in MultivariateStats at /Users/tjb/.julia/packages/MultivariateStats/BYMwD/src/lreg.jl:22\n",
       "\\end{verbatim}\n"
      ],
      "text/markdown": [
       "No documentation found.\n",
       "\n",
       "`MultivariateStats.llsq` is a `Function`.\n",
       "\n",
       "```\n",
       "# 1 method for generic function \"llsq\":\n",
       "[1] llsq(X::AbstractArray{T,2}, Y::Union{AbstractArray{T,1}, AbstractArray{T,2}}; trans, bias) where T<:Real in MultivariateStats at /Users/tjb/.julia/packages/MultivariateStats/BYMwD/src/lreg.jl:22\n",
       "```\n"
      ],
      "text/plain": [
       "  No documentation found.\n",
       "\n",
       "  \u001b[36mMultivariateStats.llsq\u001b[39m is a \u001b[36mFunction\u001b[39m.\n",
       "\n",
       "\u001b[36m  # 1 method for generic function \"llsq\":\u001b[39m\n",
       "\u001b[36m  [1] llsq(X::AbstractArray{T,2}, Y::Union{AbstractArray{T,1}, AbstractArray{T,2}}; trans, bias) where T<:Real in MultivariateStats at /Users/tjb/.julia/packages/MultivariateStats/BYMwD/src/lreg.jl:22\u001b[39m"
      ]
     },
     "execution_count": 20,
     "metadata": {},
     "output_type": "execute_result"
    }
   ],
   "source": [
    "?MultivariateStats.llsq"
   ]
  },
  {
   "cell_type": "markdown",
   "metadata": {},
   "source": [
    "<br>\n",
    "\n",
    "See here for more: https://multivariatestatsjl.readthedocs.io/en/stable/lreg.html#llsq\n",
    "\n",
    "<br>"
   ]
  },
  {
   "cell_type": "markdown",
   "metadata": {},
   "source": [
    "## __Using `GLM`__"
   ]
  },
  {
   "cell_type": "markdown",
   "metadata": {},
   "source": []
  }
 ],
 "metadata": {
  "kernelspec": {
   "display_name": "Julia 1.5.3",
   "language": "julia",
   "name": "julia-1.5"
  },
  "language_info": {
   "file_extension": ".jl",
   "mimetype": "application/julia",
   "name": "julia",
   "version": "1.5.3"
  }
 },
 "nbformat": 4,
 "nbformat_minor": 4
}
