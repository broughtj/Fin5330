{
 "cells": [
  {
   "cell_type": "markdown",
   "metadata": {},
   "source": [
    "# __Computing the Minimum-Variance Hedge Ratio__\n",
    "\n",
    "<br>\n",
    "<br>\n",
    "\n",
    "Finance 6470: Derivatives Markets <br>\n",
    "Tyler J. Brough <br>\n",
    "Last Updated: March 18, 2021<br>\n",
    "\n",
    "<br>"
   ]
  },
  {
   "cell_type": "code",
   "execution_count": 1,
   "metadata": {},
   "outputs": [],
   "source": [
    "using StatsKit"
   ]
  },
  {
   "cell_type": "markdown",
   "metadata": {},
   "source": [
    "## Calculating Sample Statistics for Hedge Ratios"
   ]
  },
  {
   "cell_type": "markdown",
   "metadata": {},
   "source": [
    "<br>\n",
    "\n",
    "The formula for the optimal static hedge ratio is given in Chapter 3 as:\n",
    "\n",
    "$$\n",
    "h^{\\ast} = \\rho \\frac{\\sigma_{S}}{\\sigma_{F}}\n",
    "$$\n",
    "\n",
    "In practice this will require statistical inference from historical data to **estimate** the values of the paramters: $\\rho$, $\\sigma_{S}$, and $\\sigma_{F}$. \n",
    "\n",
    "We will look at how this is to be done.\n",
    "\n",
    "<br>"
   ]
  },
  {
   "cell_type": "markdown",
   "metadata": {},
   "source": [
    "<br>\n",
    "\n",
    "Recall the formula for the sample standard deviation as the estimator for the standard deviation:\n",
    "\n",
    "$$\\hat{\\sigma} = s = \\sqrt{\\frac{1}{n-1} \\sum\\limits_{t=1}^{n} (x_{t} - \\bar{x})^{2}}$$\n",
    "\n",
    "where $n$ is the sample size, the $x_{i}$ are the particular historical values of each of the data points for \n",
    "$i = 1, \\ldots, n$.\n",
    "\n",
    "Recall also that the estimator for the sample mean is given by:\n",
    "\n",
    "$$\n",
    "\\bar{x} = \\frac{1}{n} \\sum\\limits_{i=t}^{n} x_{t}\n",
    "$$\n",
    "\n",
    "<br>"
   ]
  },
  {
   "cell_type": "markdown",
   "metadata": {},
   "source": [
    "<br>\n",
    "\n",
    "Below I have reproduced the data in Table 3.2 from the book. We will use these data to calculate the optimal minimum variance hedge ratio.\n",
    "\n",
    "<br>"
   ]
  },
  {
   "cell_type": "markdown",
   "metadata": {},
   "source": [
    "<br>\n",
    "<br>\n",
    "\n",
    "<img src=\"images/Table3-2.jpg\" alt=\"Cross Hedging\" style=\"width:600px;\"/>\n",
    "\n",
    "<br>\n",
    "<br>"
   ]
  },
  {
   "cell_type": "markdown",
   "metadata": {},
   "source": [
    "<br>\n",
    "\n",
    "Lets first compute the sample means for each of the change in futures prices and the change in jet fuel prices.\n",
    "\n",
    "<br>\n",
    "\n",
    "The mean for the change in heating oil futures prices is:\n",
    "\n",
    "$$\n",
    "\\bar{\\Delta F} = \\frac{1} {15} (0.021 + 0.035 - 0.046 + \\ldots + 0.029) = -0.000867\n",
    "$$\n",
    "\n",
    "<br>\n",
    "\n",
    "By the way, this can also be easily done in `Julia` using an `Array` as follows:\n",
    "\n",
    "<br>"
   ]
  },
  {
   "cell_type": "code",
   "execution_count": 2,
   "metadata": {},
   "outputs": [],
   "source": [
    "ΔF = [0.021, 0.035, -0.046, 0.001, 0.044, -0.029, -0.026, -0.029, \n",
    "      0.048, -0.006, -0.036, -0.011, 0.019,-0.027, 0.029];"
   ]
  },
  {
   "cell_type": "code",
   "execution_count": 3,
   "metadata": {},
   "outputs": [
    {
     "data": {
      "text/plain": [
       "(15,)"
      ]
     },
     "execution_count": 3,
     "metadata": {},
     "output_type": "execute_result"
    }
   ],
   "source": [
    "size(ΔF)"
   ]
  },
  {
   "cell_type": "code",
   "execution_count": 4,
   "metadata": {},
   "outputs": [
    {
     "data": {
      "text/plain": [
       "-0.0008666666666666659"
      ]
     },
     "execution_count": 4,
     "metadata": {},
     "output_type": "execute_result"
    }
   ],
   "source": [
    "mean(ΔF)"
   ]
  },
  {
   "cell_type": "code",
   "execution_count": 5,
   "metadata": {},
   "outputs": [
    {
     "name": "stdout",
     "output_type": "stream",
     "text": [
      "The mean of heating oil futures prices: -0.000867\n"
     ]
    }
   ],
   "source": [
    "println(\"The mean of heating oil futures prices: $(round(mean(ΔF), digits=6))\")"
   ]
  },
  {
   "cell_type": "markdown",
   "metadata": {},
   "source": [
    "<br>\n",
    "\n",
    "Also, the sample standard deviation is:\n",
    "\n",
    "<br>\n",
    "\n",
    "$$\n",
    "\\hat{\\sigma}_{\\Delta F} = \\sqrt{\\frac{1}{14} [(0.021 + 0.000867)^2 + (0.035 + 0.000867)^2 + \\ldots + (0.029 + 0.000867)^2 ]} = 0.0313\n",
    "$$\n",
    "\n",
    "<br>\n",
    "\n",
    "Here is how to do it in `Julia`:\n",
    "\n",
    "<br>"
   ]
  },
  {
   "cell_type": "code",
   "execution_count": 6,
   "metadata": {},
   "outputs": [
    {
     "data": {
      "text/plain": [
       "0.031343412765835243"
      ]
     },
     "execution_count": 6,
     "metadata": {},
     "output_type": "execute_result"
    }
   ],
   "source": [
    "std(ΔF)"
   ]
  },
  {
   "cell_type": "code",
   "execution_count": 7,
   "metadata": {},
   "outputs": [
    {
     "name": "stdout",
     "output_type": "stream",
     "text": [
      "The standard deviation of heating oil futures prices: 0.031343\n"
     ]
    }
   ],
   "source": [
    "println(\"The standard deviation of heating oil futures prices: $(round(std(ΔF), digits=6))\")"
   ]
  },
  {
   "cell_type": "markdown",
   "metadata": {},
   "source": [
    "<br>\n",
    "\n",
    "The sample mean for jet fuel spot prices is:\n",
    "\n",
    "$$\n",
    "\\bar{\\Delta S} = \\frac{1}{15} (0.029 + 0.020 - 0.044 + \\ldots + 0.023) = 0.0002\n",
    "$$\n",
    "\n",
    "Here it is in `Julia`:\n",
    "\n",
    "<br>"
   ]
  },
  {
   "cell_type": "code",
   "execution_count": 8,
   "metadata": {},
   "outputs": [],
   "source": [
    "ΔS = [0.029, 0.020, -0.044, 0.008, 0.026, -0.019, -0.010, -0.007,0.043, \n",
    "      0.011, -0.036, -0.018, 0.009, -0.032, 0.023];"
   ]
  },
  {
   "cell_type": "code",
   "execution_count": 9,
   "metadata": {},
   "outputs": [
    {
     "name": "stdout",
     "output_type": "stream",
     "text": [
      "The mean of jet fuel spot prices is: 0.0002\n"
     ]
    }
   ],
   "source": [
    "println(\"The mean of jet fuel spot prices is: $(round(mean(ΔS), digits=6))\")"
   ]
  },
  {
   "cell_type": "markdown",
   "metadata": {},
   "source": [
    "<br>\n",
    "\n",
    "Here is the sample standard deviation for jet fuel spot prices:\n",
    "\n",
    "<br>\n",
    "\n",
    "$$\n",
    "\\hat{\\sigma}_{\\Delta S} = \\sqrt{\\frac{1}{14} [(0.029 - 0.0002)^2 + (0.020 - 0.0002)^2 + \\ldots + (0.023 - 0.0002)^2 ]} = 0.0263\n",
    "$$\n",
    "\n",
    "<br>\n",
    "\n",
    "Here is how to do it in `Julia`:\n",
    "\n",
    "<br>"
   ]
  },
  {
   "cell_type": "markdown",
   "metadata": {},
   "source": [
    "## The Sample Correlation Coefficient\n",
    "\n",
    "<br>\n",
    "\n",
    "We also need to be able to estimate $\\rho$ in order to calculate the hedge ratio. Let's recall that the formula for the sample (estimator) correlation coefficient is equal to:\n",
    "\n",
    "<br>\n",
    "\n",
    "$$\n",
    "\\hat{\\rho}_{\\Delta S, \\Delta F} = \\frac{\\hat{Cov}(\\Delta S, \\Delta F)}{\\hat{\\sigma}_{\\Delta S} \\times \\hat{\\sigma}_{\\Delta F}}\n",
    "$$\n",
    "\n",
    "<br>\n",
    "\n",
    "So in order to calculate this we need to know how to calculate the sample covariance $\\hat{Cov}(\\Delta S, \\Delta F)$. That formula is:\n",
    "\n",
    "$$\n",
    "\\hat{Cov}(\\Delta S, \\Delta F) = \\hat{\\Sigma}_{\\Delta S, \\Delta F} = \\frac{1}{n-1} \\sum\\limits_{i=1}^{n} (\\Delta S_{i} - \\bar{\\Delta S}) (\\Delta F_{i} - \\bar{\\Delta F})\n",
    "$$\n",
    "\n",
    "<br>"
   ]
  },
  {
   "cell_type": "code",
   "execution_count": 10,
   "metadata": {},
   "outputs": [
    {
     "data": {
      "text/plain": [
       "0.9283723458682629"
      ]
     },
     "execution_count": 10,
     "metadata": {},
     "output_type": "execute_result"
    }
   ],
   "source": [
    "ρ = cor(ΔF, ΔS)"
   ]
  },
  {
   "cell_type": "code",
   "execution_count": 11,
   "metadata": {},
   "outputs": [
    {
     "data": {
      "text/plain": [
       "0.7776506742411755"
      ]
     },
     "execution_count": 11,
     "metadata": {},
     "output_type": "execute_result"
    }
   ],
   "source": [
    "h = ρ * (std(ΔS) / std(ΔF))"
   ]
  },
  {
   "cell_type": "code",
   "execution_count": 12,
   "metadata": {},
   "outputs": [
    {
     "name": "stdout",
     "output_type": "stream",
     "text": [
      "The estimated hedge ratio is: 0.7777\n"
     ]
    }
   ],
   "source": [
    "println(\"The estimated hedge ratio is: $(round(h, digits=4))\")"
   ]
  },
  {
   "cell_type": "markdown",
   "metadata": {},
   "source": [
    "<br>\n",
    "\n",
    "We can also estimate this value using the estimated slope coefficient in a linear regression.\n",
    "\n",
    "<br>\n",
    "\n",
    "Recall that the OLS slope coefficient estimator is equal to the following:\n",
    "\n",
    "$$\n",
    "\\begin{aligned}\n",
    "\\hat{\\beta} &= \\frac{Cov(y,x)}{Var(x)} \\\\\n",
    "            &= \\rho \\frac{\\sigma_{y} \\sigma_{x}}{\\sigma_{x} \\sigma_{x}} \\\\\n",
    "            &= \\rho \\frac{\\sigma_{y}}{\\sigma_{x}}\n",
    "\\end{aligned}\n",
    "$$\n",
    "\n",
    "<br>"
   ]
  },
  {
   "cell_type": "code",
   "execution_count": 18,
   "metadata": {},
   "outputs": [],
   "source": [
    "coefs = llsq([ones(15) ΔF], ΔS; bias=false);"
   ]
  },
  {
   "cell_type": "code",
   "execution_count": 19,
   "metadata": {},
   "outputs": [
    {
     "name": "stdout",
     "output_type": "stream",
     "text": [
      "The hedge ratio computed via OLS is: 0.7777\n"
     ]
    }
   ],
   "source": [
    "println(\"The hedge ratio computed via OLS is: $(round(coefs[2], digits=4))\")"
   ]
  },
  {
   "cell_type": "markdown",
   "metadata": {},
   "source": []
  }
 ],
 "metadata": {
  "kernelspec": {
   "display_name": "Julia 1.5.3",
   "language": "julia",
   "name": "julia-1.5"
  },
  "language_info": {
   "file_extension": ".jl",
   "mimetype": "application/julia",
   "name": "julia",
   "version": "1.5.3"
  }
 },
 "nbformat": 4,
 "nbformat_minor": 4
}
