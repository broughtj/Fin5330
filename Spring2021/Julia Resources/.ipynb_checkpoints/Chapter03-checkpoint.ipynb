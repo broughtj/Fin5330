{
 "cells": [
  {
   "cell_type": "markdown",
   "metadata": {},
   "source": [
    "# __Chapter 3: Control Flow and Functions__\n",
    "\n",
    "<br>\n",
    "Tyler J. Brough <br>\n",
    "Last Update: March 8, 2021 <br>\n",
    "<br>\n",
    "<br>"
   ]
  },
  {
   "cell_type": "markdown",
   "metadata": {},
   "source": [
    "## __3.1 Code Block Structure and Variable Scope__"
   ]
  },
  {
   "cell_type": "markdown",
   "metadata": {},
   "source": [
    "Julia possesses all of the typical flow-control structures:\n",
    "\n",
    "* `for` loops\n",
    "\n",
    "* `while` loops\n",
    "\n",
    "* `if`/`else` statements\n",
    "\n",
    "* `do` block\n",
    "\n",
    "<br>\n",
    "\n",
    "The syntax takes this basic form:\n",
    "\n",
    "<br>\n",
    "\n",
    "```julia\n",
    "<keyword> <condition>\n",
    "    ... block content ...\n",
    "end\n",
    "```\n",
    "\n",
    "<br>\n",
    "\n",
    "Here is an example: \n",
    "\n",
    "```julia\n",
    "for i in 1:5\n",
    "    println(i)\n",
    "end\n",
    "```\n",
    "\n",
    "<br>"
   ]
  },
  {
   "cell_type": "code",
   "execution_count": 4,
   "metadata": {},
   "outputs": [
    {
     "name": "stdout",
     "output_type": "stream",
     "text": [
      "1\n",
      "2\n",
      "3\n",
      "4\n",
      "5\n"
     ]
    }
   ],
   "source": [
    "for i in 1:5\n",
    "    println(i)\n",
    "end"
   ]
  },
  {
   "cell_type": "markdown",
   "metadata": {},
   "source": [
    "<br>\n",
    "\n",
    "__NB:__ parentheses around the condition are not necessary, and the block ends with the keyword `end`\n",
    "\n",
    "<br>"
   ]
  },
  {
   "cell_type": "markdown",
   "metadata": {},
   "source": [
    "<br>\n",
    "\n",
    "* Within a block the visibility of a variable changes, and Julia is a bit more restrictive than other languages\n",
    "\n",
    "\n",
    "* When you define a variable (in the REPL, in Jupyter, in vscode, etc) you do so in the _global scope_\n",
    "\n",
    "\n",
    "* Most blocks (`for`, `while`, but notably not `if`) and functions define new local scopes that inherit from the surrounding scope\n",
    "\n",
    "\n",
    "* Global variables are inherited only for reading, not for writing. \n",
    "\n",
    "<br>"
   ]
  },
  {
   "cell_type": "markdown",
   "metadata": {},
   "source": [
    "__NB:__ this code below is depricated\n",
    "\n",
    "```julia\n",
    "## this will raise an UndefVarrError: code not defined\n",
    "a = 4\n",
    "\n",
    "while a > 2\n",
    "    a -= 1\n",
    "end\n",
    "```"
   ]
  },
  {
   "cell_type": "code",
   "execution_count": 6,
   "metadata": {},
   "outputs": [
    {
     "name": "stdout",
     "output_type": "stream",
     "text": [
      "a: 5\n",
      "b: 5\n",
      "b: 4\n",
      "b: 3\n",
      "a: 4\n",
      "b: 4\n",
      "b: 3\n",
      "a: 3\n",
      "b: 3\n"
     ]
    }
   ],
   "source": [
    "a = 5\n",
    "while a > 2\n",
    "    #global a\n",
    "    println(\"a: $a\")\n",
    "    b = a\n",
    "    while b > 2\n",
    "        println(\"b: $b\")\n",
    "        b -=1 \n",
    "    end\n",
    "    a -= 1\n",
    "end"
   ]
  },
  {
   "cell_type": "code",
   "execution_count": 7,
   "metadata": {},
   "outputs": [
    {
     "data": {
      "text/plain": [
       "2"
      ]
     },
     "execution_count": 7,
     "metadata": {},
     "output_type": "execute_result"
    }
   ],
   "source": [
    "a"
   ]
  },
  {
   "cell_type": "markdown",
   "metadata": {},
   "source": [
    "<br>\n",
    "\n",
    "* Abusing global variables is a bad idea. They tend to make your code more difficult to keep track of, will typically introduce bugs, and can often cause poor performance\n",
    "\n",
    "<br>"
   ]
  },
  {
   "cell_type": "markdown",
   "metadata": {},
   "source": [
    "## __3.2 Repeated Iteration: `for` and `while` Loops, List Comprehension, Maps__"
   ]
  },
  {
   "cell_type": "markdown",
   "metadata": {},
   "source": [
    "<br>\n",
    "\n",
    "* The `for` and `while` constructs are very flexible\n",
    "\n",
    "* The expression can be written in many ways: \n",
    "    - `for i = 1:2`\n",
    "    \n",
    "    - `for i in an_array`\n",
    "    \n",
    "    - `while i < 3`\n",
    "    \n",
    "* Multiple conditions can be specified as well in the same loop\n",
    "\n",
    "<br>"
   ]
  },
  {
   "cell_type": "code",
   "execution_count": 8,
   "metadata": {},
   "outputs": [
    {
     "name": "stdout",
     "output_type": "stream",
     "text": [
      "i: 1, j: 2\n",
      "i: 1, j: 3\n",
      "i: 1, j: 4\n",
      "i: 1, j: 5\n",
      "i: 2, j: 2\n",
      "i: 2, j: 3\n",
      "i: 2, j: 4\n",
      "i: 2, j: 5\n"
     ]
    }
   ],
   "source": [
    "for i=1:2,j=2:5\n",
    "    println(\"i: $i, j: $j\")\n",
    "end"
   ]
  },
  {
   "cell_type": "code",
   "execution_count": 12,
   "metadata": {},
   "outputs": [
    {
     "name": "stdout",
     "output_type": "stream",
     "text": [
      "10\n",
      "8\n",
      "6\n",
      "4\n",
      "2\n"
     ]
    }
   ],
   "source": [
    "for j in 10:-2:1\n",
    "    println(j)\n",
    "end"
   ]
  },
  {
   "cell_type": "markdown",
   "metadata": {},
   "source": [
    "<br>\n",
    "\n",
    "* __NB:__ one important difference from Python is that `for` loops are encouraged in Julia, whereas in Python they are discouraged because they degrade performance."
   ]
  },
  {
   "cell_type": "markdown",
   "metadata": {},
   "source": [
    "<br>\n",
    "\n",
    "* In this case a higher-level loop starts over the range `1:2`, and then for each element of `i`, a nested loop over `2:5` is exectuted\n",
    "\n",
    "<br>"
   ]
  },
  {
   "cell_type": "markdown",
   "metadata": {},
   "source": [
    "<br>\n",
    "\n",
    "* `break` and `continue` work as expected\n",
    "\n",
    "* `break` immediately aborts the loop sequence\n",
    "\n",
    "* `continue` immediately passes to the next iteration\n",
    "\n",
    "<br>"
   ]
  },
  {
   "cell_type": "markdown",
   "metadata": {},
   "source": [
    "<br>\n",
    "\n",
    "Julia also supports comprehensions and maps. \n",
    "\n",
    "<br>\n",
    "\n",
    "A list comprehension is essentially a very concise way to write a for-loop:\n",
    "\n",
    "<br>\n",
    "\n",
    "```julia\n",
    "[myfunction(i) for i in [1,2,3]]\n",
    "```\n",
    "\n",
    "<br>\n",
    "\n",
    "```julia\n",
    "[x + 2y for x in [10, 20, 30], y in [1,2,3]]\n",
    "```\n",
    "\n",
    "<br>"
   ]
  },
  {
   "cell_type": "markdown",
   "metadata": {},
   "source": [
    "For example, you could use list comprehension to populate a dictionary from one or more arrays:\n",
    "\n",
    "<br>\n",
    "\n",
    "```julia\n",
    "[mydict[i]=value for (i, value) in enumerate(mylist)]\n",
    "```\n",
    "\n",
    "<br>\n",
    "\n",
    "```julia\n",
    "[students[name] = sex for (name, sex) in zip(names, sexes)]\n",
    "```\n",
    "\n",
    "<br>\n",
    "\n",
    "You can write pretty complex expressions with list comprehensions:"
   ]
  },
  {
   "cell_type": "code",
   "execution_count": 13,
   "metadata": {},
   "outputs": [
    {
     "name": "stdout",
     "output_type": "stream",
     "text": [
      "i: 3 - j: 2\n",
      "i: 4 - j: 2\n",
      "i: 5 - j: 2\n",
      "i: 4 - j: 3\n",
      "i: 5 - j: 3\n",
      "i: 5 - j: 4\n"
     ]
    },
    {
     "data": {
      "text/plain": [
       "6-element Array{Nothing,1}:\n",
       " nothing\n",
       " nothing\n",
       " nothing\n",
       " nothing\n",
       " nothing\n",
       " nothing"
      ]
     },
     "execution_count": 13,
     "metadata": {},
     "output_type": "execute_result"
    }
   ],
   "source": [
    "[println(\"i: $i - j: $j\") for i in 1:5, j in 2:5 if i > j]"
   ]
  },
  {
   "cell_type": "markdown",
   "metadata": {},
   "source": [
    "<br>\n",
    "\n",
    "* `map` applies a function to a list of arguments. \n",
    "\n",
    "<br>"
   ]
  },
  {
   "cell_type": "code",
   "execution_count": 16,
   "metadata": {},
   "outputs": [
    {
     "data": {
      "text/plain": [
       "2-element Array{String,1}:\n",
       " \"Female\"\n",
       " \"Male\""
      ]
     },
     "execution_count": 16,
     "metadata": {},
     "output_type": "execute_result"
    }
   ],
   "source": [
    "## this is a bit less efficient than the list comprehension above\n",
    "## this uses a lambda function \n",
    "students = Dict()\n",
    "names = [\"Ann\", \"Bill\"]\n",
    "sexes = [\"Female\", \"Male\"]\n",
    "map((n,s) -> students[n] = s, names, sexes)"
   ]
  },
  {
   "cell_type": "code",
   "execution_count": 17,
   "metadata": {},
   "outputs": [
    {
     "data": {
      "text/plain": [
       "Dict{Any,Any} with 2 entries:\n",
       "  \"Bill\" => \"Male\"\n",
       "  \"Ann\"  => \"Female\""
      ]
     },
     "execution_count": 17,
     "metadata": {},
     "output_type": "execute_result"
    }
   ],
   "source": [
    "students"
   ]
  },
  {
   "cell_type": "markdown",
   "metadata": {},
   "source": [
    "<br>\n",
    "\n",
    "* When mapping a function with a single parameter, the parameter can be omitted, as follows:\n",
    "\n",
    "<br>\n",
    "\n",
    "```julia\n",
    "a = map(f, [1,2,3])\n",
    "```\n",
    "\n",
    "which is equal to \n",
    "\n",
    "```julia\n",
    "a = map(x->f(x), [1,2,3])\n",
    "```\n",
    "\n",
    "<br>"
   ]
  },
  {
   "cell_type": "markdown",
   "metadata": {},
   "source": [
    "## __3.3 Conditional Statements: `if` Blocks, Ternary Operator__"
   ]
  },
  {
   "cell_type": "markdown",
   "metadata": {},
   "source": [
    "<br>\n",
    "\n",
    "Conditional statements can be written as follows:\n",
    "\n",
    "<br>"
   ]
  },
  {
   "cell_type": "code",
   "execution_count": 18,
   "metadata": {},
   "outputs": [
    {
     "name": "stdout",
     "output_type": "stream",
     "text": [
      "i is neither 1 nor 2\n"
     ]
    }
   ],
   "source": [
    "i = 5\n",
    "if i == 1\n",
    "    println(\"i is 1\")\n",
    "elseif i == 2\n",
    "    println(\"i is 2\")\n",
    "else\n",
    "    println(\"i is neither 1 nor 2\")\n",
    "end"
   ]
  },
  {
   "cell_type": "markdown",
   "metadata": {},
   "source": [
    "<br>\n",
    "\n",
    "* Multiple conditions can be considered using the logical operators: _and_ (`&&`), _or_ (`||`), and _not_ (`!`)\n",
    "\n",
    "<br>"
   ]
  },
  {
   "cell_type": "markdown",
   "metadata": {},
   "source": [
    "<br>\n",
    "\n",
    "* The ternary operator is a concise way to write conditional statements:\n",
    "\n",
    "<br>\n",
    "\n",
    "```julia\n",
    "a ? b : c\n",
    "```"
   ]
  },
  {
   "cell_type": "markdown",
   "metadata": {},
   "source": [
    "<br>\n",
    "\n",
    "* This means: \"if a is true, then execute expression b; otherwise, execute expression c\"\n",
    "\n",
    "<br>"
   ]
  },
  {
   "cell_type": "markdown",
   "metadata": {},
   "source": []
  },
  {
   "cell_type": "markdown",
   "metadata": {},
   "source": [
    "## __3.4 Functions__\n",
    "\n",
    "<br>\n",
    "\n",
    "Julia's functions are rather flexible. They can be defined inline:\n",
    "\n",
    "```julia\n",
    "f(x,y) = 2x+y\n",
    "```\n",
    "\n",
    "<br>\n",
    "\n",
    "or with their own block introduced using the `function` keyword:\n",
    "\n",
    "```julia\n",
    "function f(x)\n",
    "    x + 2\n",
    "end\n",
    "```\n",
    "\n",
    "<br>\n",
    "\n",
    "A common third way is to create an anonymous function (called a lambda and discussed later)\n",
    "\n",
    "<br>\n",
    "\n",
    "* After a function has been _defined_ you can call it to execute it\n",
    "\n",
    "* Note that there isn't a separate step for _declaring_ the function in Julia\n"
   ]
  },
  {
   "cell_type": "markdown",
   "metadata": {},
   "source": [
    "<br>\n",
    "\n",
    "* Functions can be nested:\n",
    "\n",
    "<br>"
   ]
  },
  {
   "cell_type": "code",
   "execution_count": 19,
   "metadata": {},
   "outputs": [
    {
     "data": {
      "text/plain": [
       "f1 (generic function with 1 method)"
      ]
     },
     "execution_count": 19,
     "metadata": {},
     "output_type": "execute_result"
    }
   ],
   "source": [
    "## you need a good reason to do this (prolly don't!)\n",
    "\n",
    "## A nested function:\n",
    "function f1(x)\n",
    "    function f2(x, y)\n",
    "        x+y\n",
    "    end\n",
    "    f2(x,2)\n",
    "end"
   ]
  },
  {
   "cell_type": "code",
   "execution_count": 20,
   "metadata": {},
   "outputs": [
    {
     "data": {
      "text/plain": [
       "7"
      ]
     },
     "execution_count": 20,
     "metadata": {},
     "output_type": "execute_result"
    }
   ],
   "source": [
    "f1(5)"
   ]
  },
  {
   "cell_type": "markdown",
   "metadata": {},
   "source": [
    "\n",
    "* Functions can be recursive (meaning they call themselves):\n",
    "\n",
    "<br>"
   ]
  },
  {
   "cell_type": "code",
   "execution_count": 21,
   "metadata": {},
   "outputs": [
    {
     "data": {
      "text/plain": [
       "fib (generic function with 1 method)"
      ]
     },
     "execution_count": 21,
     "metadata": {},
     "output_type": "execute_result"
    }
   ],
   "source": [
    "## A recursive function\n",
    "\n",
    "function fib(n)\n",
    "    if n == 0 return 0\n",
    "    elseif n == 1 return 1\n",
    "    else\n",
    "        return fib(n-1) + fib(n-2)\n",
    "    end\n",
    "end"
   ]
  },
  {
   "cell_type": "code",
   "execution_count": 22,
   "metadata": {},
   "outputs": [
    {
     "data": {
      "text/plain": [
       "13"
      ]
     },
     "execution_count": 22,
     "metadata": {},
     "output_type": "execute_result"
    }
   ],
   "source": [
    "fib(7)"
   ]
  },
  {
   "cell_type": "markdown",
   "metadata": {},
   "source": [
    "<br>\n",
    "\n",
    "The following is considered best practice in the Julia community:\n",
    "\n",
    "1. Contain all the elements that the function needs for its logic (i.e. no read access to other variables, except constant globals)\n",
    "\n",
    "2. The function doesn't change any other part of the program that is not within the parameters (i.e. it doesn't produce any \"side effects\" other than eventually modifying its arguments)\n",
    "\n",
    "<br>"
   ]
  },
  {
   "cell_type": "markdown",
   "metadata": {},
   "source": [
    "#### __3.4.1 Arguments__"
   ]
  },
  {
   "cell_type": "markdown",
   "metadata": {},
   "source": [
    "<br>\n",
    "\n",
    "* Arguments are normally specified by position (_positional arguments_)\n",
    "\n",
    "* However, if a semicolon (`;`) is used in the parameter list, the arguments listed after that semincolon must be specified by name (_keyword arguments_)\n",
    "\n",
    "<br>\n",
    "\n",
    "* The last arguments (whether positional or keyword) can be specified together with a default value:\n",
    "\n",
    "    - Definition: `myfunction(a,b=1;c=2) = (a+b+c)` (definition with two positional arguments and one keyword argument)\n",
    "    \n",
    "    - Function call: `myfunction(1,c=3)` calling `(1+1+3)`. Note that $b$ is not provided in the call, and hence the default value is used\n",
    "    \n",
    "<br>"
   ]
  },
  {
   "cell_type": "markdown",
   "metadata": {},
   "source": [
    "<br>\n",
    "\n",
    "* You can give variables type annotations to restrict the types a function can accept: \n",
    "\n",
    "```julia\n",
    "myfunction(a::Int64, b::Int64=1; c::Int64=2) = (a + b + c)\n",
    "```\n",
    "\n",
    "<br>"
   ]
  },
  {
   "cell_type": "code",
   "execution_count": 23,
   "metadata": {},
   "outputs": [
    {
     "data": {
      "text/plain": [
       "myfunction (generic function with 2 methods)"
      ]
     },
     "execution_count": 23,
     "metadata": {},
     "output_type": "execute_result"
    }
   ],
   "source": [
    "myfunction(a::Int64, b::Int64=1; c::Int64=2) = (a + b + c)"
   ]
  },
  {
   "cell_type": "code",
   "execution_count": 25,
   "metadata": {},
   "outputs": [
    {
     "data": {
      "text/plain": [
       "6"
      ]
     },
     "execution_count": 25,
     "metadata": {},
     "output_type": "execute_result"
    }
   ],
   "source": [
    "myfunction(1,c=4)"
   ]
  },
  {
   "cell_type": "code",
   "execution_count": 26,
   "metadata": {},
   "outputs": [
    {
     "ename": "LoadError",
     "evalue": "MethodError: no method matching myfunction(::String, ::String)",
     "output_type": "error",
     "traceback": [
      "MethodError: no method matching myfunction(::String, ::String)",
      "",
      "Stacktrace:",
      " [1] top-level scope at In[26]:2",
      " [2] include_string(::Function, ::Module, ::String, ::String) at ./loading.jl:1091"
     ]
    }
   ],
   "source": [
    "## using the wrong types will raise an error\n",
    "myfunction(\"bob\", \"joe\")"
   ]
  },
  {
   "cell_type": "markdown",
   "metadata": {},
   "source": [
    "<br>\n",
    "\n",
    "* The use of type annotations is not so much for performance\n",
    "\n",
    "* Julia will typically resolve the types for you pretty well\n",
    "\n",
    "* It does help to prevent type instability\n",
    "\n",
    "* It can help catch bugs early on\n",
    "\n",
    "* Julia will produce useful error messages\n",
    "\n",
    "<br>"
   ]
  },
  {
   "cell_type": "markdown",
   "metadata": {},
   "source": [
    "<br>\n",
    "\n",
    "A common case is when you want the function to process single values (scalars) or vectors of a given parameter. \n",
    "\n",
    "We typically have to options:\n",
    "\n",
    "1. You can write the function to treat the scalar and rely then on the dotted notation to broadcast the function at call time \n",
    "\n",
    "2. You may want to directly deal with this in the function definition\n",
    "    - Declare the parameter as being a scalar type `T` \n",
    "    - Declare the parameter as being a vector type `T` using a union\n",
    "    \n",
    "<br>"
   ]
  },
  {
   "cell_type": "markdown",
   "metadata": {},
   "source": [
    "<br>\n",
    "\n",
    "* Finally, functions in Julia can accept a variable number of arguments \n",
    "\n",
    "* The splat operator (i.e., the ellipsis...) can specify a variable number of arguments in the parameter declaration\n",
    "\n",
    "<br>"
   ]
  },
  {
   "cell_type": "code",
   "execution_count": 27,
   "metadata": {},
   "outputs": [
    {
     "data": {
      "text/plain": [
       "additional_average (generic function with 1 method)"
      ]
     },
     "execution_count": 27,
     "metadata": {},
     "output_type": "execute_result"
    }
   ],
   "source": [
    "values = [1,2,3]\n",
    "function additional_average(init, args...)\n",
    "    # the parameter that uses the ellipsis must be the last one\n",
    "    s = 0\n",
    "    for arg in args\n",
    "        s += arg\n",
    "    end\n",
    "    return init + s/length(args)\n",
    "end"
   ]
  },
  {
   "cell_type": "code",
   "execution_count": 28,
   "metadata": {},
   "outputs": [
    {
     "data": {
      "text/plain": [
       "12.0"
      ]
     },
     "execution_count": 28,
     "metadata": {},
     "output_type": "execute_result"
    }
   ],
   "source": [
    "a = additional_average(10, 1, 2, 3)"
   ]
  },
  {
   "cell_type": "code",
   "execution_count": 29,
   "metadata": {},
   "outputs": [
    {
     "data": {
      "text/plain": [
       "12.0"
      ]
     },
     "execution_count": 29,
     "metadata": {},
     "output_type": "execute_result"
    }
   ],
   "source": [
    "a = additional_average(10, values ...)"
   ]
  },
  {
   "cell_type": "markdown",
   "metadata": {},
   "source": [
    "#### __3.4.2 Return Value__"
   ]
  },
  {
   "cell_type": "markdown",
   "metadata": {},
   "source": [
    "<br>\n",
    "\n",
    "* Providing a return value via the keyword `return` is optional\n",
    "\n",
    "* By default functions return the last computed value\n",
    "\n",
    "* Often `return` is used to immediately terminate a function\n",
    "\n",
    "<br>\n",
    "\n",
    "* The return value can also be a tuple:"
   ]
  },
  {
   "cell_type": "code",
   "execution_count": 42,
   "metadata": {},
   "outputs": [
    {
     "data": {
      "text/plain": [
       "myfunc (generic function with 1 method)"
      ]
     },
     "execution_count": 42,
     "metadata": {},
     "output_type": "execute_result"
    }
   ],
   "source": [
    "myfunc(a,b) = a*2,b+2"
   ]
  },
  {
   "cell_type": "code",
   "execution_count": 43,
   "metadata": {},
   "outputs": [
    {
     "data": {
      "text/plain": [
       "(2, 4)"
      ]
     },
     "execution_count": 43,
     "metadata": {},
     "output_type": "execute_result"
    }
   ],
   "source": [
    "myfunc(1,2)"
   ]
  },
  {
   "cell_type": "code",
   "execution_count": 44,
   "metadata": {},
   "outputs": [
    {
     "data": {
      "text/plain": [
       "(2, 4)"
      ]
     },
     "execution_count": 44,
     "metadata": {},
     "output_type": "execute_result"
    }
   ],
   "source": [
    "x,y = myfunc(1,2)"
   ]
  },
  {
   "cell_type": "markdown",
   "metadata": {},
   "source": []
  },
  {
   "cell_type": "markdown",
   "metadata": {},
   "source": [
    "#### __3.4.3 Multiple-Dispatch (aka Polymorphism)__"
   ]
  },
  {
   "cell_type": "markdown",
   "metadata": {},
   "source": [
    "<br>\n",
    "\n",
    "* When similar logic should be applied to different kind of objects (i.e., different types), you can write functions that share the same name\n",
    "\n",
    "* Have different types or different numbers of parameters (and different implementation)\n",
    "\n",
    "* This highly simplifies the Applications Programming Interface (API) of your application (only one name has to be remembered)\n",
    "\n",
    "* When calling functions, Julia will pick the correct one depending on the parameters in the call, selecting by default the stricter version\n",
    "\n",
    "* These different versions are called _methods_ in Julia and, if the function is type-safe, dispatch is implemented at compile time and is very fast\n",
    "\n",
    "* You can list all the methods of a given function by using `methods(myfunction)`\n",
    "\n",
    "* The multiple-dispatch polymorphism is a generalization of object-oriented runtime polymorphism\n",
    "\n",
    "* The same function name performs different tasks, depending on which is the object's class\n",
    "\n",
    "* The polymorphism in traditional OOP languages is applied only to a single element\n",
    "\n",
    "* In Julia it applies to all the function arguments \n",
    "\n",
    "* We will see more of this later in Chapter 4\n",
    "\n",
    "<br>"
   ]
  },
  {
   "cell_type": "markdown",
   "metadata": {},
   "source": [
    "#### __3.4.4 Templates (Type Parameterization)__"
   ]
  },
  {
   "cell_type": "markdown",
   "metadata": {},
   "source": [
    "Functions can be specified regarding which types they work with. You do this with templates:\n",
    "\n",
    "```julia\n",
    "myfunction(x::T, y::T2, z::T2) where {T <: Number, T2} = x + y + z\n",
    "```"
   ]
  },
  {
   "cell_type": "markdown",
   "metadata": {},
   "source": [
    "<br>\n",
    "\n",
    "* This function first defines two types, `T` (a subset of `Number`) and `T2`\n",
    "\n",
    "* Then it specifies which of these two types each parameter must be\n",
    "\n",
    "* You can call it with `(1,2,3)` or `(1,2.5,3.5)` as a parameter\n",
    "\n",
    "* Not with `(1,2,3.5)` as the definition of `myfunction` requires the 2nd and 3rd parameter must be of the same type\n",
    "\n",
    "<br>"
   ]
  },
  {
   "cell_type": "markdown",
   "metadata": {},
   "source": [
    "#### __3.4.5 Functions as Objects__"
   ]
  },
  {
   "cell_type": "markdown",
   "metadata": {},
   "source": [
    "<br>\n",
    "\n",
    "* Functions themselves are objects and can be assigned to new variables, returned, or nested\n",
    "\n",
    "<br>"
   ]
  },
  {
   "cell_type": "code",
   "execution_count": 45,
   "metadata": {},
   "outputs": [
    {
     "data": {
      "text/plain": [
       "f (generic function with 1 method)"
      ]
     },
     "execution_count": 45,
     "metadata": {},
     "output_type": "execute_result"
    }
   ],
   "source": [
    "f(x) = 2x # define a function f inline"
   ]
  },
  {
   "cell_type": "code",
   "execution_count": 49,
   "metadata": {},
   "outputs": [
    {
     "data": {
      "text/plain": [
       "4"
      ]
     },
     "execution_count": 49,
     "metadata": {},
     "output_type": "execute_result"
    }
   ],
   "source": [
    "a = f(2) # call f and assign the return value to a. `a` is a value"
   ]
  },
  {
   "cell_type": "code",
   "execution_count": 50,
   "metadata": {},
   "outputs": [
    {
     "data": {
      "text/plain": [
       "f (generic function with 1 method)"
      ]
     },
     "execution_count": 50,
     "metadata": {},
     "output_type": "execute_result"
    }
   ],
   "source": [
    "a = f # bind f to a new variable name. `a` is now a function"
   ]
  },
  {
   "cell_type": "code",
   "execution_count": 51,
   "metadata": {},
   "outputs": [
    {
     "data": {
      "text/plain": [
       "10"
      ]
     },
     "execution_count": 51,
     "metadata": {},
     "output_type": "execute_result"
    }
   ],
   "source": [
    "a(5) # call again the (same) function"
   ]
  },
  {
   "cell_type": "markdown",
   "metadata": {},
   "source": [
    "#### __3.4.6 Call by Reference/Call by Value__"
   ]
  },
  {
   "cell_type": "markdown",
   "metadata": {},
   "source": [
    "<br>\n",
    "\n",
    "* Julia functions are called using a convention - sometimes known as _call-by-sharing_ in other languages\n",
    "\n",
    "* This is somehow in between the traditional _call by reference_ and _call by value_ "
   ]
  },
  {
   "cell_type": "markdown",
   "metadata": {},
   "source": [
    "<br>\n",
    "\n",
    "* In Julia, functions work on new local variables, known only inside the function itself\n",
    "\n",
    "* Assigning the variable to another object will not influence the original variable\n",
    "\n",
    "* If the object bound with the variable is mutable (e.g., an array), the _mutation_ of this object will apply to the original variable as well:"
   ]
  },
  {
   "cell_type": "code",
   "execution_count": 52,
   "metadata": {},
   "outputs": [
    {
     "data": {
      "text/plain": [
       "g (generic function with 1 method)"
      ]
     },
     "execution_count": 52,
     "metadata": {},
     "output_type": "execute_result"
    }
   ],
   "source": [
    "function g(x,y)\n",
    "    x = 10\n",
    "    y[1] = 10\n",
    "end"
   ]
  },
  {
   "cell_type": "code",
   "execution_count": 53,
   "metadata": {},
   "outputs": [
    {
     "data": {
      "text/plain": [
       "2-element Array{Int64,1}:\n",
       " 1\n",
       " 1"
      ]
     },
     "execution_count": 53,
     "metadata": {},
     "output_type": "execute_result"
    }
   ],
   "source": [
    "x = 1\n",
    "y = [1,1]"
   ]
  },
  {
   "cell_type": "code",
   "execution_count": 55,
   "metadata": {},
   "outputs": [
    {
     "data": {
      "text/plain": [
       "10"
      ]
     },
     "execution_count": 55,
     "metadata": {},
     "output_type": "execute_result"
    }
   ],
   "source": [
    "g(x,y) # x will not change, but y will now be [10, 1]"
   ]
  },
  {
   "cell_type": "code",
   "execution_count": 56,
   "metadata": {},
   "outputs": [
    {
     "data": {
      "text/plain": [
       "1"
      ]
     },
     "execution_count": 56,
     "metadata": {},
     "output_type": "execute_result"
    }
   ],
   "source": [
    "x"
   ]
  },
  {
   "cell_type": "code",
   "execution_count": 57,
   "metadata": {},
   "outputs": [
    {
     "data": {
      "text/plain": [
       "2-element Array{Int64,1}:\n",
       " 10\n",
       "  1"
      ]
     },
     "execution_count": 57,
     "metadata": {},
     "output_type": "execute_result"
    }
   ],
   "source": [
    "y"
   ]
  },
  {
   "cell_type": "markdown",
   "metadata": {},
   "source": [
    "<br>\n",
    "\n",
    "* By convention, functions that change their arguments have their name followed by a `!`\n",
    "\n",
    "```julia\n",
    "myfunction!(ref_par, other_pars)\n",
    "```\n",
    "\n",
    "* The first parameter is, still by convention, the one that will be modified"
   ]
  },
  {
   "cell_type": "markdown",
   "metadata": {},
   "source": [
    "#### __3.4.7 Anonymous Functions (aka \"Lambda\" Functions)__"
   ]
  },
  {
   "cell_type": "markdown",
   "metadata": {},
   "source": [
    "<br>\n",
    "\n",
    "* Sometimes you don't need to name a function\n",
    "\n",
    "* For example, when the function is an argument being passed to higher-order functions, like the `map` function\n",
    "\n",
    "* To define anonymous (nameless) functions, you can use the `->` syntax as follows:\n",
    "\n",
    "```julia\n",
    "x -> x^2 + 2x - 1\n",
    "```\n",
    "\n",
    "<br>"
   ]
  },
  {
   "cell_type": "markdown",
   "metadata": {},
   "source": [
    "* This defines a nameless function that takes an argument, `x`, and produces `x^2 + 2x - 1`"
   ]
  },
  {
   "cell_type": "markdown",
   "metadata": {},
   "source": [
    "* Multiple arguments can be provided using tuples, as follows:"
   ]
  },
  {
   "cell_type": "markdown",
   "metadata": {},
   "source": [
    "```julia\n",
    "(x,y,z) -> x + y + z\n",
    "```"
   ]
  },
  {
   "cell_type": "markdown",
   "metadata": {},
   "source": [
    "* You can still assign an anonymous function to a variable this way: "
   ]
  },
  {
   "cell_type": "markdown",
   "metadata": {},
   "source": [
    "```julia\n",
    "f = (x,y) -> x+y\n",
    "```"
   ]
  },
  {
   "cell_type": "markdown",
   "metadata": {},
   "source": [
    "#### __3.4.8 Broadcasting Functions__"
   ]
  },
  {
   "cell_type": "markdown",
   "metadata": {},
   "source": [
    "<br>\n",
    "\n",
    "* You may have a function defined to take scalars, but wish to apply it to values in a container (such as an array)\n",
    "\n",
    "* Instead of writing `for` loops, you can reply on a native functionality of Julia, which is to _broadcast_ the function over the elements you wish"
   ]
  },
  {
   "cell_type": "markdown",
   "metadata": {},
   "source": [
    "Take, for example, the following function:"
   ]
  },
  {
   "cell_type": "markdown",
   "metadata": {},
   "source": [
    "```julia\n",
    "f1(a::Int64,b::Int64) = a*b\n",
    "```"
   ]
  },
  {
   "cell_type": "markdown",
   "metadata": {},
   "source": [
    "It expects as input two scalars. For example:"
   ]
  },
  {
   "cell_type": "markdown",
   "metadata": {},
   "source": [
    "```julia\n",
    "f1(2,3)\n",
    "```"
   ]
  },
  {
   "cell_type": "markdown",
   "metadata": {},
   "source": [
    "* But what if `a` and `b` and vectors (say`a=[2,3]` and `b=[3,4]`)?"
   ]
  },
  {
   "cell_type": "markdown",
   "metadata": {},
   "source": [
    "* You cannot directly call the function as `f1([2,3],[3,4])`"
   ]
  },
  {
   "cell_type": "markdown",
   "metadata": {},
   "source": [
    "* The solution is to use the function `broadcast()`, which takes the original function as its first argument followed by the original functions arguments:"
   ]
  },
  {
   "cell_type": "markdown",
   "metadata": {},
   "source": [
    "```julia\n",
    "broadcast(f1, [2,3], [3,4])\n",
    "```"
   ]
  },
  {
   "cell_type": "markdown",
   "metadata": {},
   "source": [
    "* The output is a vector that holds the result of the original function applied first to `(a=2,b=3)` and then `(a=3,b=4)`"
   ]
  },
  {
   "cell_type": "markdown",
   "metadata": {},
   "source": [
    "* A handy shortcut to `broadcast` is to use the dot notation, i.e., the original function name followed by a dot: `f1.([2,3],[3,4])`"
   ]
  },
  {
   "cell_type": "markdown",
   "metadata": {},
   "source": [
    "* Sometimes the original function natively takes some parameters as a vector, and you want to limit the broadcast to the scalar parameters"
   ]
  },
  {
   "cell_type": "markdown",
   "metadata": {},
   "source": [
    "* In such cases, you can use the `Ref()` function to protect the parameters that you don't want to be broadcast:"
   ]
  },
  {
   "cell_type": "markdown",
   "metadata": {},
   "source": [
    "```julia\n",
    "f2(a::Int64,b::Int64,c::Array{Int64,1},d::Array{Int64,1}) = a*b+sum(c)-sum(d)\n",
    "```"
   ]
  },
  {
   "cell_type": "markdown",
   "metadata": {},
   "source": [
    "```julia\n",
    "f2(1,2,[1,2,3],[0,0,1]) # normal call without broadcast\n",
    "```"
   ]
  },
  {
   "cell_type": "markdown",
   "metadata": {},
   "source": [
    "```julia\n",
    "f2.([1,1,1],[2,2,2],Ref([1,2,3]),Ref([0,0,1])) # broadcast over the first two arguments only\n",
    "```"
   ]
  },
  {
   "cell_type": "markdown",
   "metadata": {},
   "source": [
    "## __3.5 Do Blocks__"
   ]
  },
  {
   "cell_type": "markdown",
   "metadata": {},
   "source": [
    "* We finish this notebook by analyzing `do` blocks. `Do` blocks allow developers to define \"anonymous\" functions that are passed as arguments to outer functions"
   ]
  },
  {
   "cell_type": "markdown",
   "metadata": {},
   "source": [
    "```julia\n",
    "f1(2,8) do i, j\n",
    "    i*j\n",
    "end\n",
    "```"
   ]
  },
  {
   "cell_type": "markdown",
   "metadata": {},
   "source": [
    "* This defines `i` and `j` as local variables that are made available to the `do` block"
   ]
  },
  {
   "cell_type": "markdown",
   "metadata": {},
   "source": [
    "* Their values are determined in the `f1` function (in this case, `i=2+1` and `j=2+2`)"
   ]
  },
  {
   "cell_type": "markdown",
   "metadata": {},
   "source": [
    "* The result of the block computation is then made available as the output of the function acting as the first parameter of `f1`"
   ]
  },
  {
   "cell_type": "markdown",
   "metadata": {},
   "source": [
    "* What you do with this value is specified by the definition of the `f1` function (in this case, the value `8` is added to it to make `20`, the returned value)"
   ]
  },
  {
   "cell_type": "markdown",
   "metadata": {},
   "source": [
    "* Typical use of `do` blocks is within input/output operations as will be seen in Chapter 5"
   ]
  },
  {
   "cell_type": "markdown",
   "metadata": {},
   "source": [
    "## __3.6 Exiting Julia__"
   ]
  },
  {
   "cell_type": "markdown",
   "metadata": {},
   "source": [
    "Please see the chapter for this section."
   ]
  },
  {
   "cell_type": "markdown",
   "metadata": {},
   "source": []
  }
 ],
 "metadata": {
  "kernelspec": {
   "display_name": "Julia 1.5.3",
   "language": "julia",
   "name": "julia-1.5"
  },
  "language_info": {
   "file_extension": ".jl",
   "mimetype": "application/julia",
   "name": "julia",
   "version": "1.5.3"
  }
 },
 "nbformat": 4,
 "nbformat_minor": 4
}
